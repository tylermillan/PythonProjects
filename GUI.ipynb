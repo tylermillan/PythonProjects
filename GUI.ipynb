{
 "cells": [
  {
   "cell_type": "markdown",
   "metadata": {
    "outputExpanded": false
   },
   "source": [
    "# <span style=\"color:teal;\">CIS 211 Project 6:  N-Body GUI</span>"
   ]
  },
  {
   "cell_type": "markdown",
   "metadata": {
    "outputExpanded": false
   },
   "source": [
    "##### Due 11:00 P.M.  May 21, 2017"
   ]
  },
  {
   "cell_type": "markdown",
   "metadata": {
    "outputExpanded": false
   },
   "source": [
    "##### Reading:  Online Tutorials"
   ]
  },
  {
   "cell_type": "markdown",
   "metadata": {
    "outputExpanded": false
   },
   "source": [
    "For this week's project you will create the elements used in a GUI for visualizing the solar system simulation: \n",
    "* a subclass of Body that adds attributes used to display a planet \n",
    "* a new type of Canvas with methods for drawing and moving planets\n",
    "* a subclass of Tk's spinbox used to control the number of planets to display\n",
    "* a frame that has a run button and a place to enter the simulation parameters"
   ]
  },
  {
   "cell_type": "markdown",
   "metadata": {
    "outputExpanded": false
   },
   "source": [
    "###  <span style=\"color:teal\">N-Body Simulation Code</span>"
   ]
  },
  {
   "cell_type": "markdown",
   "metadata": {
    "outputExpanded": false
   },
   "source": [
    "This week's project will use the Vector and Body classes from Project 4 and the Planet class and `step_system` function from Project 5.  There are two ways to use that code in this project:  (1) copy your definitions from the previous projects, or (2) download the instructor's solution from Canvas.\n",
    "\n",
    "Instructions for both methods are in the next two sections.  **Use either of these methods, but not both.**  \n",
    "\n",
    "Note: you will earn **extra credit points** if you use your own code."
   ]
  },
  {
   "cell_type": "markdown",
   "metadata": {
    "outputExpanded": false
   },
   "source": [
    "####  <span style=\"color:teal\">Option 1: &nbsp; Use Your Own Code</span>"
   ]
  },
  {
   "cell_type": "markdown",
   "metadata": {
    "outputExpanded": false
   },
   "source": [
    "Choose this method only if your class definitions and `step_system` functions from the Planets and Orbits projects passed all their unit tests. Copy the complete definitions from your other notebooks and paste them into the code cells below.  "
   ]
  },
  {
   "cell_type": "code",
   "execution_count": 148,
   "metadata": {
    "collapsed": true,
    "outputExpanded": false
   },
   "outputs": [],
   "source": [
    "from math import sqrt\n",
    "\n",
    "class Vector:\n",
    "    \"\"\"\n",
    "    A Vector object represents a 3 dimensional geometric object that has length and direction in space.\n",
    "    It is represented as the coordninates (x,y,z) which correspond to its location.\n",
    "    \"\"\"\n",
    "    \n",
    "    def __init__(self,x,y,z):\n",
    "        self._x = x\n",
    "        self._y = y\n",
    "        self._z = z\n",
    "        \n",
    "    def __repr__(self):\n",
    "        return \"({:.3g},{:.3g},{:.3g})\".format(self._x,self._y,self._z)\n",
    "    \n",
    "    def x(self):\n",
    "        return self._x\n",
    "    \n",
    "    def y(self):\n",
    "        return self._y\n",
    "    \n",
    "    def z(self):\n",
    "        return self._z\n",
    "    \n",
    "    def norm(self):\n",
    "        \"\"\"\n",
    "        Computes the magnitude of a vector.\n",
    "\n",
    "       :param Vector self: A given Vector of coordinates.\n",
    "       :return: the magnitude of a given vector.\n",
    "       :rtype: float\n",
    "        \"\"\"\n",
    "        return (sqrt((self._x**2)+(self._y**2)+(self._z**2)))\n",
    "    \n",
    "    def __add__(self, other):\n",
    "        return Vector(self._x + other._x, self._y + other._y, self._z + other._z)\n",
    "    \n",
    "    def __sub__(self, other):\n",
    "        return Vector(self._x - other._x, self._y - other._y, self._z - other._z)\n",
    "    \n",
    "    def __mul__(self,other):\n",
    "        return Vector(self._x * other, self._y * other, self._z * other)\n",
    "\n",
    "    def __eq__(self,other):\n",
    "        return Vector((round(self._x-other._x,3) == 0), (round(self._y-other._y,3) == 0) ,round(self._z-other._z,3) == 0)\n",
    "    \n",
    "    def __ne__(self,other):\n",
    "        return Vector((round(self._x-other._x,3) != 0), (round(self._y-other._y,3) != 0) ,round(self._z-other._z,3) != 0)\n",
    "    \n",
    "    def clear(self):\n",
    "        \"\"\"\n",
    "        Clears the value of a Vector to all 0's.\n",
    "\n",
    "       :param Vector self: A given Vector of coordinates.\n",
    "       :return: a Vector of values with coordinates (0,0,0).\n",
    "       :rtype: Vector\n",
    "        \n",
    "        \"\"\"\n",
    "        self._x = 0\n",
    "        self._y = 0\n",
    "        self._z = 0"
   ]
  },
  {
   "cell_type": "code",
   "execution_count": 149,
   "metadata": {
    "collapsed": true,
    "outputExpanded": false
   },
   "outputs": [],
   "source": [
    "G = 6.67E-11\n",
    "\n",
    "class Body:\n",
    "    \"\"\"\n",
    "    A Body object represents the state of a celestial body.  A body has mass \n",
    "    (a scalar), position (a vector), and velocity (a vector).  A third vector, \n",
    "    named force, is used when calculating forces acting on a body.\n",
    "    \"\"\"\n",
    "    def __init__(self, mass=0,position=Vector(0,0,0), velocity=Vector(0,0,0), force=Vector(0,0,0)):\n",
    "        self._mass = mass\n",
    "        self._position = position\n",
    "        self._velocity = velocity\n",
    "        self._force = force\n",
    "        \n",
    "    def __repr__(self):\n",
    "        return \"{:.3g}kg {} {}\".format(self._mass,self._position,self._velocity)\n",
    "    \n",
    "    def mass(self):\n",
    "        return self._mass\n",
    "    \n",
    "    def position(self):\n",
    "        return self._position\n",
    "    \n",
    "    def velocity(self): \n",
    "        return self._velocity\n",
    "    \n",
    "    def force(self):\n",
    "        return self._force\n",
    "    \n",
    "    def direction(self, other):\n",
    "        \"\"\"\n",
    "        a method which takes another Body object \n",
    "        as a parameter and returns a vector that \"points at\" the other Body.\n",
    "\n",
    "       :param Body self: A Body object.\n",
    "       :param Body other: Another Body object.\n",
    "       :return: a body object with an updated position vector that \"points at\" the other Body.\n",
    "       :rtype: Body\n",
    "        \"\"\"\n",
    "        return self._position-other._position\n",
    "    \n",
    "    def clear_force(self):\n",
    "        \"\"\"\n",
    "        a method that sets the force vector to (0,0,0) by calling that vector's clear method\n",
    "\n",
    "       :param Body self: A Body object.\n",
    "       :return:A body object with the the force updated with the  force vector\n",
    "       of a Body object to  being reset to (0,0,0).\n",
    "       :rtype: Body\n",
    "        \n",
    "        \"\"\"\n",
    "        return self._force.clear()\n",
    "            \n",
    "    def add_force(self,other):\n",
    "        \"\"\"\n",
    "        a method that computes a force of an object pulling on the force of another object.\n",
    "\n",
    "       :param Body self: A Body object.\n",
    "       :param Body other: Another Body object.\n",
    "       :return: A body object with the the force updated with the force its is being pulled on by another object.\n",
    "       :rtype: Body\n",
    "        \n",
    "        \"\"\"\n",
    "        self._force = self._force - ((self.direction(other)) * ((other._mass) / (self.direction(other).norm()**3)))\n",
    "        return self._force\n",
    "    \n",
    "    def move(self,dt):\n",
    "        \"\"\"\n",
    "        a method that uses the current value of the force vector to update the object's position\n",
    "        with the objects acceleration\n",
    "\n",
    "       :param Body self: A Body object.\n",
    "       :param number dt: a time step size \n",
    "       :return: Body object with an updated position vector .\n",
    "       :rtype: Body\n",
    "        \n",
    "        \"\"\"\n",
    "        A= self._force * G\n",
    "        self._velocity = self._velocity+A*dt\n",
    "        self._position = self._position + self._velocity*dt"
   ]
  },
  {
   "cell_type": "code",
   "execution_count": 150,
   "metadata": {
    "collapsed": true,
    "outputExpanded": false
   },
   "outputs": [],
   "source": [
    "class Planet(Body):\n",
    "    \"\"\"\n",
    "    A Planet object represents the state of a celestial body.  A body has mass \n",
    "    (a scalar), position (a vector), and velocity (a vector).  A third vector, \n",
    "    named force, is used when calculating forces acting on a body.\n",
    "    \"\"\"\n",
    "    def __init__(self,mass=0,position=Vector(0,0,0), velocity=Vector(0,0,0), force=Vector(0,0,0), color=\"\", name = \"\"):\n",
    "        \"\"\"\n",
    "        Create a new Planet with mass, position,velocity,force,color, and name\n",
    "        \n",
    "        :param Planet self: A Planet object.\n",
    "        :param float mass: the mass of a Planet\n",
    "        :param Vector position: the position of the planet\n",
    "        :param Vector velocity: the velocity of a planet\n",
    "        :param Vector force: the force of a planet\n",
    "        :param string color:the color of a planet\n",
    "        :param string name: the name of a planet\n",
    "        :return: Planet object.\n",
    "        :rtype: Planet\n",
    "        \"\"\"\n",
    "        super().__init__(mass,position, velocity, force)\n",
    "        self._color= color\n",
    "        self._name= name\n",
    "        \n",
    "    def name(self):\n",
    "        \"\"\"\n",
    "        returns the name of the Planet\n",
    "        \n",
    "       :param Body self: A Planet object.\n",
    "       :return: string explaining the assigned name of the Planet object.\n",
    "       :rtype: string\n",
    "        \"\"\"\n",
    "        return self._name\n",
    "    \n",
    "    def color(self):\n",
    "        \"\"\"\n",
    "        returns the color of the planet\n",
    "        \n",
    "       :param Body self: A Planet object.\n",
    "       :return: string explaining the assigned color of the Planet object.\n",
    "       :rtype: string\n",
    "        \"\"\"\n",
    "        return self._color"
   ]
  },
  {
   "cell_type": "code",
   "execution_count": 151,
   "metadata": {
    "collapsed": true,
    "outputExpanded": false
   },
   "outputs": [],
   "source": [
    "def step_system(bodies, dt=86459, nsteps=1):\n",
    "    \"\"\"\n",
    "    Draws a set of concentric circles.  \n",
    "\n",
    "    :param body bodies: a list of body and planet items\n",
    "    :param number dt:size of the time step\n",
    "    :param number nsteps: number of times to simulate\n",
    "    :return: returns the x,y coordinates of the location at each time step for each planet\n",
    "    :rtype: List\n",
    "        \n",
    "    \"\"\"\n",
    "    n = len(bodies)\n",
    "    orbits = [[] for p in range(n)]\n",
    "    counter=0\n",
    "    \n",
    "    for l in range (nsteps):\n",
    "        for i in range(n-1):\n",
    "            for j in range (n-1):\n",
    "                if i != j:\n",
    "                    bodies[i].add_force(bodies[j])\n",
    "            bodies[i].move(dt)\n",
    "            bodies[i].clear_force()\n",
    "            \n",
    "        for body in bodies:\n",
    "            x=body.position().x()\n",
    "            y=body.position().y()\n",
    "            z=(x,y)\n",
    "            orbits[counter].append(z)\n",
    "            counter +=1\n",
    "        counter=0\n",
    "                \n",
    "    return orbits"
   ]
  },
  {
   "cell_type": "markdown",
   "metadata": {
    "outputExpanded": false
   },
   "source": [
    "####  <span style=\"color:teal\">Option 2: &nbsp; Download `Orbits.pyc` from Canvas </span>"
   ]
  },
  {
   "cell_type": "markdown",
   "metadata": {
    "outputExpanded": false
   },
   "source": [
    "Download one of the `Orbits.cpython-3x.pyc` files, rename it `Orbits.pyc`, and move it to the same folder as this notebook.  Then uncomment and execute the `import` command in the code cell below.\n",
    "\n",
    "**Make sure you get the right file for your version of Python.**"
   ]
  },
  {
   "cell_type": "code",
   "execution_count": 152,
   "metadata": {
    "collapsed": false,
    "outputExpanded": false
   },
   "outputs": [],
   "source": [
    "#from Orbits import *"
   ]
  },
  {
   "cell_type": "markdown",
   "metadata": {
    "outputExpanded": false
   },
   "source": [
    "###  <span style=\"color:teal\">Libraries and Constants</span>"
   ]
  },
  {
   "cell_type": "markdown",
   "metadata": {
    "outputExpanded": false
   },
   "source": [
    "Execute these code cells each time you open the notebook.  The cell that defines two global constants will allow us to run autograder tests when the notebook is loaded into Jupyter but not when the program is run from the command line."
   ]
  },
  {
   "cell_type": "code",
   "execution_count": 153,
   "metadata": {
    "collapsed": true,
    "outputExpanded": false
   },
   "outputs": [],
   "source": [
    "IPython = (__doc__ is not None) and ('IPython' in __doc__)\n",
    "Main    = __name__ == '__main__'"
   ]
  },
  {
   "cell_type": "code",
   "execution_count": 154,
   "metadata": {
    "collapsed": true,
    "outputExpanded": false
   },
   "outputs": [],
   "source": [
    "if IPython:\n",
    "    %gui tk"
   ]
  },
  {
   "cell_type": "code",
   "execution_count": 155,
   "metadata": {
    "collapsed": true,
    "outputExpanded": false
   },
   "outputs": [],
   "source": [
    "import tkinter as tk\n",
    "import tkinter.ttk as ttk\n",
    "from tkinter import filedialog\n",
    "from time import sleep"
   ]
  },
  {
   "cell_type": "markdown",
   "metadata": {
    "outputExpanded": false
   },
   "source": [
    "###  <span style=\"color:teal\">Helper Function</span>"
   ]
  },
  {
   "cell_type": "markdown",
   "metadata": {
    "outputExpanded": false
   },
   "source": [
    "To help test and debug your code execute this code cell to define a function named `read_bodies`.\n",
    "\n",
    "The first argument passed to the function should be the name of the file containing planet descriptions.  Download `solarsystem.txt` from Canvas and save it in the same directory as this notebook.\n",
    "\n",
    "The second argument is the type of Body object you want to make.  If you call\n",
    "```\n",
    ">>> read_bodies('solarsystem.txt', Body)\n",
    "```\n",
    "you will get back a list of Body objects (you should to this to make sure you can read the data file).  \n",
    "\n",
    "Part 1 of this week's project is to defined a new class named TkPlanet that is derived from the Planet class. If you call\n",
    "```\n",
    ">>> read_bodies('solarsystem.txt', TkPlanet)\n",
    "```\n",
    "you will get a list of TkPlanet objects that include the attributes needed to draw the planets on a canvas."
   ]
  },
  {
   "cell_type": "code",
   "execution_count": 156,
   "metadata": {
    "collapsed": true,
    "deletable": false,
    "editable": false,
    "nbgrader": {
     "checksum": "efb8cae6d3acdc3934d70c822ae92989",
     "grade": false,
     "grade_id": "read_bodies",
     "locked": true,
     "schema_version": 1,
     "solution": false
    },
    "outputExpanded": false
   },
   "outputs": [],
   "source": [
    "def read_bodies(filename, cls):\n",
    "    '''\n",
    "    Read descriptions of planets, return a list of body objects.  The first\n",
    "    argument is the name of a file with one planet description per line, the\n",
    "    second argument is the type of object to make for each planet.\n",
    "    '''\n",
    "    if not issubclass(cls, Body):\n",
    "        raise TypeError('cls must be Body or a subclass of Body')\n",
    "\n",
    "    bodies = [ ]\n",
    "\n",
    "    with open(filename) as bodyfile:\n",
    "        for line in bodyfile:\n",
    "            line = line.strip()\n",
    "            if len(line) == 0 or line[0] == '#':\n",
    "                continue\n",
    "            name, m, rx, ry, rz, vx, vy, vz, rad, color = line.split()\n",
    "            args = {\n",
    "                'mass' : float(m),\n",
    "                'position' : Vector(float(rx), float(ry), float(rz)),\n",
    "                'velocity' : Vector(float(vx), float(vy), float(vz)),\n",
    "            }\n",
    "            opts = {'name': name, 'color': color, 'size': int(rad)}\n",
    "            for x in opts:\n",
    "                if getattr(cls, x, None):\n",
    "                    args[x] = opts[x]\n",
    "            bodies.append(cls(**args))\n",
    "\n",
    "    return bodies\n"
   ]
  },
  {
   "cell_type": "markdown",
   "metadata": {
    "outputExpanded": false
   },
   "source": [
    "###  <span style=\"color:teal\">Part 1: &nbsp; TkPlanet (20 points)</span>"
   ]
  },
  {
   "cell_type": "markdown",
   "metadata": {
    "outputExpanded": false
   },
   "source": [
    "Fill in the definition of the TkPlanet class in the code cell below.  The constructor should accept the same arguments as the Planet class constructor plus one new attribute:\n",
    "* `size` is the radius, in pixels, of the circle to draw to represent the body\n",
    "\n",
    "Define a getter method named `size` that will return the value of size attribute.\n",
    "\n",
    "A second new attribute of a TkPlanet object will hold the ID of the circle created when the planet is drawn. Initialize this attribute to None when the planet is created, and define a \"setter\" named `set_graphic` and a \"getter\" named `graphic`.\n",
    "\n",
    "**Note:** If you need a reminder of the arguments passed to Body type `?Body` or `help(Body)` in a Jupyter code cell.\n"
   ]
  },
  {
   "cell_type": "markdown",
   "metadata": {
    "outputExpanded": false
   },
   "source": [
    "##### <span style=\"color:red\">Code:</span>"
   ]
  },
  {
   "cell_type": "code",
   "execution_count": 157,
   "metadata": {
    "collapsed": false,
    "deletable": false,
    "nbgrader": {
     "checksum": "1acf217baf406b1238be179534a69b2f",
     "grade": true,
     "grade_id": "tkbody",
     "locked": false,
     "points": 10,
     "schema_version": 1,
     "solution": true
    },
    "outputExpanded": false
   },
   "outputs": [],
   "source": [
    "class TkPlanet(Planet):\n",
    "    \"\"\"\n",
    "    A TKPlanet object represents a updated type of Planet object with the inclusion of a size variable.\n",
    "    \"\"\"\n",
    "    \n",
    "    def __init__(self,mass=0,position=Vector(0,0,0), velocity=Vector(0,0,0), force=Vector(0,0,0), color=\"\", name = \"\",size=0):\n",
    "        \"\"\"\n",
    "        Creates a new TKPlanet Object with mass, position,velocity,force,color,and size\n",
    "        \n",
    "        :param Planet self: A TKPLanet object.\n",
    "        :param float mass: the mass of a TKPLanet\n",
    "        :param Vector position: the position of the TKPLanet\n",
    "        :param Vector velocity: the velocity of a TKPLanet\n",
    "        :param Vector force: the force of a TKPLanet\n",
    "        :param string color:the color of a TKPLanet\n",
    "        :param string name: the name of a TKPLanet\n",
    "        :param int size: size in radius of the TKPLanet\n",
    "        :return: TKPlanet object.\n",
    "        :rtype: TKPlanet\n",
    "        \"\"\"\n",
    "        super().__init__(mass,position, velocity, force,color,name)\n",
    "        self._size = size\n",
    "        self._graphic = None\n",
    "        \n",
    "    def set_graphic(self,other):\n",
    "        \"\"\"\n",
    "        a setter function that sets the object ID of a TKplanet object\n",
    "        \"\"\"\n",
    "        self._graphic = other\n",
    "    \n",
    "    def graphic(self):\n",
    "        \"\"\"\n",
    "        a getter function that gets the TKplanet object\n",
    "        \"\"\"\n",
    "        return self._graphic\n",
    "        \n",
    "    def size(self):\n",
    "        \"\"\"\n",
    "        returns the size in radius of the TKPLanet\n",
    "        \"\"\"\n",
    "        return self._size\n",
    "\n"
   ]
  },
  {
   "cell_type": "markdown",
   "metadata": {
    "outputExpanded": false
   },
   "source": [
    "##### <span style=\"color:red\">Tests:</span>"
   ]
  },
  {
   "cell_type": "markdown",
   "metadata": {
    "outputExpanded": false
   },
   "source": [
    "Use the following code cell as a \"sandbox\" if you want to do your own tests of the TkBody class.  You can add additional cells here if you want."
   ]
  },
  {
   "cell_type": "code",
   "execution_count": null,
   "metadata": {
    "collapsed": false,
    "outputExpanded": false
   },
   "outputs": [],
   "source": []
  },
  {
   "cell_type": "markdown",
   "metadata": {
    "outputExpanded": false
   },
   "source": [
    "##### <span style=\"color:red\">Autograder Tests:</span>"
   ]
  },
  {
   "cell_type": "markdown",
   "metadata": {
    "outputExpanded": false
   },
   "source": [
    "**Important:** &nbsp;  the code cells in this section will be used by `nbgrader` to run automated tests.  Do not move, delete or alter these cells in any way."
   ]
  },
  {
   "cell_type": "code",
   "execution_count": 158,
   "metadata": {
    "collapsed": false,
    "deletable": false,
    "editable": false,
    "nbgrader": {
     "checksum": "046100d120b1c8c5d49f3a4d91b5315d",
     "grade": true,
     "grade_id": "tkbody_test1",
     "locked": true,
     "points": 2,
     "schema_version": 1,
     "solution": false
    },
    "outputExpanded": false
   },
   "outputs": [],
   "source": [
    "if IPython:\n",
    "    b = TkPlanet(0, Vector(0,0,0), Vector(0,0,0), '', '', 0)\n",
    "\n",
    "    assert isinstance(b, Planet)\n",
    "    assert isinstance(b, TkPlanet)\n",
    "\n",
    "    assert b.size() == 0\n",
    "    assert b.graphic() is None\n",
    "\n",
    "    b.set_graphic(0)\n",
    "    assert b.graphic() == 0"
   ]
  },
  {
   "cell_type": "code",
   "execution_count": 159,
   "metadata": {
    "collapsed": true,
    "deletable": false,
    "editable": false,
    "nbgrader": {
     "checksum": "60e74bfcf994eb3446c6393c240bfafb",
     "grade": true,
     "grade_id": "tkbody_test2",
     "locked": true,
     "points": 3,
     "schema_version": 1,
     "solution": false
    },
    "outputExpanded": false
   },
   "outputs": [],
   "source": [
    "if IPython:\n",
    "    bodies = read_bodies('solarsystem.txt', TkPlanet)\n",
    "\n",
    "    assert isinstance(bodies[0], TkPlanet)\n",
    "\n",
    "    assert bodies[0].name() == 'sun'\n",
    "    assert bodies[0].size() == 10\n",
    "    assert bodies[0].color() == '#ffff00'"
   ]
  },
  {
   "cell_type": "markdown",
   "metadata": {
    "outputExpanded": false
   },
   "source": [
    "##### <span style=\"color:red\">Documentation:</span>"
   ]
  },
  {
   "cell_type": "markdown",
   "metadata": {
    "deletable": false,
    "nbgrader": {
     "checksum": "3f53fca46fd116b7f427a5a13d2a1200",
     "grade": true,
     "grade_id": "tkbody_doc",
     "locked": false,
     "points": 5,
     "schema_version": 1,
     "solution": true
    }
   },
   "source": [
    "The process in creating this class involved:\n",
    "\n",
    "1.defining the TKplanet class as a child class inherting from the Planet class.\n",
    "\n",
    "2.defining getter and setter functions for the graphic attribute of the TKPlanet Class.\n",
    "\n",
    "3.adding the size attribute for the Class."
   ]
  },
  {
   "cell_type": "markdown",
   "metadata": {
    "outputExpanded": false
   },
   "source": [
    "###  <span style=\"color:teal\">Part 2: &nbsp; SolarSystemCanvas (25 points)</span>"
   ]
  },
  {
   "cell_type": "markdown",
   "metadata": {
    "outputExpanded": false
   },
   "source": [
    "A SolarSystemCanvas is a type of Canvas used to draw planets.  An instance of this class has the following methods:\n",
    "* `set_planets` is passed a list of all the bodies in the simulation; it should save this list in an instance variable for use later\n",
    "* `view_planets` is passed an integer `n`, and it should draw circles representing the first `n` bodies in the list (and save the value of `n` in an instance variable)\n",
    "* `move_planets` is also passed a complete list of body objects; it should use the positions of the first `n` bodies to compute new locations of the circles of the `n` planets currently on the canvas\n",
    "\n",
    "Much of the code for this class has been written already for you.  Here are the details of the methods you need to fill in."
   ]
  },
  {
   "cell_type": "markdown",
   "metadata": {
    "outputExpanded": false
   },
   "source": [
    "#### `_compute_scale` "
   ]
  },
  {
   "cell_type": "markdown",
   "metadata": {
    "outputExpanded": false
   },
   "source": [
    "An important role for this class is to convert solar system coordinates (billions of meters) into screen coordinates (hundreds of pixels).  The method named `_compute_scale` calculates a scaling factor so that when a body is displayed it is placed at the correct location on the screen.  The formula is"
   ]
  },
  {
   "cell_type": "markdown",
   "metadata": {
    "outputExpanded": false
   },
   "source": [
    "$$f = \\frac{p\\,/\\,2}{| \\, d_\\mathrm{max} \\, |} $$"
   ]
  },
  {
   "cell_type": "markdown",
   "metadata": {
    "outputExpanded": false
   },
   "source": [
    "where $p$ is the height or width (whichever is smaller) of the canvas, in pixels, and $d_\\mathrm{max}$ is the largest distance to any planet in the list passed to the method.\n",
    "\n",
    "For example, suppose the screen is 500 pixels wide and 400 pixels tall, and this method is called with a list of 6 bodies, for the sun and all the planets up through Jupiter.  The largest distance is the $x$ coordinate of Jupiter at the start of the simulation, which is $-7.5 \\times 10^{11}$.  Plug these values into the equation to get \n",
    "\n",
    "$$\n",
    "f = \\frac{200} { 7.5 * 10^{11} } = 2.67 \\times 10^{-9}\n",
    "$$\n",
    "\n",
    "There are different ways to figure out the largest distance.  A simple method is to find the maximum of the norm of each position vector; another is to find the largest absolute value of any $x$ or $y$ coordinate.  \n",
    "\n",
    "You can also include a \"fudge factor\" if you want to add a little extra space so the furthest orbit does not bump up against the edge of the canvas.  For example, if you use $1.1 \\times d_\\mathrm{max}$ in the denominator the planets will be about 10% closer to the center.\n",
    "\n",
    "Your method should compute the scale factor and save it in an instance variable named `_scale` so it can be used later when the planets are drawn and moved.\n",
    "\n",
    "**Important:** You need to save the scale factor in `self._scale` because that is the name used by the other methods which we have written for you."
   ]
  },
  {
   "cell_type": "markdown",
   "metadata": {
    "outputExpanded": false
   },
   "source": [
    "#### `view_planets` "
   ]
  },
  {
   "cell_type": "markdown",
   "metadata": {
    "outputExpanded": false
   },
   "source": [
    "This method will be passed an integer `n`, and it needs to draw circles representing the first `n` planets in the current list of TkPlanet objects (which have been saved in the instance variable `self._planets`).  Your method needs to:\n",
    "* compute the scale factor for this list of planets\n",
    "* delete any planets and lines that are on the canvas\n",
    "* draw circles for the first `n` planets in `self._planets`\n",
    "* save the value of `n` in `self._outer` so it can be used by `move_planets`\n",
    "\n",
    "The circles should use the size and color attributes of the TkPlanet objects that represent the planets."
   ]
  },
  {
   "cell_type": "markdown",
   "metadata": {
    "outputExpanded": false
   },
   "source": [
    "#### `move_planets` "
   ]
  },
  {
   "cell_type": "markdown",
   "metadata": {
    "outputExpanded": false
   },
   "source": [
    "This method will be called by the main simulator after each time step.  The argument passed to the method is the list of TkPlanet objects with their updated position vectors.  You want to move the circles for the first $n$ of these objects, where $n$ is the number of planets currently displayed on the canvas.\n",
    "\n",
    "For each planet currently on the canvas:\n",
    "* get the $x$ and $y$ coordinates of the current location of the circle\n",
    "* compute the $x$ and $y$ coordinates for the updated location\n",
    "* move the circle to the new location\n",
    "* draw a line segment from the old location to the new location\n",
    "\n",
    "**Note:** Two methods that compute screen locations have been written for you.  \n",
    "* Call `self._current_loc(p)` to get the $x$ and $y$ coordinates of the center of the circle representing planet `p`.  \n",
    "* Call `self._compute_loc(p)` to get the $x$ and $y$ coordinates for the new center of the circle based on the position vector of planet `p`."
   ]
  },
  {
   "cell_type": "code",
   "execution_count": 170,
   "metadata": {
    "collapsed": false,
    "deletable": false,
    "nbgrader": {
     "checksum": "58b6c6977ad0de73bab6912dad159360",
     "grade": true,
     "grade_id": "solar_system_canvas",
     "locked": false,
     "points": 14,
     "schema_version": 1,
     "solution": true
    },
    "outputExpanded": false
   },
   "outputs": [],
   "source": [
    "class SolarSystemCanvas(tk.Canvas):\n",
    "    def __init__(self, parent, height=600, width=600):\n",
    "        tk.Canvas.__init__(self, parent, height=height, width=width, background='gray90', highlightthickness=0)\n",
    "        self._planets = None\n",
    "        self._outer = None\n",
    "        self._scale = None\n",
    "        self._offset = Vector(int(self['width'])/2, int(self['height'])/2, 0)\n",
    "        \n",
    "    def set_planets(self, lst):\n",
    "        self._planets = lst\n",
    "        self._outer = len(lst)\n",
    "        self._compute_scale(lst)\n",
    "        self.view_planets(len(lst))\n",
    "        \n",
    "    def view_planets(self, n):\n",
    "        \"\"\"\n",
    "        method that when passed an integer n draws circles representing the first n planets \n",
    "        in the current list of TkPlanet objects \n",
    "        \n",
    "        :param self\n",
    "        :param int n:the desired number of planets to be displayed\n",
    "        :return: None\n",
    "        :rtype: None\n",
    "        \"\"\"\n",
    "        self._compute_scale(self._planets[0:n])\n",
    "        for z in self.find_all():\n",
    "            self.delete(z)\n",
    "        for planet in self._planets[0:n]:\n",
    "            (x,y)=self._compute_loc(planet)\n",
    "            ID = self.create_oval((x-planet.size()),(y-planet.size()),(x+planet.size()),(y+planet.size()),fill=planet.color())\n",
    "            planet.set_graphic(ID)\n",
    "        self._outer = n\n",
    "        \n",
    "        \n",
    "    def move_planets(self, lst):\n",
    "        \"\"\"\n",
    "        method that when passed a list of objects, moves the objects on the canvas to their updated locatin, along\n",
    "        with a line showing their movement\n",
    "        :param self\n",
    "        :param list lst:the list of objects that are to be moved and displayed\n",
    "        :return: None\n",
    "        :rtype: None\n",
    "        \"\"\"\n",
    "        for planet in lst[0:self._outer]:\n",
    "            c=planet.graphic()\n",
    "            to=self._compute_loc(planet)\n",
    "            from_=self._current_loc(planet)\n",
    "            self.create_line(from_,to)\n",
    "            self.move(c,to[0]-from_[0],to[1]-from_[1])\n",
    "            self.update_idletasks()  \n",
    "            \n",
    "    def _compute_scale(self, bodies):\n",
    "        \"\"\"\n",
    "        method that when passed a list of objects, computes the scale factor for which the coordonates for each object \n",
    "        can be converted into a viewable canvas values.\n",
    "        :param self\n",
    "        :param list TKplanets:a list of given planets\n",
    "        :return: None\n",
    "        :rtype: None\n",
    "        \n",
    "        \"\"\"\n",
    "        p = min((int(canvas.cget(\"width\"))),(int(canvas.cget(\"height\"))))/2\n",
    "        x = [abs(body.position().x()) for body in bodies]\n",
    "        y = [abs(body.position().y()) for body in bodies]\n",
    "        d_max= (max(max(x),max(y)))*1.1\n",
    "        self._scale = p/d_max\n",
    "    \n",
    "    def _compute_loc(self, p):\n",
    "        pos = p.position() * self._scale + self._offset\n",
    "        return pos.x(), pos.y()\n",
    "    \n",
    "    def _current_loc(self, p):\n",
    "        ul, ur, _, _ = self.coords(p.graphic())\n",
    "        return ul + p.size(), ur + p.size()"
   ]
  },
  {
   "cell_type": "markdown",
   "metadata": {
    "outputExpanded": false
   },
   "source": [
    "##### <span style=\"color:red\">Tests:</span>"
   ]
  },
  {
   "cell_type": "markdown",
   "metadata": {
    "outputExpanded": false
   },
   "source": [
    "Use the following code cell as a \"sandbox\" if you want to do your own tests of the SolarSystemCanvas class.  You can add additional cells here if you want."
   ]
  },
  {
   "cell_type": "code",
   "execution_count": null,
   "metadata": {
    "collapsed": false,
    "inputHidden": false,
    "outputHidden": false
   },
   "outputs": [],
   "source": []
  },
  {
   "cell_type": "markdown",
   "metadata": {
    "outputExpanded": false
   },
   "source": [
    "##### <span style=\"color:red\">Autograder Tests:</span>"
   ]
  },
  {
   "cell_type": "markdown",
   "metadata": {
    "outputExpanded": false
   },
   "source": [
    "**Important:** &nbsp;  the code cells in this section will be used by `nbgrader` to run automated tests.  Do not move, delete or alter these cells in any way."
   ]
  },
  {
   "cell_type": "code",
   "execution_count": 171,
   "metadata": {
    "collapsed": true,
    "deletable": false,
    "editable": false,
    "nbgrader": {
     "checksum": "d653ceed60f5a808738de329eb13e084",
     "grade": false,
     "grade_id": "canvas_setup",
     "locked": true,
     "schema_version": 1,
     "solution": false
    },
    "outputExpanded": false
   },
   "outputs": [],
   "source": [
    "if IPython:\n",
    "    canvas = SolarSystemCanvas(tk.Tk(), height=400, width=400)\n",
    "    canvas.pack()\n",
    "    bodies = read_bodies('solarsystem.txt', TkPlanet)"
   ]
  },
  {
   "cell_type": "code",
   "execution_count": 172,
   "metadata": {
    "collapsed": false,
    "deletable": false,
    "editable": false,
    "nbgrader": {
     "checksum": "3ca84170fbf9a8e2675baa8a7653c348",
     "grade": true,
     "grade_id": "canvas_test1",
     "locked": true,
     "points": 3,
     "schema_version": 1,
     "solution": false
    },
    "outputExpanded": false
   },
   "outputs": [],
   "source": [
    "if IPython:\n",
    "    canvas.set_planets(bodies)\n",
    "    canvas.view_planets(2)\n",
    "    assert [canvas.type(x) for x in canvas.find_all()].count('oval') == 2"
   ]
  },
  {
   "cell_type": "code",
   "execution_count": 173,
   "metadata": {
    "collapsed": false,
    "deletable": false,
    "editable": false,
    "nbgrader": {
     "checksum": "3858c814fccde48b9ae04a37f4d375da",
     "grade": true,
     "grade_id": "canvas_test2",
     "locked": true,
     "points": 3,
     "schema_version": 1,
     "solution": false
    },
    "outputExpanded": false
   },
   "outputs": [],
   "source": [
    "if IPython:\n",
    "    for i in range(10):\n",
    "        step_system(bodies)\n",
    "        canvas.move_planets(bodies)\n",
    "    tk_objects = canvas.find_all()\n",
    "    assert len(tk_objects) == 22\n",
    "    assert [canvas.type(x) for x in tk_objects].count('line') == 20"
   ]
  },
  {
   "cell_type": "markdown",
   "metadata": {
    "outputExpanded": false
   },
   "source": [
    "##### <span style=\"color:red\">Documentation:</span>"
   ]
  },
  {
   "cell_type": "markdown",
   "metadata": {
    "deletable": false,
    "nbgrader": {
     "checksum": "c309cbcf2fbab71fda1dd01b0b08a51a",
     "grade": true,
     "grade_id": "canvas_doc",
     "locked": false,
     "points": 5,
     "schema_version": 1,
     "solution": true
    }
   },
   "source": [
    "The process in creating this class involved:\n",
    "\n",
    "1.adding to the class by creating the compute scale function which i did by iterating over the x and y position coordinates a finding the largest absolute value and using that with the given algorithm.\n",
    "\n",
    "2.defining the view planets function which graphs the starting location of the planets using the create oval function and manipulating it into making a circle instead of an oval and saving the ID of each created circle.\n",
    "\n",
    "3.defining the move planets function which graphs the planets movements from their starting positions by using the saved ID of each planet and making a call to move by using that ID."
   ]
  },
  {
   "cell_type": "markdown",
   "metadata": {
    "outputExpanded": false
   },
   "source": [
    "###  <span style=\"color:teal\">Part 3: &nbsp; Viewbox (15 points)</span>"
   ]
  },
  {
   "cell_type": "markdown",
   "metadata": {
    "outputExpanded": false
   },
   "source": [
    "A Viewbox is a special type of Spinbox used to specify the number of planets to display on the canvas.  A Viewbox will have a minimum value of 2 (the canvas should always show at least the Sun and Mercury) and a maximum value equal to the number of bodies in the data set.\n",
    "\n",
    "The `__init__` function has been written for you.  It initializes the new Viewbox by passing the callback function to the parent class constructor (this function will be called when users click either the up or down button in the Spinbox).\n",
    "\n",
    "Note that a new Viewbox widget is initially disabled.  That's because we won't know how many bodies are in the data set until later, when the data is read from a file.  When the data is loaded, the top level application will call a method named `set_limit`.  You need to fill in the body of this method:\n",
    "* enable the spinbox (this must be done first, before the other operations)\n",
    "* set the lower bound to 2, and the upper bound to the number of bodies\n",
    "* change the value displayed in the spinbox to the number of bodies"
   ]
  },
  {
   "cell_type": "markdown",
   "metadata": {
    "outputExpanded": false
   },
   "source": [
    "##### <span style=\"color:red\">Code:</span>"
   ]
  },
  {
   "cell_type": "code",
   "execution_count": 174,
   "metadata": {
    "collapsed": true,
    "deletable": false,
    "nbgrader": {
     "checksum": "a6317d3e17ff43737d23eb8938a5b926",
     "grade": true,
     "grade_id": "viewbox",
     "locked": false,
     "points": 5,
     "schema_version": 1,
     "solution": true
    },
    "outputExpanded": false
   },
   "outputs": [],
   "source": [
    "class Viewbox(tk.Spinbox):\n",
    "    def __init__(self, parent, callback):\n",
    "        tk.Spinbox.__init__(self, parent, command=callback, width=3, state=tk.DISABLED)\n",
    "                        \n",
    "    def set_limit(self, nbodies):\n",
    "        \"\"\"\n",
    "        A method that sets the limit for the viewbox from 2 to the value of the given integer nbodies, as well as\n",
    "        enables the viewbox button.\n",
    "        \"\"\"\n",
    "        self[\"state\"]=tk.NORMAL\n",
    "        self[\"to\"]= nbodies\n",
    "        self[\"from\"]= 2\n",
    "        self.delete(0, tk.END)\n",
    "        self.insert(0,nbodies)\n",
    "    "
   ]
  },
  {
   "cell_type": "markdown",
   "metadata": {
    "outputExpanded": false
   },
   "source": [
    "##### <span style=\"color:red\">Tests:</span>"
   ]
  },
  {
   "cell_type": "markdown",
   "metadata": {
    "outputExpanded": false
   },
   "source": [
    "Use the following code cell as a \"sandbox\" if you want to do your own tests of the Viewbox class.  You can add additional cells here if you want."
   ]
  },
  {
   "cell_type": "code",
   "execution_count": null,
   "metadata": {
    "collapsed": false,
    "outputExpanded": false
   },
   "outputs": [],
   "source": []
  },
  {
   "cell_type": "markdown",
   "metadata": {
    "outputExpanded": false
   },
   "source": [
    "##### <span style=\"color:red\">Autograder Tests:</span>"
   ]
  },
  {
   "cell_type": "markdown",
   "metadata": {
    "outputExpanded": false
   },
   "source": [
    "**Important:** &nbsp;  the code cells in this section will be used by `nbgrader` to run automated tests.  Do not move, delete or alter these cells in any way."
   ]
  },
  {
   "cell_type": "code",
   "execution_count": 175,
   "metadata": {
    "collapsed": true,
    "deletable": false,
    "editable": false,
    "nbgrader": {
     "checksum": "a507f86ba88846b973441b3c602affe3",
     "grade": false,
     "grade_id": "vb_setup",
     "locked": true,
     "schema_version": 1,
     "solution": false
    },
    "outputExpanded": false
   },
   "outputs": [],
   "source": [
    "def vb_cb():\n",
    "    global called\n",
    "    called = True\n",
    "\n",
    "if IPython:\n",
    "    vb = Viewbox(tk.Tk(), vb_cb)\n",
    "    vb.pack()        "
   ]
  },
  {
   "cell_type": "code",
   "execution_count": 176,
   "metadata": {
    "collapsed": true,
    "deletable": false,
    "editable": false,
    "nbgrader": {
     "checksum": "40b6ef1df70505dcb5742dbf63fe14e3",
     "grade": true,
     "grade_id": "vb_test_new",
     "locked": true,
     "points": 1,
     "schema_version": 1,
     "solution": false
    },
    "outputExpanded": false
   },
   "outputs": [],
   "source": [
    "if IPython:\n",
    "    called = False\n",
    "    vb.invoke('buttondown')\n",
    "    vb.invoke('buttonup')\n",
    "    assert not called"
   ]
  },
  {
   "cell_type": "code",
   "execution_count": 177,
   "metadata": {
    "collapsed": false,
    "deletable": false,
    "editable": false,
    "nbgrader": {
     "checksum": "d08f04e3186d725971f9e038354c3f04",
     "grade": true,
     "grade_id": "vb_test_set",
     "locked": true,
     "points": 2,
     "schema_version": 1,
     "solution": false
    },
    "outputExpanded": false
   },
   "outputs": [],
   "source": [
    "if IPython:\n",
    "    vb.set_limit(5)\n",
    "    assert vb.get() == '5'\n",
    "    assert vb['from'] == 2\n",
    "    assert vb['to'] == 5"
   ]
  },
  {
   "cell_type": "code",
   "execution_count": 178,
   "metadata": {
    "collapsed": false,
    "deletable": false,
    "editable": false,
    "nbgrader": {
     "checksum": "fbf7cb7dc5c56aceff8b4585e001b864",
     "grade": true,
     "grade_id": "vb_test_use",
     "locked": true,
     "points": 2,
     "schema_version": 1,
     "solution": false
    },
    "outputExpanded": false
   },
   "outputs": [],
   "source": [
    "if IPython:\n",
    "    called = False\n",
    "    vb.invoke('buttondown')\n",
    "    assert vb.get() == '4'\n",
    "    vb.invoke('buttonup')\n",
    "    assert vb.get() == '5'\n",
    "    assert called"
   ]
  },
  {
   "cell_type": "markdown",
   "metadata": {
    "outputExpanded": false
   },
   "source": [
    "##### <span style=\"color:red\">Documentation:</span>"
   ]
  },
  {
   "cell_type": "markdown",
   "metadata": {
    "deletable": false,
    "nbgrader": {
     "checksum": "9d3913fa95421841c1534192082f5f15",
     "grade": true,
     "grade_id": "view_doc",
     "locked": false,
     "points": 5,
     "schema_version": 1,
     "solution": true
    },
    "outputExpanded": false
   },
   "source": [
    "The process in creating this class involved:\n",
    "\n",
    "1: filling in the set limit function which involved first enabling the spinboxes button, then setting the upper and lower bounds for which it uses to adjust."
   ]
  },
  {
   "cell_type": "markdown",
   "metadata": {
    "outputExpanded": false
   },
   "source": [
    "###  <span style=\"color:teal\">Part 4: &nbsp; RunFrame (20 points)</span>"
   ]
  },
  {
   "cell_type": "markdown",
   "metadata": {
    "outputExpanded": false
   },
   "source": [
    "A RunFrame is a container that has a run button, text entry boxes for the time step size and number of steps to run, and a progress bar to show how many steps have been executed.\n",
    "\n",
    "The entry boxes for the time step size and number of steps should be initialized to show the default values for those parameters:  86459 for the time step size and 365 for the number of steps.\n",
    "\n",
    "After an application has created a RunFrame object named `r` it should be able to call the following methods to interact with `r`:\n",
    "* `r.dt()` returns the time step size from the time step entry box\n",
    "* `r.nsteps()` returns the number of time steps indicated in that entry box\n",
    "* `t.target(n)` sets the upper bound in the progress bar\n",
    "* `t.update_progress(n)` sets the value to show in the progress bar\n",
    "\n",
    "Your job is to fill in the body of the `__init__` method so it creates the button, labels, and entry boxes, and fill in the bodies of the methods listed above.\n",
    "\n",
    "The constructor will be passed a reference to a callback function that will be called when the run button is pushed.  You should pass this function to the constructor that makes the Button.\n",
    "\n",
    "**Note:**  The run button should be disabled when it is created. The function that loads a data set will enable the button by calling `enable_button` (which has been written for you).\n",
    "\n",
    "**Note:** &nbsp; In order to test your RunFrame we need to know the names you give to some of the parts of the frame.  Make sure you use the following instance variable names:\n",
    "* `_run_button` for the button that starts the simulation\n",
    "* `_dt_entry` for the entry box for time step size\n",
    "* `_nsteps_entry` for the entry box with the number of steps"
   ]
  },
  {
   "cell_type": "markdown",
   "metadata": {
    "outputExpanded": false
   },
   "source": [
    "##### <span style=\"color:red\">Code:</span>"
   ]
  },
  {
   "cell_type": "markdown",
   "metadata": {
    "outputExpanded": false
   },
   "source": [
    "**Important:** &nbsp; Add your Python code to the following code cell.  Do not delete, rename, or copy this cell."
   ]
  },
  {
   "cell_type": "code",
   "execution_count": 179,
   "metadata": {
    "collapsed": false,
    "deletable": false,
    "nbgrader": {
     "checksum": "5eef489f7d7679afa6396175ea0e2b50",
     "grade": true,
     "grade_id": "run_frame",
     "locked": false,
     "points": 7,
     "schema_version": 1,
     "solution": true
    },
    "outputExpanded": false
   },
   "outputs": [],
   "source": [
    "class RunFrame(tk.Frame):\n",
    "    \n",
    "    def __init__(self, parent, callback):\n",
    "        tk.Frame.__init__(self, parent)\n",
    "        \n",
    "        self['width'] = 200\n",
    "        self['height'] = 100\n",
    "        \n",
    "        self._dt_entry_label = tk.Label(self, text=\"Time Step Size:\")\n",
    "        self._dt_entry_label.grid(row=0, column=0, sticky=tk.W, padx = 20, pady = 10)\n",
    "\n",
    "        self._nsteps_label = tk.Label(self, text=\"Number of steps to run:\")\n",
    "        self._nsteps_label.grid(row=1, column=0, sticky=tk.W, padx = 20, pady = 10)\n",
    "        \n",
    "        self._dt_entry = tk.Entry(self)\n",
    "        self._dt_entry.insert(tk.END,'86459')\n",
    "        self._dt_entry.grid(row=0, column=1, padx = 10)\n",
    "\n",
    "        self._nsteps_entry = tk.Entry(self)\n",
    "        self._nsteps_entry.insert(tk.END,'365')\n",
    "        self._nsteps_entry.grid(row=1, column=1, padx = 10)\n",
    "        \n",
    "        self._run_button = tk.Button(self, text='Run',command=callback,state=tk.DISABLED)\n",
    "        self._run_button.grid(row=2, column=0, columnspan=2, pady = 5)\n",
    "        \n",
    "        self._progress = ttk.Progressbar(self, length=150, maximum=100)\n",
    "        self._progress.grid(row=3, column=0, columnspan=2, pady = 5)\n",
    "        \n",
    "    def dt(self):\n",
    "        \"\"\"\n",
    "        Returns the value entered into the _dt_entry box\n",
    "\n",
    "        :param self\n",
    "        :return: the value entered into the _dt_entry box as an integer.\n",
    "        :rtype: int\n",
    "        \"\"\"\n",
    "        return int(self._dt_entry.get())\n",
    "    \n",
    "    def nsteps(self):\n",
    "        \"\"\"\n",
    "        Returns the value entered into the _nsteps_entry box\n",
    "\n",
    "        :param self\n",
    "        :return: the value entered into the _nsteps_entry box as an integer.\n",
    "        :rtype: int\n",
    "        \"\"\"\n",
    "        return int(self._nsteps_entry.get())\n",
    "        \n",
    "    def enable_button(self):\n",
    "        \"\"\"\n",
    "        \n",
    "        \"\"\"\n",
    "        self._run_button['state'] = tk.NORMAL\n",
    "        \n",
    "    def init_progress(self, n):\n",
    "        \"\"\"\n",
    "        enables the button to use the run button \n",
    "        \"\"\"\n",
    "        self._progress[\"maximum\"] = n\n",
    "        \n",
    "    def update_progress(self, n):\n",
    "        \"\"\"\n",
    "        updates the displayed progress bar by the value of n\n",
    "        \"\"\"\n",
    "        self._progress[\"value\"] = self._progress[\"value\"]+n\n",
    "        \n",
    "    def clear_progress(self):\n",
    "        self._progress['value'] = 0\n"
   ]
  },
  {
   "cell_type": "markdown",
   "metadata": {
    "outputExpanded": false
   },
   "source": [
    "##### <span style=\"color:red\">Tests:</span>"
   ]
  },
  {
   "cell_type": "markdown",
   "metadata": {
    "outputExpanded": false
   },
   "source": [
    "Use the following code cell as a \"sandbox\" if you want to do your own tests.  You can add additional cells here if you want."
   ]
  },
  {
   "cell_type": "code",
   "execution_count": null,
   "metadata": {
    "collapsed": false,
    "outputExpanded": false
   },
   "outputs": [],
   "source": []
  },
  {
   "cell_type": "markdown",
   "metadata": {
    "outputExpanded": false
   },
   "source": [
    "##### <span style=\"color:red\">Autograder Tests:</span>"
   ]
  },
  {
   "cell_type": "markdown",
   "metadata": {
    "outputExpanded": false
   },
   "source": [
    "**Important:** &nbsp;  the code cells in this section will be used by `nbgrader` to run automated tests.  Do not move, delete or alter these cells in any way."
   ]
  },
  {
   "cell_type": "code",
   "execution_count": 180,
   "metadata": {
    "collapsed": true,
    "deletable": false,
    "editable": false,
    "nbgrader": {
     "checksum": "7cf9b054d9fbf1451cc6e42cbf1136ee",
     "grade": false,
     "grade_id": "rf_setup",
     "locked": true,
     "schema_version": 1,
     "solution": false
    },
    "outputExpanded": false
   },
   "outputs": [],
   "source": [
    "def rf_cb():\n",
    "    global calls\n",
    "    calls += 1\n",
    "\n",
    "if IPython:\n",
    "    rf = RunFrame(tk.Tk(), rf_cb)\n",
    "    rf.pack()"
   ]
  },
  {
   "cell_type": "code",
   "execution_count": 181,
   "metadata": {
    "collapsed": false,
    "deletable": false,
    "editable": false,
    "nbgrader": {
     "checksum": "ed1b5ca08229ce320c9d88319abd2eee",
     "grade": true,
     "grade_id": "rf_test1",
     "locked": true,
     "points": 2,
     "schema_version": 1,
     "solution": false
    },
    "outputExpanded": false
   },
   "outputs": [],
   "source": [
    "if IPython:\n",
    "    counts = { }\n",
    "    for x in rf.children.values():\n",
    "        counts.setdefault(type(x).__name__, 0)\n",
    "        counts[type(x).__name__] += 1\n",
    "    assert counts['Button'] == 1\n",
    "    assert counts['Entry'] == 2\n",
    "    assert counts['Progressbar'] == 1\n",
    "    assert rf._dt_entry.get() == '86459'\n",
    "    assert rf._nsteps_entry.get() == '365'"
   ]
  },
  {
   "cell_type": "code",
   "execution_count": 182,
   "metadata": {
    "collapsed": false,
    "deletable": false,
    "editable": false,
    "nbgrader": {
     "checksum": "d37e8f1c2cf0d9cae8007a0e7b7b70ea",
     "grade": true,
     "grade_id": "rf_test2",
     "locked": true,
     "points": 2,
     "schema_version": 1,
     "solution": false
    },
    "outputExpanded": false
   },
   "outputs": [],
   "source": [
    "if IPython:\n",
    "    calls = 0\n",
    "    rf.enable_button()\n",
    "    rf._run_button.invoke()\n",
    "    rf._run_button.invoke()\n",
    "    assert calls == 2"
   ]
  },
  {
   "cell_type": "code",
   "execution_count": 183,
   "metadata": {
    "collapsed": false,
    "deletable": false,
    "editable": false,
    "nbgrader": {
     "checksum": "4721b5744b119b4336516d42780bfeaf",
     "grade": true,
     "grade_id": "rf_test3",
     "locked": true,
     "points": 2,
     "schema_version": 1,
     "solution": false
    },
    "outputExpanded": false
   },
   "outputs": [],
   "source": [
    "if IPython:\n",
    "    rf._dt_entry.delete(0, tk.END)\n",
    "    rf._dt_entry.insert(0, '100')\n",
    "    assert rf.dt() == 100\n",
    "    rf._nsteps_entry.delete(0, tk.END)\n",
    "    rf._nsteps_entry.insert(0, '1000')\n",
    "    assert rf.nsteps() == 1000"
   ]
  },
  {
   "cell_type": "code",
   "execution_count": 184,
   "metadata": {
    "collapsed": false,
    "deletable": false,
    "editable": false,
    "nbgrader": {
     "checksum": "adc469ac2150b1eb5bf1899154d95c08",
     "grade": true,
     "grade_id": "rf_test4",
     "locked": true,
     "points": 2,
     "schema_version": 1,
     "solution": false
    },
    "outputExpanded": false
   },
   "outputs": [],
   "source": [
    "if IPython:\n",
    "    rf.init_progress(100)\n",
    "    for i in range(5):\n",
    "        rf.update_progress(10)\n",
    "    assert rf._progress['value'] == 50"
   ]
  },
  {
   "cell_type": "markdown",
   "metadata": {
    "outputExpanded": false
   },
   "source": [
    "##### <span style=\"color:red\">Documentation:</span>"
   ]
  },
  {
   "cell_type": "markdown",
   "metadata": {
    "deletable": false,
    "nbgrader": {
     "checksum": "7d5220bf41635a7d51f94d644e2ea96b",
     "grade": true,
     "grade_id": "run_doc",
     "locked": false,
     "points": 5,
     "schema_version": 1,
     "solution": true
    },
    "outputExpanded": false
   },
   "source": [
    "The process in creating this class involved:\n",
    "\n",
    "1)adding to the init function for the class by creating the layout for the runframe box that is displayed which includes a run button and a progress bar.\n",
    "\n",
    "2)create the r.dt() which I created by getting the value entered in the dt entry box and converting it into a usable integer.\n",
    "\n",
    "3)creating the r.nsteps() method which gets the value entered in the nsteps entry box and converting it into a usable integer.\n",
    "\n",
    "4)creating the t.target(n) method which sets the upper bound in the progress bar which i did by setting the maximum equal to the given n. \n",
    "\n",
    "5)creating the t.update_progress(n) method which sets the value to show in the progress bar and each time it is called adds the value n to its current value."
   ]
  },
  {
   "cell_type": "markdown",
   "metadata": {
    "outputExpanded": false
   },
   "source": [
    "###  <span style=\"color:teal\">Top Level Application</span>"
   ]
  },
  {
   "cell_type": "markdown",
   "metadata": {
    "outputExpanded": false
   },
   "source": [
    "The application that instantiates all the widgets and links them together is shown below. You do not need to write any code -- the program will work when all of your widget definitions are complete. If you execute this code cell in the Jupyter notebook you will get a working application that will allow you to load a set of planet definitions and run the simulation.\n",
    "\n",
    "Even though you do not have to write anything you should look closely at this code since it will help you understand the methods you define in each of your components.\n",
    "\n",
    "To test your GUI, we will export the notebook to a command line application and run the application.  The graders will run the program and check the state of the canvas at the end of the simulation."
   ]
  },
  {
   "cell_type": "markdown",
   "metadata": {
    "outputExpanded": false
   },
   "source": [
    "#### `load_cb` "
   ]
  },
  {
   "cell_type": "markdown",
   "metadata": {
    "outputExpanded": false
   },
   "source": [
    "This function is called when the user clicks the Load button.  It uses a dialog to get the name of the file with planet definitions and reads the contents of the file to get a list of TkBody objects.  Notice how:\n",
    "* the list is passed to the `set_planets` method in the SolarSystemCanvas widget, which will draw circles for all the planets\n",
    "* the number of bodies is passed to the `reset` method in the ViewControl, which allows the user to click the up/down buttons to change the number of planets displayed"
   ]
  },
  {
   "cell_type": "markdown",
   "metadata": {
    "outputExpanded": false
   },
   "source": [
    "#### `view_cb` "
   ]
  },
  {
   "cell_type": "markdown",
   "metadata": {
    "outputExpanded": false
   },
   "source": [
    "This function is the callback for the ViewControl component.  Whenever the user changes the value of the counter the new value is passed to `view_planets` so the canvas is updated to show the new number of planets."
   ]
  },
  {
   "cell_type": "markdown",
   "metadata": {
    "outputExpanded": false
   },
   "source": [
    "#### `run_cb` "
   ]
  },
  {
   "cell_type": "markdown",
   "metadata": {
    "outputExpanded": false
   },
   "source": [
    "This function is the one that runs the simulation.  It is invoked when the user clicks the Run button in the RunFrame widget.  It gets the simulation parameters from the widget and then calls the `time_step` function to start the simulation.\n",
    "\n",
    "There body of the `time_step` function could just have a for loop that calls `step_system` for the specified number of time steps.  But since `run_cb` is a callback, Tk won't update the display until the callback is done, which means we won't see the planets move until after the last time step.\n",
    "\n",
    "The technique implemented here is pretty common in GUI programs.  It runs one time step and then uses the `after_idle` function to schedule a call to run the next time step 0.02 seconds later.  Once the next call is scheduled the callback exits and returns control to the GUI and we will see the planets moving."
   ]
  },
  {
   "cell_type": "code",
   "execution_count": 185,
   "metadata": {
    "collapsed": false,
    "outputExpanded": false
   },
   "outputs": [],
   "source": [
    "root = tk.Tk()\n",
    "root.title(\"Solar System\")\n",
    "\n",
    "bodies = None\n",
    "\n",
    "def load_cb():\n",
    "    global bodies\n",
    "    fn = tk.filedialog.askopenfilename()\n",
    "    bodies = read_bodies(fn, TkPlanet)\n",
    "    canvas.set_planets(bodies)\n",
    "    view_counter.set_limit(len(bodies))\n",
    "    run_frame.enable_button()\n",
    "\n",
    "def view_cb():\n",
    "    canvas.view_planets(int(view_counter.get()))\n",
    "    \n",
    "def run_cb():\n",
    "    \n",
    "    def time_step():\n",
    "        nonlocal nsteps\n",
    "        step_system(bodies, dt)\n",
    "        canvas.move_planets(bodies)\n",
    "        run_frame.update_progress(1)\n",
    "        sleep(0.02)\n",
    "        if nsteps > 0:\n",
    "            nsteps -= 1\n",
    "            canvas.after_idle(time_step)\n",
    "        else:\n",
    "            run_frame.clear_progress()\n",
    "        \n",
    "    nsteps = run_frame.nsteps()\n",
    "    run_frame.init_progress(nsteps)\n",
    "    dt = run_frame.dt()\n",
    "    canvas.after_idle(time_step)\n",
    "\n",
    "canvas = SolarSystemCanvas(root)\n",
    "canvas.grid(row = 0, column = 0, columnspan = 3, padx = 10, pady = 10, sticky=\"nsew\")\n",
    "\n",
    "tk.Button(root, text='Load', command=load_cb).grid(row=1, column=0, pady = 20)\n",
    "\n",
    "view_frame = tk.Frame(root, width=100)\n",
    "tk.Label(view_frame, text='Planets to View').pack()\n",
    "view_counter = Viewbox(view_frame, view_cb)\n",
    "view_counter.pack()\n",
    "view_frame.grid(row=1, column=1, pady=20)\n",
    "\n",
    "run_frame = RunFrame(root, run_cb)\n",
    "run_frame.grid(row=1, column=2, pady=20)\n",
    "\n",
    "if Main and not IPython:\n",
    "    try:\n",
    "        bodies = read_bodies(\"solarsystem.txt\", TkPlanet)\n",
    "        canvas.set_planets(bodies)\n",
    "        view_count.reset(len(bodies))\n",
    "        for i in range(5):\n",
    "            view_count._spinbox.invoke('buttondown')\n",
    "        run_frame._nsteps_entry.delete(0, tk.END)\n",
    "        run_frame._nsteps_entry.insert(0,'100')\n",
    "        root.update()\n",
    "        run_frame._run_button.invoke()\n",
    "    except Exception as err:\n",
    "        print(err)\n",
    "    input('hit return to continue...')\n"
   ]
  },
  {
   "cell_type": "markdown",
   "metadata": {
    "outputExpanded": false
   },
   "source": [
    "##### <span style=\"color:red\">Simulation Score</span>"
   ]
  },
  {
   "cell_type": "markdown",
   "metadata": {},
   "source": [
    "**Important:** &nbsp; You do not have to write anything for this part of the project.  Leave the cell below empty, in spite of the fact that is says \"your documentation here\".\n",
    "\n",
    "The graders will use the cell to write comments about your GUI and to enter the grade for your solar system simulation.  **Do not edit, move, rename, or delete the following cell.**"
   ]
  },
  {
   "cell_type": "markdown",
   "metadata": {
    "collapsed": true,
    "deletable": false,
    "nbgrader": {
     "checksum": "a6fed4f4cb028159f2b96f18bfefa35f",
     "grade": true,
     "grade_id": "simulation",
     "locked": false,
     "points": 20,
     "schema_version": 1,
     "solution": true
    },
    "outputExpanded": false
   },
   "source": [
    "YOUR DOCUMENTATION HERE"
   ]
  }
 ],
 "metadata": {
  "anaconda-cloud": {},
  "kernel_info": {
   "name": "python3"
  },
  "kernelspec": {
   "display_name": "Python [default]",
   "language": "python",
   "name": "python3"
  },
  "language_info": {
   "codemirror_mode": {
    "name": "ipython",
    "version": 3
   },
   "file_extension": ".py",
   "mimetype": "text/x-python",
   "name": "python",
   "nbconvert_exporter": "python",
   "pygments_lexer": "ipython3",
   "version": "3.5.2"
  }
 },
 "nbformat": 4,
 "nbformat_minor": 1
}
