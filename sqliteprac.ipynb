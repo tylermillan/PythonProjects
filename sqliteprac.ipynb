{
 "cells": [
  {
   "cell_type": "markdown",
   "metadata": {
    "deletable": true,
    "editable": true
   },
   "source": [
    "# <span style=\"color:teal;\">CIS 211 Project 7:  SQLite</span>"
   ]
  },
  {
   "cell_type": "markdown",
   "metadata": {
    "deletable": true,
    "editable": true
   },
   "source": [
    "##### Due 11:00 P.M. Tuesday May 30"
   ]
  },
  {
   "cell_type": "markdown",
   "metadata": {
    "deletable": true,
    "editable": true
   },
   "source": [
    "##### <span style=\"color:red\">Group Members:</span>"
   ]
  },
  {
   "cell_type": "markdown",
   "metadata": {
    "deletable": true,
    "editable": true
   },
   "source": [
    "For this project students are allowed to work in small groups (maximum group size: 3). \n",
    "\n",
    "Only one member of the group should submit the completed notebook.  All group members will receive the same score on the project.\n",
    "\n",
    "Edit this cell to include the name and DuckID for each member of the group (leave the cell blank if you worked on the project by yourself)."
   ]
  },
  {
   "cell_type": "markdown",
   "metadata": {
    "deletable": true,
    "editable": true
   },
   "source": [
    "**Name:Ben Ludwin-951510335**\n",
    "\n",
    "**Name:Adi Mehta-951488553**\n",
    "\n",
    "**Name:Tyler Millan-951518041**"
   ]
  },
  {
   "cell_type": "markdown",
   "metadata": {
    "deletable": true,
    "editable": true
   },
   "source": [
    "This project will give you some experience writing database queries in SQL and connecting to a SQLite database from Python."
   ]
  },
  {
   "cell_type": "markdown",
   "metadata": {
    "deletable": true,
    "editable": true
   },
   "source": [
    "### <span style=\"color:teal\">Setup</span>"
   ]
  },
  {
   "cell_type": "markdown",
   "metadata": {
    "deletable": true,
    "editable": true
   },
   "source": [
    "Download the Sakila database (the file named `sakila211.db`) and move it to the same folder as this IPython notebook."
   ]
  },
  {
   "cell_type": "markdown",
   "metadata": {
    "deletable": true,
    "editable": true
   },
   "source": [
    "### <span style=\"color:teal\">Executing Queries in an IPython Notebook</span>"
   ]
  },
  {
   "cell_type": "markdown",
   "metadata": {
    "deletable": true,
    "editable": true
   },
   "source": [
    "To solve the problems in the first two sections of this project you need to write a SQL query based on the tables in the Sakila211 database.  \n",
    "\n",
    "To execute a query from an IPython Notebook write the query in quotes as part of a shell command:\n",
    "```\n",
    "! sqlite3 sakila211.db \"...\"\n",
    "```\n",
    "\n",
    "For example, to answer the question \"What are the names and ratings of the films\" your code cell would have\n",
    "```\n",
    "! sqlite3 sakila211.db \"select title, rating from film\"\n",
    "```\n",
    "\n",
    "Some of the queries will produce a lot of output.  You can add a `LIMIT` clause to any query if you want to reduce the size of the output."
   ]
  },
  {
   "cell_type": "markdown",
   "metadata": {
    "deletable": true,
    "editable": true
   },
   "source": [
    "**Note:** &nbsp; Your grade will not depend on the output format.  If want to have a nicer looking output that includes column headers create a file named `.sqliterc` in your home folder and add these two lines:\n",
    "```\n",
    ".header on\n",
    ".mode column\n",
    "```"
   ]
  },
  {
   "cell_type": "markdown",
   "metadata": {
    "deletable": true,
    "editable": true
   },
   "source": [
    "## <span style=\"color:teal\">Part 1:  &nbsp; Queries</span>"
   ]
  },
  {
   "cell_type": "markdown",
   "metadata": {
    "deletable": true,
    "editable": true
   },
   "source": [
    "The following questions can all be answered using records from a single table."
   ]
  },
  {
   "cell_type": "markdown",
   "metadata": {
    "deletable": true,
    "editable": true
   },
   "source": [
    "(1) What are the first and last names of all the customers?"
   ]
  },
  {
   "cell_type": "code",
   "execution_count": 189,
   "metadata": {
    "collapsed": false,
    "deletable": false,
    "editable": true,
    "nbgrader": {
     "checksum": "91ee3c877c70f8544f5ce07e910194bf",
     "grade": true,
     "grade_id": "query_1",
     "locked": false,
     "points": 2,
     "schema_version": 1,
     "solution": true
    }
   },
   "outputs": [
    {
     "name": "stdout",
     "output_type": "stream",
     "text": [
      "Mary|Smith\n",
      "Patricia|Johnson\n",
      "Linda|Williams\n",
      "Barbara|Jones\n",
      "Elizabeth|Brown\n",
      "Jennifer|Davis\n",
      "Maria|Miller\n",
      "Susan|Wilson\n",
      "Margaret|Moore\n",
      "Dorothy|Taylor\n",
      "Lisa|Anderson\n",
      "Nancy|Thomas\n",
      "Karen|Jackson\n",
      "Betty|White\n",
      "Helen|Harris\n",
      "Sandra|Martin\n",
      "Donna|Thompson\n",
      "Carol|Garcia\n",
      "Ruth|Martinez\n",
      "Sharon|Robinson\n",
      "Michelle|Clark\n",
      "Laura|Rodriguez\n",
      "Sarah|Lewis\n",
      "Kimberly|Lee\n",
      "Deborah|Walker\n",
      "Jessica|Hall\n",
      "Shirley|Allen\n",
      "Cynthia|Young\n",
      "Angela|Hernandez\n",
      "Melissa|King\n",
      "Brenda|Wright\n",
      "Amy|Lopez\n",
      "Anna|Hill\n",
      "Rebecca|Scott\n",
      "Virginia|Green\n",
      "Kathleen|Adams\n",
      "Pamela|Baker\n",
      "Martha|Gonzalez\n",
      "Debra|Nelson\n",
      "Amanda|Carter\n",
      "Stephanie|Mitchell\n",
      "Carolyn|Perez\n",
      "Christine|Roberts\n",
      "Marie|Turner\n",
      "Janet|Phillips\n",
      "Catherine|Campbell\n",
      "Frances|Parker\n",
      "Ann|Evans\n",
      "Joyce|Edwards\n",
      "Diane|Collins\n",
      "Alice|Stewart\n",
      "Julie|Sanchez\n",
      "Heather|Morris\n",
      "Teresa|Rogers\n",
      "Doris|Reed\n",
      "Gloria|Cook\n",
      "Evelyn|Morgan\n",
      "Jean|Bell\n",
      "Cheryl|Murphy\n",
      "Mildred|Bailey\n",
      "Katherine|Rivera\n",
      "Joan|Cooper\n",
      "Ashley|Richardson\n",
      "Judith|Cox\n",
      "Rose|Howard\n",
      "Janice|Ward\n",
      "Kelly|Torres\n",
      "Nicole|Peterson\n",
      "Judy|Gray\n",
      "Christina|Ramirez\n",
      "Kathy|James\n",
      "Theresa|Watson\n",
      "Beverly|Brooks\n",
      "Denise|Kelly\n",
      "Tammy|Sanders\n",
      "Irene|Price\n",
      "Jane|Bennett\n",
      "Lori|Wood\n",
      "Rachel|Barnes\n",
      "Marilyn|Ross\n",
      "Andrea|Henderson\n",
      "Kathryn|Coleman\n",
      "Louise|Jenkins\n",
      "Sara|Perry\n",
      "Anne|Powell\n",
      "Jacqueline|Long\n",
      "Wanda|Patterson\n",
      "Bonnie|Hughes\n",
      "Julia|Flores\n",
      "Ruby|Washington\n",
      "Lois|Butler\n",
      "Tina|Simmons\n",
      "Phyllis|Foster\n",
      "Norma|Gonzales\n",
      "Paula|Bryant\n",
      "Diana|Alexander\n",
      "Annie|Russell\n",
      "Lillian|Griffin\n",
      "Emily|Diaz\n",
      "Robin|Hayes\n",
      "Peggy|Myers\n",
      "Crystal|Ford\n",
      "Gladys|Hamilton\n",
      "Rita|Graham\n",
      "Dawn|Sullivan\n",
      "Connie|Wallace\n",
      "Florence|Woods\n",
      "Tracy|Cole\n",
      "Edna|West\n",
      "Tiffany|Jordan\n",
      "Carmen|Owens\n",
      "Rosa|Reynolds\n",
      "Cindy|Fisher\n",
      "Grace|Ellis\n",
      "Wendy|Harrison\n",
      "Victoria|Gibson\n",
      "Edith|Mcdonald\n",
      "Kim|Cruz\n",
      "Sherry|Marshall\n",
      "Sylvia|Ortiz\n",
      "Josephine|Gomez\n",
      "Thelma|Murray\n",
      "Shannon|Freeman\n",
      "Sheila|Wells\n",
      "Ethel|Webb\n",
      "Ellen|Simpson\n",
      "Elaine|Stevens\n",
      "Marjorie|Tucker\n",
      "Carrie|Porter\n",
      "Charlotte|Hunter\n",
      "Monica|Hicks\n",
      "Esther|Crawford\n",
      "Pauline|Henry\n",
      "Emma|Boyd\n",
      "Juanita|Mason\n",
      "Anita|Morales\n",
      "Rhonda|Kennedy\n",
      "Hazel|Warren\n",
      "Amber|Dixon\n",
      "Eva|Ramos\n",
      "Debbie|Reyes\n",
      "April|Burns\n",
      "Leslie|Gordon\n",
      "Clara|Shaw\n",
      "Lucille|Holmes\n",
      "Jamie|Rice\n",
      "Joanne|Robertson\n",
      "Eleanor|Hunt\n",
      "Valerie|Black\n",
      "Danielle|Daniels\n",
      "Megan|Palmer\n",
      "Alicia|Mills\n",
      "Suzanne|Nichols\n",
      "Michele|Grant\n",
      "Gail|Knight\n",
      "Bertha|Ferguson\n",
      "Darlene|Rose\n",
      "Veronica|Stone\n",
      "Jill|Hawkins\n",
      "Erin|Dunn\n",
      "Geraldine|Perkins\n",
      "Lauren|Hudson\n",
      "Cathy|Spencer\n",
      "Joann|Gardner\n",
      "Lorraine|Stephens\n",
      "Lynn|Payne\n",
      "Sally|Pierce\n",
      "Regina|Berry\n",
      "Erica|Matthews\n",
      "Beatrice|Arnold\n",
      "Dolores|Wagner\n",
      "Bernice|Willis\n",
      "Audrey|Ray\n",
      "Yvonne|Watkins\n",
      "Annette|Olson\n",
      "June|Carroll\n",
      "Samantha|Duncan\n",
      "Marion|Snyder\n",
      "Dana|Hart\n",
      "Stacy|Cunningham\n",
      "Ana|Bradley\n",
      "Renee|Lane\n",
      "Ida|Andrews\n",
      "Vivian|Ruiz\n",
      "Roberta|Harper\n",
      "Holly|Fox\n",
      "Brittany|Riley\n",
      "Melanie|Armstrong\n",
      "Loretta|Carpenter\n",
      "Yolanda|Weaver\n",
      "Jeanette|Greene\n",
      "Laurie|Lawrence\n",
      "Katie|Elliott\n",
      "Kristen|Chavez\n",
      "Vanessa|Sims\n",
      "Alma|Austin\n",
      "Sue|Peters\n",
      "Elsie|Kelley\n",
      "Beth|Franklin\n",
      "Jeanne|Lawson\n",
      "Vicki|Fields\n",
      "Carla|Gutierrez\n",
      "Tara|Ryan\n",
      "Rosemary|Schmidt\n",
      "Eileen|Carr\n",
      "Terri|Vasquez\n",
      "Gertrude|Castillo\n",
      "Lucy|Wheeler\n",
      "Tonya|Chapman\n",
      "Ella|Oliver\n",
      "Stacey|Montgomery\n",
      "Wilma|Richards\n",
      "Gina|Williamson\n",
      "Kristin|Johnston\n",
      "Jessie|Banks\n",
      "Natalie|Meyer\n",
      "Agnes|Bishop\n",
      "Vera|Mccoy\n",
      "Willie|Howell\n",
      "Charlene|Alvarez\n",
      "Bessie|Morrison\n",
      "Delores|Hansen\n",
      "Melinda|Fernandez\n",
      "Pearl|Garza\n",
      "Arlene|Harvey\n",
      "Maureen|Little\n",
      "Colleen|Burton\n",
      "Allison|Stanley\n",
      "Tamara|Nguyen\n",
      "Joy|George\n",
      "Georgia|Jacobs\n",
      "Constance|Reid\n",
      "Lillie|Kim\n",
      "Claudia|Fuller\n",
      "Jackie|Lynch\n",
      "Marcia|Dean\n",
      "Tanya|Gilbert\n",
      "Nellie|Garrett\n",
      "Minnie|Romero\n",
      "Marlene|Welch\n",
      "Heidi|Larson\n",
      "Glenda|Frazier\n",
      "Lydia|Burke\n",
      "Viola|Hanson\n",
      "Courtney|Day\n",
      "Marian|Mendoza\n",
      "Stella|Moreno\n",
      "Caroline|Bowman\n",
      "Dora|Medina\n",
      "Jo|Fowler\n",
      "Vickie|Brewer\n",
      "Mattie|Hoffman\n",
      "Terry|Carlson\n",
      "Maxine|Silva\n",
      "Irma|Pearson\n",
      "Mabel|Holland\n",
      "Marsha|Douglas\n",
      "Myrtle|Fleming\n",
      "Lena|Jensen\n",
      "Christy|Vargas\n",
      "Deanna|Byrd\n",
      "Patsy|Davidson\n",
      "Hilda|Hopkins\n",
      "Gwendolyn|May\n",
      "Jennie|Terry\n",
      "Nora|Herrera\n",
      "Margie|Wade\n",
      "Nina|Soto\n",
      "Cassandra|Walters\n",
      "Leah|Curtis\n",
      "Penny|Neal\n",
      "Kay|Caldwell\n",
      "Priscilla|Lowe\n",
      "Naomi|Jennings\n",
      "Carole|Barnett\n",
      "Brandy|Graves\n",
      "Olga|Jimenez\n",
      "Billie|Horton\n",
      "Dianne|Shelton\n",
      "Tracey|Barrett\n",
      "Leona|Obrien\n",
      "Jenny|Castro\n",
      "Felicia|Sutton\n",
      "Sonia|Gregory\n",
      "Miriam|Mckinney\n",
      "Velma|Lucas\n",
      "Becky|Miles\n",
      "Bobbie|Craig\n",
      "Violet|Rodriquez\n",
      "Kristina|Chambers\n",
      "Toni|Holt\n",
      "Misty|Lambert\n",
      "Mae|Fletcher\n",
      "Shelly|Watts\n",
      "Daisy|Bates\n",
      "Ramona|Hale\n",
      "Sherri|Rhodes\n",
      "Erika|Pena\n",
      "James|Gannon\n",
      "John|Farnsworth\n",
      "Robert|Baughman\n",
      "Michael|Silverman\n",
      "William|Satterfield\n",
      "David|Royal\n",
      "Richard|Mccrary\n",
      "Charles|Kowalski\n",
      "Joseph|Joy\n",
      "Thomas|Grigsby\n",
      "Christopher|Greco\n",
      "Daniel|Cabral\n",
      "Paul|Trout\n",
      "Mark|Rinehart\n",
      "Donald|Mahon\n",
      "George|Linton\n",
      "Kenneth|Gooden\n",
      "Steven|Curley\n",
      "Edward|Baugh\n",
      "Brian|Wyman\n",
      "Ronald|Weiner\n",
      "Anthony|Schwab\n",
      "Kevin|Schuler\n",
      "Jason|Morrissey\n",
      "Matthew|Mahan\n",
      "Gary|Coy\n",
      "Timothy|Bunn\n",
      "Jose|Andrew\n",
      "Larry|Thrasher\n",
      "Jeffrey|Spear\n",
      "Frank|Waggoner\n",
      "Scott|Shelley\n",
      "Eric|Robert\n",
      "Stephen|Qualls\n",
      "Andrew|Purdy\n",
      "Raymond|Mcwhorter\n",
      "Gregory|Mauldin\n",
      "Joshua|Mark\n",
      "Jerry|Jordon\n",
      "Dennis|Gilman\n",
      "Walter|Perryman\n",
      "Patrick|Newsom\n",
      "Peter|Menard\n",
      "Harold|Martino\n",
      "Douglas|Graf\n",
      "Henry|Billingsley\n",
      "Carl|Artis\n",
      "Arthur|Simpkins\n",
      "Ryan|Salisbury\n",
      "Roger|Quintanilla\n",
      "Joe|Gilliland\n",
      "Juan|Fraley\n",
      "Jack|Foust\n",
      "Albert|Crouse\n",
      "Jonathan|Scarborough\n",
      "Justin|Ngo\n",
      "Terry|Grissom\n",
      "Gerald|Fultz\n",
      "Keith|Rico\n",
      "Samuel|Marlow\n",
      "Willie|Markham\n",
      "Ralph|Madrigal\n",
      "Lawrence|Lawton\n",
      "Nicholas|Barfield\n",
      "Roy|Whiting\n",
      "Benjamin|Varney\n",
      "Bruce|Schwarz\n",
      "Brandon|Huey\n",
      "Adam|Gooch\n",
      "Harry|Arce\n",
      "Fred|Wheat\n",
      "Wayne|Truong\n",
      "Billy|Poulin\n",
      "Steve|Mackenzie\n",
      "Louis|Leone\n",
      "Jeremy|Hurtado\n",
      "Aaron|Selby\n",
      "Randy|Gaither\n",
      "Howard|Fortner\n",
      "Eugene|Culpepper\n",
      "Carlos|Coughlin\n",
      "Russell|Brinson\n",
      "Bobby|Boudreau\n",
      "Victor|Barkley\n",
      "Martin|Bales\n",
      "Ernest|Stepp\n",
      "Phillip|Holm\n",
      "Todd|Tan\n",
      "Jesse|Schilling\n",
      "Craig|Morrell\n",
      "Alan|Kahn\n",
      "Shawn|Heaton\n",
      "Clarence|Gamez\n",
      "Sean|Douglass\n",
      "Philip|Causey\n",
      "Chris|Brothers\n",
      "Johnny|Turpin\n",
      "Earl|Shanks\n",
      "Jimmy|Schrader\n",
      "Antonio|Meek\n",
      "Danny|Isom\n",
      "Bryan|Hardison\n",
      "Tony|Carranza\n",
      "Luis|Yanez\n",
      "Mike|Way\n",
      "Stanley|Scroggins\n",
      "Leonard|Schofield\n",
      "Nathan|Runyon\n",
      "Dale|Ratcliff\n",
      "Manuel|Murrell\n",
      "Rodney|Moeller\n",
      "Curtis|Irby\n",
      "Norman|Currier\n",
      "Allen|Butterfield\n",
      "Marvin|Yee\n",
      "Vincent|Ralston\n",
      "Glenn|Pullen\n",
      "Jeffery|Pinson\n",
      "Travis|Estep\n",
      "Jeff|East\n",
      "Chad|Carbone\n",
      "Jacob|Lance\n",
      "Lee|Hawks\n",
      "Melvin|Ellington\n",
      "Alfred|Casillas\n",
      "Kyle|Spurlock\n",
      "Francis|Sikes\n",
      "Bradley|Motley\n",
      "Jesus|Mccartney\n",
      "Herbert|Kruger\n",
      "Frederick|Isbell\n",
      "Ray|Houle\n",
      "Joel|Francisco\n",
      "Edwin|Burk\n",
      "Don|Bone\n",
      "Eddie|Tomlin\n",
      "Ricky|Shelby\n",
      "Troy|Quigley\n",
      "Randall|Neumann\n",
      "Barry|Lovelace\n",
      "Alexander|Fennell\n",
      "Bernard|Colby\n",
      "Mario|Cheatham\n",
      "Leroy|Bustamante\n",
      "Francisco|Skidmore\n",
      "Marcus|Hidalgo\n",
      "Micheal|Forman\n",
      "Theodore|Culp\n",
      "Clifford|Bowens\n",
      "Miguel|Betancourt\n",
      "Oscar|Aquino\n",
      "Jay|Robb\n",
      "Jim|Rea\n",
      "Tom|Milner\n",
      "Calvin|Martel\n",
      "Alex|Gresham\n",
      "Jon|Wiles\n",
      "Ronnie|Ricketts\n",
      "Bill|Gavin\n",
      "Lloyd|Dowd\n",
      "Tommy|Collazo\n",
      "Leon|Bostic\n",
      "Derek|Blakely\n",
      "Warren|Sherrod\n",
      "Darrell|Power\n",
      "Jerome|Kenyon\n",
      "Floyd|Gandy\n",
      "Leo|Ebert\n",
      "Alvin|Deloach\n",
      "Tim|Cary\n",
      "Wesley|Bull\n",
      "Gordon|Allard\n",
      "Dean|Sauer\n",
      "Greg|Robins\n",
      "Jorge|Olivares\n",
      "Dustin|Gillette\n",
      "Pedro|Chestnut\n",
      "Derrick|Bourque\n",
      "Dan|Paine\n",
      "Lewis|Lyman\n",
      "Zachary|Hite\n",
      "Corey|Hauser\n",
      "Herman|Devore\n",
      "Maurice|Crawley\n",
      "Vernon|Chapa\n",
      "Roberto|Vu\n",
      "Clyde|Tobias\n",
      "Glen|Talbert\n",
      "Hector|Poindexter\n",
      "Shane|Millard\n",
      "Ricardo|Meador\n",
      "Sam|Mcduffie\n",
      "Rick|Mattox\n",
      "Lester|Kraus\n",
      "Brent|Harkins\n",
      "Ramon|Choate\n",
      "Charlie|Bess\n",
      "Tyler|Wren\n",
      "Gilbert|Sledge\n",
      "Gene|Sanborn\n",
      "Marc|Outlaw\n",
      "Reginald|Kinder\n",
      "Ruben|Geary\n",
      "Brett|Cornwell\n",
      "Angel|Barclay\n",
      "Nathaniel|Adam\n",
      "Rafael|Abney\n",
      "Leslie|Seward\n",
      "Edgar|Rhoads\n",
      "Milton|Howland\n",
      "Raul|Fortier\n",
      "Ben|Easter\n",
      "Chester|Benner\n",
      "Cecil|Vines\n",
      "Duane|Tubbs\n",
      "Franklin|Troutman\n",
      "Andre|Rapp\n",
      "Elmer|Noe\n",
      "Brad|Mccurdy\n",
      "Gabriel|Harder\n",
      "Ron|Deluca\n",
      "Mitchell|Westmoreland\n",
      "Roland|South\n",
      "Arnold|Havens\n",
      "Harvey|Guajardo\n",
      "Jared|Ely\n",
      "Adrian|Clary\n",
      "Karl|Seal\n",
      "Cory|Meehan\n",
      "Claude|Herzog\n",
      "Erik|Guillen\n",
      "Darryl|Ashcraft\n",
      "Jamie|Waugh\n",
      "Neil|Renner\n",
      "Jessie|Milam\n",
      "Christian|Jung\n",
      "Javier|Elrod\n",
      "Fernando|Churchill\n",
      "Clinton|Buford\n",
      "Ted|Breaux\n",
      "Mathew|Bolin\n",
      "Tyrone|Asher\n",
      "Darren|Windham\n",
      "Lonnie|Tirado\n",
      "Lance|Pemberton\n",
      "Cody|Nolen\n",
      "Julio|Noland\n",
      "Kelly|Knott\n",
      "Kurt|Emmons\n",
      "Allan|Cornish\n",
      "Nelson|Christenson\n",
      "Guy|Brownlee\n",
      "Clayton|Barbee\n",
      "Hugh|Waldrop\n",
      "Max|Pitt\n",
      "Dwayne|Olvera\n",
      "Dwight|Lombardi\n",
      "Armando|Gruber\n",
      "Felix|Gaffney\n",
      "Jimmie|Eggleston\n",
      "Everett|Banda\n",
      "Jordan|Archuleta\n",
      "Ian|Still\n",
      "Wallace|Slone\n",
      "Ken|Prewitt\n",
      "Bob|Pfeiffer\n",
      "Jaime|Nettles\n",
      "Casey|Mena\n",
      "Alfredo|Mcadams\n",
      "Alberto|Henning\n",
      "Dave|Gardiner\n",
      "Ivan|Cromwell\n",
      "Johnnie|Chisholm\n",
      "Sidney|Burleson\n",
      "Byron|Box\n",
      "Julian|Vest\n",
      "Isaac|Oglesby\n",
      "Morris|Mccarter\n",
      "Clifton|Malcolm\n",
      "Willard|Lumpkin\n",
      "Daryl|Larue\n",
      "Ross|Grey\n",
      "Virgil|Wofford\n",
      "Andy|Vanhorn\n",
      "Marshall|Thorn\n",
      "Salvador|Teel\n",
      "Perry|Swafford\n",
      "Kirk|Stclair\n",
      "Sergio|Stanfield\n",
      "Marion|Ocampo\n",
      "Tracy|Herrmann\n",
      "Seth|Hannon\n",
      "Kent|Arsenault\n",
      "Terrance|Roush\n",
      "Rene|Mcalister\n",
      "Eduardo|Hiatt\n",
      "Terrence|Gunderson\n",
      "Enrique|Forsythe\n",
      "Freddie|Duggan\n",
      "Wade|Delvalle\n",
      "Austin|Cintron\n"
     ]
    }
   ],
   "source": [
    "! sqlite3 sakila211.db \"select first_name, last_name from customer\""
   ]
  },
  {
   "cell_type": "markdown",
   "metadata": {
    "deletable": true,
    "editable": true
   },
   "source": [
    "(2) What are the e-mail addresses of customers whose first name is “Willard”?"
   ]
  },
  {
   "cell_type": "code",
   "execution_count": 190,
   "metadata": {
    "collapsed": false,
    "deletable": false,
    "editable": true,
    "nbgrader": {
     "checksum": "64e446ba985806fb04f9ef039fe65952",
     "grade": true,
     "grade_id": "query_2",
     "locked": false,
     "points": 2,
     "schema_version": 1,
     "solution": true
    }
   },
   "outputs": [
    {
     "name": "stdout",
     "output_type": "stream",
     "text": [
      "willard.lumpkin@sakilacustomer.org\r\n"
     ]
    }
   ],
   "source": [
    "! sqlite3 sakila211.db \"select email from customer where first_name = 'Willard'\""
   ]
  },
  {
   "cell_type": "markdown",
   "metadata": {
    "deletable": true,
    "editable": true
   },
   "source": [
    "(3) How many customers are there?"
   ]
  },
  {
   "cell_type": "code",
   "execution_count": 191,
   "metadata": {
    "collapsed": false,
    "deletable": false,
    "editable": true,
    "nbgrader": {
     "checksum": "6a4f0b6dde1ac7d790f97794e7783a42",
     "grade": true,
     "grade_id": "query_3",
     "locked": false,
     "points": 2,
     "schema_version": 1,
     "solution": true
    }
   },
   "outputs": [
    {
     "name": "stdout",
     "output_type": "stream",
     "text": [
      "599\r\n"
     ]
    }
   ],
   "source": [
    "! sqlite3 sakila211.db \"select count(*) from customer\""
   ]
  },
  {
   "cell_type": "markdown",
   "metadata": {
    "deletable": true,
    "editable": true
   },
   "source": [
    "(4) How many customers shop at store number 1?"
   ]
  },
  {
   "cell_type": "code",
   "execution_count": 192,
   "metadata": {
    "collapsed": false,
    "deletable": false,
    "editable": true,
    "nbgrader": {
     "checksum": "f08fc7c6be8b740e600e483f045942fe",
     "grade": true,
     "grade_id": "query_4",
     "locked": false,
     "points": 2,
     "schema_version": 1,
     "solution": true
    }
   },
   "outputs": [
    {
     "name": "stdout",
     "output_type": "stream",
     "text": [
      "326\r\n"
     ]
    }
   ],
   "source": [
    "! sqlite3 sakila211.db \"select count(*) from customer where store_id = 1\""
   ]
  },
  {
   "cell_type": "markdown",
   "metadata": {
    "deletable": true,
    "editable": true
   },
   "source": [
    "(5) How much does it cost to rent the film named “Virtual Spoilers”?"
   ]
  },
  {
   "cell_type": "code",
   "execution_count": 193,
   "metadata": {
    "collapsed": false,
    "deletable": false,
    "editable": true,
    "nbgrader": {
     "checksum": "3d0a2eff95a0c91e3972df7cffcc5cde",
     "grade": true,
     "grade_id": "query_5",
     "locked": false,
     "points": 2,
     "schema_version": 1,
     "solution": true
    }
   },
   "outputs": [
    {
     "name": "stdout",
     "output_type": "stream",
     "text": [
      "4.99\r\n"
     ]
    }
   ],
   "source": [
    "! sqlite3 sakila211.db \"select rental_rate from film where title = 'Virtual Spoilers';\""
   ]
  },
  {
   "cell_type": "markdown",
   "metadata": {
    "deletable": true,
    "editable": true
   },
   "source": [
    "(6) Do any films have the word “Princess” in the title?"
   ]
  },
  {
   "cell_type": "code",
   "execution_count": 194,
   "metadata": {
    "collapsed": false,
    "deletable": false,
    "editable": true,
    "nbgrader": {
     "checksum": "32aac141a11a289bcdf659acc75988ca",
     "grade": true,
     "grade_id": "query_6",
     "locked": false,
     "points": 2,
     "schema_version": 1,
     "solution": true
    }
   },
   "outputs": [
    {
     "name": "stdout",
     "output_type": "stream",
     "text": [
      "Image Princess\r\n",
      "Princess Giant\r\n"
     ]
    }
   ],
   "source": [
    "! sqlite3 sakila211.db \"select title from film where title like '%Princess%';\""
   ]
  },
  {
   "cell_type": "markdown",
   "metadata": {
    "deletable": true,
    "editable": true
   },
   "source": [
    "(7) What are the titles of the films that are longer than 180 minutes?"
   ]
  },
  {
   "cell_type": "code",
   "execution_count": 195,
   "metadata": {
    "collapsed": false,
    "deletable": false,
    "editable": true,
    "nbgrader": {
     "checksum": "a56541c60971ed0218521fde895de3af",
     "grade": true,
     "grade_id": "query_7",
     "locked": false,
     "points": 2,
     "schema_version": 1,
     "solution": true
    }
   },
   "outputs": [
    {
     "name": "stdout",
     "output_type": "stream",
     "text": [
      "Analyze Hoosiers\r\n",
      "Baked Cleopatra\r\n",
      "Catch Amistad\r\n",
      "Chicago North\r\n",
      "Conspiracy Spirit\r\n",
      "Control Anthem\r\n",
      "Crystal Breaking\r\n",
      "Darn Forrester\r\n",
      "Frontier Cabin\r\n",
      "Gangs Pride\r\n",
      "Haunting Pianist\r\n",
      "Home Pity\r\n",
      "Hotel Happiness\r\n",
      "Intrigue Worst\r\n",
      "Jacket Frisco\r\n",
      "King Evolution\r\n",
      "Lawless Vision\r\n",
      "Love Suicides\r\n",
      "Monsoon Cause\r\n",
      "Moonwalker Fool\r\n",
      "Muscle Bright\r\n",
      "Pond Seattle\r\n",
      "Records Zorro\r\n",
      "Reds Pocus\r\n",
      "Runaway Tenenbaums\r\n",
      "Saturn Name\r\n",
      "Scalawag Duck\r\n",
      "Searchers Wait\r\n",
      "Smoochy Control\r\n",
      "Soldiers Evolution\r\n",
      "Sons Interview\r\n",
      "Sorority Queen\r\n",
      "Star Operation\r\n",
      "Sweet Brotherhood\r\n",
      "Theory Mermaid\r\n",
      "Wife Turn\r\n",
      "Wild Apollo\r\n",
      "Worst Banger\r\n",
      "Young Language\r\n"
     ]
    }
   ],
   "source": [
    "! sqlite3 sakila211.db \"select title from film where length > 180;\""
   ]
  },
  {
   "cell_type": "markdown",
   "metadata": {
    "deletable": true,
    "editable": true
   },
   "source": [
    "(8) How many films have a “G” rating and are less than 60 minutes long?"
   ]
  },
  {
   "cell_type": "code",
   "execution_count": 196,
   "metadata": {
    "collapsed": false,
    "deletable": false,
    "editable": true,
    "nbgrader": {
     "checksum": "3f60984cef7bc7cea4eebc63abbb9111",
     "grade": true,
     "grade_id": "query_8",
     "locked": false,
     "points": 2,
     "schema_version": 1,
     "solution": true
    }
   },
   "outputs": [
    {
     "name": "stdout",
     "output_type": "stream",
     "text": [
      "21\r\n"
     ]
    }
   ],
   "source": [
    "! sqlite3 sakila211.db \"select count(*) from film where rating = 'G' and length < 60;\""
   ]
  },
  {
   "cell_type": "markdown",
   "metadata": {
    "deletable": true,
    "editable": true
   },
   "source": [
    "(9) What is the maximum replacement cost for any film?"
   ]
  },
  {
   "cell_type": "code",
   "execution_count": 197,
   "metadata": {
    "collapsed": false,
    "deletable": false,
    "editable": true,
    "nbgrader": {
     "checksum": "4e978c554314837f99ada46bba4506cc",
     "grade": true,
     "grade_id": "query_9",
     "locked": false,
     "points": 2,
     "schema_version": 1,
     "solution": true
    }
   },
   "outputs": [
    {
     "name": "stdout",
     "output_type": "stream",
     "text": [
      "29.99\r\n"
     ]
    }
   ],
   "source": [
    "! sqlite3 sakila211.db \"select max(replacement_cost) from film;\""
   ]
  },
  {
   "cell_type": "markdown",
   "metadata": {
    "deletable": true,
    "editable": true
   },
   "source": [
    "(10) Print a table that lists the different types of ratings and the number of films that have that rating."
   ]
  },
  {
   "cell_type": "code",
   "execution_count": 198,
   "metadata": {
    "collapsed": false,
    "deletable": false,
    "editable": true,
    "nbgrader": {
     "checksum": "8e1de89901999890be844e2915eb5ef4",
     "grade": true,
     "grade_id": "query_10",
     "locked": false,
     "points": 2,
     "schema_version": 1,
     "solution": true
    }
   },
   "outputs": [
    {
     "name": "stdout",
     "output_type": "stream",
     "text": [
      "G|178\r\n",
      "NC-17|210\r\n",
      "PG|194\r\n",
      "PG-13|223\r\n",
      "R|195\r\n"
     ]
    }
   ],
   "source": [
    "! sqlite3 sakila211.db \"select rating, count(*) from film group by rating;\""
   ]
  },
  {
   "cell_type": "markdown",
   "metadata": {
    "deletable": true,
    "editable": true
   },
   "source": [
    "## <span style=\"color:teal\">Part 2: &nbsp; Joins</span>"
   ]
  },
  {
   "cell_type": "markdown",
   "metadata": {
    "deletable": true,
    "editable": true
   },
   "source": [
    "The following queries all require a join of two or more tables. As a hint for how to create the query the table names are shown next to each a question."
   ]
  },
  {
   "cell_type": "markdown",
   "metadata": {
    "deletable": true,
    "editable": true
   },
   "source": [
    "(11) What are the film IDs of movies starring Jude Cruise?  &nbsp; &nbsp; [`actor`, `film_actor`]"
   ]
  },
  {
   "cell_type": "code",
   "execution_count": 199,
   "metadata": {
    "collapsed": false,
    "deletable": false,
    "editable": true,
    "nbgrader": {
     "checksum": "c626f13f16b011b334890f13ccf48a7b",
     "grade": true,
     "grade_id": "query_11",
     "locked": false,
     "points": 3,
     "schema_version": 1,
     "solution": true
    }
   },
   "outputs": [
    {
     "name": "stdout",
     "output_type": "stream",
     "text": [
      "16\r\n",
      "34\r\n",
      "101\r\n",
      "114\r\n",
      "122\r\n",
      "134\r\n",
      "144\r\n",
      "153\r\n",
      "192\r\n",
      "213\r\n",
      "258\r\n",
      "267\r\n",
      "317\r\n",
      "340\r\n",
      "393\r\n",
      "437\r\n",
      "447\r\n",
      "502\r\n",
      "592\r\n",
      "605\r\n",
      "637\r\n",
      "685\r\n",
      "707\r\n",
      "714\r\n",
      "717\r\n",
      "737\r\n",
      "767\r\n",
      "852\r\n",
      "891\r\n",
      "918\r\n"
     ]
    }
   ],
   "source": [
    "! sqlite3 sakila211.db \"select film_id from actor inner join film_actor on film_actor.actor_id = actor.actor_id where first_name = 'Jude' and last_name = 'Cruise'\""
   ]
  },
  {
   "cell_type": "markdown",
   "metadata": {
    "deletable": true,
    "editable": true
   },
   "source": [
    "(12) What language was “Ace Goldfinger” filmed in?  &nbsp; &nbsp; [`film`, `language`]"
   ]
  },
  {
   "cell_type": "code",
   "execution_count": 200,
   "metadata": {
    "collapsed": false,
    "deletable": false,
    "editable": true,
    "nbgrader": {
     "checksum": "5c2b9575dc400f86b959c7ff874df154",
     "grade": true,
     "grade_id": "query_12",
     "locked": false,
     "points": 3,
     "schema_version": 1,
     "solution": true
    }
   },
   "outputs": [
    {
     "name": "stdout",
     "output_type": "stream",
     "text": [
      "Japanese\r\n"
     ]
    }
   ],
   "source": [
    "! sqlite3 sakila211.db \"select name from film inner join language on film.language_id = language.language_id where title = 'Ace Goldfinger'\""
   ]
  },
  {
   "cell_type": "markdown",
   "metadata": {
    "deletable": true,
    "editable": true
   },
   "source": [
    "(13) How many actors starred in the film named “Scalawag Duck”? &nbsp; &nbsp; [`film`, `film_actor`]"
   ]
  },
  {
   "cell_type": "code",
   "execution_count": 201,
   "metadata": {
    "collapsed": false,
    "deletable": false,
    "editable": true,
    "nbgrader": {
     "checksum": "7b8cb4dc76c252a465be7f30a878a2fd",
     "grade": true,
     "grade_id": "query_13",
     "locked": false,
     "points": 4,
     "schema_version": 1,
     "solution": true
    }
   },
   "outputs": [
    {
     "name": "stdout",
     "output_type": "stream",
     "text": [
      "5\r\n"
     ]
    }
   ],
   "source": [
    "! sqlite3 sakila211.db \"select count(actor_id) from film_actor inner join film on film.film_id = film_actor.film_id where title = 'Scalawag Duck'\""
   ]
  },
  {
   "cell_type": "markdown",
   "metadata": {
    "deletable": true,
    "editable": true
   },
   "source": [
    "(14) Produce a table that shows how many films each customer has rented.  &nbsp; &nbsp; [`customer`, `rental`]"
   ]
  },
  {
   "cell_type": "code",
   "execution_count": 202,
   "metadata": {
    "collapsed": false,
    "deletable": false,
    "editable": true,
    "nbgrader": {
     "checksum": "c602f9d9d2cb856929f4389375be8b02",
     "grade": true,
     "grade_id": "query_14",
     "locked": false,
     "points": 4,
     "schema_version": 1,
     "solution": true
    }
   },
   "outputs": [
    {
     "name": "stdout",
     "output_type": "stream",
     "text": [
      "Aaron|Selby|24\r\n",
      "Adam|Gooch|22\r\n",
      "Adrian|Clary|18\r\n",
      "Agnes|Bishop|23\r\n",
      "Alan|Kahn|26\r\n",
      "Albert|Crouse|22\r\n",
      "Alberto|Henning|20\r\n",
      "Alex|Gresham|33\r\n",
      "Alexander|Fennell|36\r\n",
      "Alfred|Casillas|26\r\n",
      "Alfredo|Mcadams|20\r\n",
      "Alice|Stewart|33\r\n",
      "Alicia|Mills|20\r\n",
      "Allan|Cornish|18\r\n",
      "Allen|Butterfield|20\r\n",
      "Allison|Stanley|25\r\n",
      "Alma|Austin|35\r\n",
      "Alvin|Deloach|29\r\n",
      "Amanda|Carter|27\r\n",
      "Amber|Dixon|27\r\n",
      "Amy|Lopez|29\r\n",
      "Ana|Bradley|33\r\n",
      "Andre|Rapp|28\r\n",
      "Andrea|Henderson|22\r\n",
      "Andrew|Purdy|27\r\n",
      "Andy|Vanhorn|24\r\n",
      "Angel|Barclay|32\r\n",
      "Angela|Hernandez|35\r\n",
      "Anita|Morales|15\r\n",
      "Ann|Evans|17\r\n",
      "Anna|Hill|20\r\n",
      "Anne|Powell|23\r\n",
      "Annette|Olson|22\r\n",
      "Annie|Russell|18\r\n",
      "Anthony|Schwab|20\r\n",
      "Antonio|Meek|16\r\n",
      "April|Burns|25\r\n",
      "Arlene|Harvey|26\r\n",
      "Armando|Gruber|21\r\n",
      "Arnold|Havens|33\r\n",
      "Arthur|Simpkins|32\r\n",
      "Ashley|Richardson|25\r\n",
      "Audrey|Ray|29\r\n",
      "Austin|Cintron|19\r\n",
      "Barbara|Jones|22\r\n",
      "Barry|Lovelace|32\r\n",
      "Beatrice|Arnold|26\r\n",
      "Becky|Miles|28\r\n",
      "Ben|Easter|26\r\n",
      "Benjamin|Varney|23\r\n",
      "Bernard|Colby|21\r\n",
      "Bernice|Willis|33\r\n",
      "Bertha|Ferguson|25\r\n",
      "Bessie|Morrison|28\r\n",
      "Beth|Franklin|24\r\n",
      "Betty|White|27\r\n",
      "Beverly|Brooks|23\r\n",
      "Bill|Gavin|26\r\n",
      "Billie|Horton|26\r\n",
      "Billy|Poulin|35\r\n",
      "Bob|Pfeiffer|24\r\n",
      "Bobbie|Craig|24\r\n",
      "Bobby|Boudreau|35\r\n",
      "Bonnie|Hughes|21\r\n",
      "Brad|Mccurdy|25\r\n",
      "Bradley|Motley|27\r\n",
      "Brandon|Huey|36\r\n",
      "Brandy|Graves|28\r\n",
      "Brenda|Wright|26\r\n",
      "Brent|Harkins|22\r\n",
      "Brett|Cornwell|34\r\n",
      "Brian|Wyman|12\r\n",
      "Brittany|Riley|28\r\n",
      "Bruce|Schwarz|23\r\n",
      "Bryan|Hardison|28\r\n",
      "Byron|Box|29\r\n",
      "Calvin|Martel|23\r\n",
      "Carl|Artis|23\r\n",
      "Carla|Gutierrez|26\r\n",
      "Carlos|Coughlin|23\r\n",
      "Carmen|Owens|25\r\n",
      "Carol|Garcia|22\r\n",
      "Carole|Barnett|30\r\n",
      "Caroline|Bowman|15\r\n",
      "Carolyn|Perez|28\r\n",
      "Carrie|Porter|34\r\n",
      "Casey|Mena|34\r\n",
      "Cassandra|Walters|28\r\n",
      "Catherine|Campbell|34\r\n",
      "Cathy|Spencer|27\r\n",
      "Cecil|Vines|25\r\n",
      "Chad|Carbone|25\r\n",
      "Charlene|Alvarez|27\r\n",
      "Charles|Kowalski|32\r\n",
      "Charlie|Bess|25\r\n",
      "Charlotte|Hunter|24\r\n",
      "Cheryl|Murphy|27\r\n",
      "Chester|Benner|24\r\n",
      "Chris|Brothers|21\r\n",
      "Christian|Jung|23\r\n",
      "Christina|Ramirez|18\r\n",
      "Christine|Roberts|22\r\n",
      "Christopher|Greco|31\r\n",
      "Christy|Vargas|31\r\n",
      "Cindy|Fisher|29\r\n",
      "Clara|Shaw|42\r\n",
      "Clarence|Gamez|30\r\n",
      "Claude|Herzog|25\r\n",
      "Claudia|Fuller|25\r\n",
      "Clayton|Barbee|26\r\n",
      "Clifford|Bowens|29\r\n",
      "Clifton|Malcolm|27\r\n",
      "Clinton|Buford|24\r\n",
      "Clyde|Tobias|29\r\n",
      "Cody|Nolen|22\r\n",
      "Colleen|Burton|23\r\n",
      "Connie|Wallace|23\r\n",
      "Constance|Reid|25\r\n",
      "Corey|Hauser|22\r\n",
      "Cory|Meehan|23\r\n",
      "Courtney|Day|31\r\n",
      "Craig|Morrell|29\r\n",
      "Crystal|Ford|33\r\n",
      "Curtis|Irby|37\r\n",
      "Cynthia|Young|31\r\n",
      "Daisy|Bates|37\r\n",
      "Dale|Ratcliff|27\r\n",
      "Dan|Paine|22\r\n",
      "Dana|Hart|29\r\n",
      "Daniel|Cabral|20\r\n",
      "Danielle|Daniels|25\r\n",
      "Danny|Isom|21\r\n",
      "Darlene|Rose|31\r\n",
      "Darrell|Power|25\r\n",
      "Darren|Windham|24\r\n",
      "Darryl|Ashcraft|22\r\n",
      "Daryl|Larue|26\r\n",
      "Dave|Gardiner|32\r\n",
      "David|Royal|26\r\n",
      "Dawn|Sullivan|26\r\n",
      "Dean|Sauer|27\r\n",
      "Deanna|Byrd|26\r\n",
      "Debbie|Reyes|32\r\n",
      "Deborah|Walker|29\r\n",
      "Debra|Nelson|29\r\n",
      "Delores|Hansen|21\r\n",
      "Denise|Kelly|27\r\n",
      "Dennis|Gilman|28\r\n",
      "Derek|Blakely|28\r\n",
      "Derrick|Bourque|21\r\n",
      "Diana|Alexander|27\r\n",
      "Diane|Collins|35\r\n",
      "Dianne|Shelton|30\r\n",
      "Dolores|Wagner|26\r\n",
      "Don|Bone|25\r\n",
      "Donald|Mahon|23\r\n",
      "Donna|Thompson|21\r\n",
      "Dora|Medina|23\r\n",
      "Doris|Reed|22\r\n",
      "Dorothy|Taylor|25\r\n",
      "Douglas|Graf|25\r\n",
      "Duane|Tubbs|31\r\n",
      "Dustin|Gillette|25\r\n",
      "Dwayne|Olvera|21\r\n",
      "Dwight|Lombardi|17\r\n",
      "Earl|Shanks|27\r\n",
      "Eddie|Tomlin|27\r\n",
      "Edgar|Rhoads|25\r\n",
      "Edith|Mcdonald|19\r\n",
      "Edna|West|26\r\n",
      "Eduardo|Hiatt|27\r\n",
      "Edward|Baugh|27\r\n",
      "Edwin|Burk|23\r\n",
      "Eileen|Carr|18\r\n",
      "Elaine|Stevens|24\r\n",
      "Eleanor|Hunt|46\r\n",
      "Elizabeth|Brown|37\r\n",
      "Ella|Oliver|31\r\n",
      "Ellen|Simpson|28\r\n",
      "Elmer|Noe|24\r\n",
      "Elsie|Kelley|37\r\n",
      "Emily|Diaz|23\r\n",
      "Emma|Boyd|23\r\n",
      "Enrique|Forsythe|27\r\n",
      "Eric|Robert|27\r\n",
      "Erica|Matthews|22\r\n",
      "Erik|Guillen|29\r\n",
      "Erika|Pena|26\r\n",
      "Erin|Dunn|27\r\n",
      "Ernest|Stepp|25\r\n",
      "Esther|Crawford|28\r\n",
      "Ethel|Webb|32\r\n",
      "Eugene|Culpepper|19\r\n",
      "Eva|Ramos|18\r\n",
      "Evelyn|Morgan|28\r\n",
      "Everett|Banda|28\r\n",
      "Felicia|Sutton|28\r\n",
      "Felix|Gaffney|23\r\n",
      "Fernando|Churchill|25\r\n",
      "Florence|Woods|28\r\n",
      "Floyd|Gandy|17\r\n",
      "Frances|Parker|22\r\n",
      "Francis|Sikes|26\r\n",
      "Francisco|Skidmore|22\r\n",
      "Frank|Waggoner|32\r\n",
      "Franklin|Troutman|22\r\n",
      "Fred|Wheat|24\r\n",
      "Freddie|Duggan|24\r\n",
      "Frederick|Isbell|21\r\n",
      "Gabriel|Harder|26\r\n",
      "Gail|Knight|23\r\n",
      "Gary|Coy|24\r\n",
      "Gene|Sanborn|27\r\n",
      "George|Linton|33\r\n",
      "Georgia|Jacobs|26\r\n",
      "Gerald|Fultz|30\r\n",
      "Geraldine|Perkins|30\r\n",
      "Gertrude|Castillo|34\r\n",
      "Gilbert|Sledge|27\r\n",
      "Gina|Williamson|27\r\n",
      "Gladys|Hamilton|31\r\n",
      "Glen|Talbert|26\r\n",
      "Glenda|Frazier|32\r\n",
      "Glenn|Pullen|23\r\n",
      "Gloria|Cook|29\r\n",
      "Gordon|Allard|32\r\n",
      "Grace|Ellis|32\r\n",
      "Greg|Robins|29\r\n",
      "Gregory|Mauldin|22\r\n",
      "Guy|Brownlee|31\r\n",
      "Gwendolyn|May|24\r\n",
      "Harold|Martino|32\r\n",
      "Harry|Arce|35\r\n",
      "Harvey|Guajardo|22\r\n",
      "Hazel|Warren|34\r\n",
      "Heather|Morris|28\r\n",
      "Hector|Poindexter|26\r\n",
      "Heidi|Larson|34\r\n",
      "Helen|Harris|30\r\n",
      "Henry|Billingsley|18\r\n",
      "Herbert|Kruger|20\r\n",
      "Herman|Devore|29\r\n",
      "Hilda|Hopkins|28\r\n",
      "Holly|Fox|30\r\n",
      "Howard|Fortner|26\r\n",
      "Hugh|Waldrop|21\r\n",
      "Ian|Still|26\r\n",
      "Ida|Andrews|23\r\n",
      "Irene|Price|23\r\n",
      "Irma|Pearson|18\r\n",
      "Isaac|Oglesby|29\r\n",
      "Ivan|Cromwell|25\r\n",
      "Jack|Foust|24\r\n",
      "Jackie|Lynch|25\r\n",
      "Jacob|Lance|21\r\n",
      "Jacqueline|Long|33\r\n",
      "Jaime|Nettles|29\r\n",
      "James|Gannon|30\r\n",
      "Jamie|Waugh|54\r\n",
      "Jane|Bennett|28\r\n",
      "Janet|Phillips|27\r\n",
      "Janice|Ward|34\r\n",
      "Jared|Ely|19\r\n",
      "Jason|Morrissey|28\r\n",
      "Javier|Elrod|32\r\n",
      "Jay|Robb|25\r\n",
      "Jean|Bell|26\r\n",
      "Jeanette|Greene|19\r\n",
      "Jeanne|Lawson|26\r\n",
      "Jeff|East|30\r\n",
      "Jeffery|Pinson|31\r\n",
      "Jeffrey|Spear|23\r\n",
      "Jennie|Terry|29\r\n",
      "Jennifer|Davis|28\r\n",
      "Jenny|Castro|26\r\n",
      "Jeremy|Hurtado|27\r\n",
      "Jerome|Kenyon|16\r\n",
      "Jerry|Jordon|28\r\n",
      "Jesse|Schilling|26\r\n",
      "Jessica|Hall|34\r\n",
      "Jessie|Milam|57\r\n",
      "Jesus|Mccartney|24\r\n",
      "Jill|Hawkins|21\r\n",
      "Jim|Rea|33\r\n",
      "Jimmie|Eggleston|28\r\n",
      "Jimmy|Schrader|29\r\n",
      "Jo|Fowler|20\r\n",
      "Joan|Cooper|23\r\n",
      "Joann|Gardner|16\r\n",
      "Joanne|Robertson|34\r\n",
      "Joe|Gilliland|28\r\n",
      "Joel|Francisco|22\r\n",
      "John|Farnsworth|30\r\n",
      "Johnnie|Chisholm|24\r\n",
      "Johnny|Turpin|19\r\n",
      "Jon|Wiles|24\r\n",
      "Jonathan|Scarborough|18\r\n",
      "Jordan|Archuleta|28\r\n",
      "Jorge|Olivares|34\r\n",
      "Jose|Andrew|25\r\n",
      "Joseph|Joy|30\r\n",
      "Josephine|Gomez|26\r\n",
      "Joshua|Mark|29\r\n",
      "Joy|George|33\r\n",
      "Joyce|Edwards|28\r\n",
      "Juan|Fraley|23\r\n",
      "Juanita|Mason|29\r\n",
      "Judith|Cox|32\r\n",
      "Judy|Gray|24\r\n",
      "Julia|Flores|32\r\n",
      "Julian|Vest|28\r\n",
      "Julie|Sanchez|28\r\n",
      "Julio|Noland|21\r\n",
      "June|Carroll|37\r\n",
      "Justin|Ngo|34\r\n",
      "Karen|Jackson|27\r\n",
      "Karl|Seal|45\r\n",
      "Katherine|Rivera|14\r\n",
      "Kathleen|Adams|27\r\n",
      "Kathryn|Coleman|26\r\n",
      "Kathy|James|30\r\n",
      "Katie|Elliott|24\r\n",
      "Kay|Caldwell|20\r\n",
      "Keith|Rico|26\r\n",
      "Kelly|Knott|47\r\n",
      "Ken|Prewitt|29\r\n",
      "Kenneth|Gooden|16\r\n",
      "Kent|Arsenault|27\r\n",
      "Kevin|Schuler|22\r\n",
      "Kim|Cruz|21\r\n",
      "Kimberly|Lee|25\r\n",
      "Kirk|Stclair|19\r\n",
      "Kristen|Chavez|18\r\n",
      "Kristin|Johnston|30\r\n",
      "Kristina|Chambers|28\r\n",
      "Kurt|Emmons|23\r\n",
      "Kyle|Spurlock|29\r\n",
      "Lance|Pemberton|22\r\n",
      "Larry|Thrasher|25\r\n",
      "Laura|Rodriguez|21\r\n",
      "Lauren|Hudson|19\r\n",
      "Laurie|Lawrence|22\r\n",
      "Lawrence|Lawton|29\r\n",
      "Leah|Curtis|25\r\n",
      "Lee|Hawks|26\r\n",
      "Lena|Jensen|32\r\n",
      "Leo|Ebert|23\r\n",
      "Leon|Bostic|25\r\n",
      "Leona|Obrien|14\r\n",
      "Leonard|Schofield|31\r\n",
      "Leroy|Bustamante|32\r\n",
      "Leslie|Seward|57\r\n",
      "Lester|Kraus|16\r\n",
      "Lewis|Lyman|19\r\n",
      "Lillian|Griffin|25\r\n",
      "Lillie|Kim|23\r\n",
      "Linda|Williams|26\r\n",
      "Lisa|Anderson|23\r\n",
      "Lloyd|Dowd|19\r\n",
      "Lois|Butler|34\r\n",
      "Lonnie|Tirado|18\r\n",
      "Loretta|Carpenter|22\r\n",
      "Lori|Wood|31\r\n",
      "Lorraine|Stephens|21\r\n",
      "Louis|Leone|34\r\n",
      "Louise|Jenkins|24\r\n",
      "Lucille|Holmes|28\r\n",
      "Lucy|Wheeler|24\r\n",
      "Luis|Yanez|20\r\n",
      "Lydia|Burke|24\r\n",
      "Lynn|Payne|28\r\n",
      "Mabel|Holland|30\r\n",
      "Mae|Fletcher|31\r\n",
      "Manuel|Murrell|30\r\n",
      "Marc|Outlaw|30\r\n",
      "Marcia|Dean|41\r\n",
      "Marcus|Hidalgo|30\r\n",
      "Margaret|Moore|22\r\n",
      "Margie|Wade|34\r\n",
      "Maria|Miller|33\r\n",
      "Marian|Mendoza|23\r\n",
      "Marie|Turner|25\r\n",
      "Marilyn|Ross|29\r\n",
      "Mario|Cheatham|27\r\n",
      "Marion|Ocampo|67\r\n",
      "Marjorie|Tucker|32\r\n",
      "Mark|Rinehart|26\r\n",
      "Marlene|Welch|26\r\n",
      "Marsha|Douglas|37\r\n",
      "Marshall|Thorn|23\r\n",
      "Martha|Gonzalez|34\r\n",
      "Martin|Bales|27\r\n",
      "Marvin|Yee|21\r\n",
      "Mary|Smith|32\r\n",
      "Mathew|Bolin|22\r\n",
      "Matthew|Mahan|31\r\n",
      "Mattie|Hoffman|21\r\n",
      "Maureen|Little|21\r\n",
      "Maurice|Crawley|29\r\n",
      "Max|Pitt|24\r\n",
      "Maxine|Silva|32\r\n",
      "Megan|Palmer|27\r\n",
      "Melanie|Armstrong|24\r\n",
      "Melinda|Fernandez|17\r\n",
      "Melissa|King|34\r\n",
      "Melvin|Ellington|25\r\n",
      "Michael|Silverman|29\r\n",
      "Micheal|Forman|26\r\n",
      "Michele|Grant|30\r\n",
      "Michelle|Clark|34\r\n",
      "Miguel|Betancourt|27\r\n",
      "Mike|Way|35\r\n",
      "Mildred|Bailey|23\r\n",
      "Milton|Howland|24\r\n",
      "Minnie|Romero|34\r\n",
      "Miriam|Mckinney|26\r\n",
      "Misty|Lambert|27\r\n",
      "Mitchell|Westmoreland|32\r\n",
      "Monica|Hicks|30\r\n",
      "Morris|Mccarter|32\r\n",
      "Myrtle|Fleming|24\r\n",
      "Nancy|Thomas|28\r\n",
      "Naomi|Jennings|34\r\n",
      "Natalie|Meyer|21\r\n",
      "Nathan|Runyon|32\r\n",
      "Nathaniel|Adam|28\r\n",
      "Neil|Renner|31\r\n",
      "Nellie|Garrett|21\r\n",
      "Nelson|Christenson|20\r\n",
      "Nicholas|Barfield|32\r\n",
      "Nicole|Peterson|22\r\n",
      "Nina|Soto|29\r\n",
      "Nora|Herrera|28\r\n",
      "Norma|Gonzales|20\r\n",
      "Norman|Currier|25\r\n",
      "Olga|Jimenez|32\r\n",
      "Oscar|Aquino|20\r\n",
      "Pamela|Baker|23\r\n",
      "Patricia|Johnson|27\r\n",
      "Patrick|Newsom|31\r\n",
      "Patsy|Davidson|28\r\n",
      "Paul|Trout|23\r\n",
      "Paula|Bryant|18\r\n",
      "Pauline|Henry|27\r\n",
      "Pearl|Garza|22\r\n",
      "Pedro|Chestnut|24\r\n",
      "Peggy|Myers|23\r\n",
      "Penny|Neal|18\r\n",
      "Perry|Swafford|23\r\n",
      "Peter|Menard|23\r\n",
      "Philip|Causey|31\r\n",
      "Phillip|Holm|26\r\n",
      "Phyllis|Foster|23\r\n",
      "Priscilla|Lowe|35\r\n",
      "Rachel|Barnes|22\r\n",
      "Rafael|Abney|20\r\n",
      "Ralph|Madrigal|34\r\n",
      "Ramon|Choate|31\r\n",
      "Ramona|Hale|29\r\n",
      "Randall|Neumann|23\r\n",
      "Randy|Gaither|28\r\n",
      "Raul|Fortier|20\r\n",
      "Ray|Houle|22\r\n",
      "Raymond|Mcwhorter|29\r\n",
      "Rebecca|Scott|24\r\n",
      "Regina|Berry|33\r\n",
      "Reginald|Kinder|28\r\n",
      "Rene|Mcalister|26\r\n",
      "Renee|Lane|26\r\n",
      "Rhonda|Kennedy|39\r\n",
      "Ricardo|Meador|21\r\n",
      "Richard|Mccrary|25\r\n",
      "Rick|Mattox|27\r\n",
      "Ricky|Shelby|25\r\n",
      "Rita|Graham|24\r\n",
      "Robert|Baughman|21\r\n",
      "Roberta|Harper|23\r\n",
      "Roberto|Vu|30\r\n",
      "Robin|Hayes|23\r\n",
      "Rodney|Moeller|23\r\n",
      "Roger|Quintanilla|36\r\n",
      "Roland|South|22\r\n",
      "Ron|Deluca|23\r\n",
      "Ronald|Weiner|30\r\n",
      "Ronnie|Ricketts|25\r\n",
      "Rosa|Reynolds|30\r\n",
      "Rose|Howard|22\r\n",
      "Rosemary|Schmidt|35\r\n",
      "Ross|Grey|27\r\n",
      "Roy|Whiting|29\r\n",
      "Ruben|Geary|21\r\n",
      "Ruby|Washington|28\r\n",
      "Russell|Brinson|36\r\n",
      "Ruth|Martinez|24\r\n",
      "Ryan|Salisbury|30\r\n",
      "Sally|Pierce|32\r\n",
      "Salvador|Teel|30\r\n",
      "Sam|Mcduffie|24\r\n",
      "Samantha|Duncan|23\r\n",
      "Samuel|Marlow|21\r\n",
      "Sandra|Martin|28\r\n",
      "Sara|Perry|33\r\n",
      "Sarah|Lewis|29\r\n",
      "Scott|Shelley|24\r\n",
      "Sean|Douglass|23\r\n",
      "Sergio|Stanfield|25\r\n",
      "Seth|Hannon|24\r\n",
      "Shane|Millard|22\r\n",
      "Shannon|Freeman|24\r\n",
      "Sharon|Robinson|30\r\n",
      "Shawn|Heaton|33\r\n",
      "Sheila|Wells|18\r\n",
      "Shelly|Watts|26\r\n",
      "Sherri|Rhodes|33\r\n",
      "Sherry|Marshall|34\r\n",
      "Shirley|Allen|31\r\n",
      "Sidney|Burleson|25\r\n",
      "Sonia|Gregory|26\r\n",
      "Stacey|Montgomery|33\r\n",
      "Stacy|Cunningham|22\r\n",
      "Stanley|Scroggins|30\r\n",
      "Stella|Moreno|22\r\n",
      "Stephanie|Mitchell|24\r\n",
      "Stephen|Qualls|28\r\n",
      "Steve|Mackenzie|34\r\n",
      "Steven|Curley|29\r\n",
      "Sue|Peters|40\r\n",
      "Susan|Wilson|24\r\n",
      "Suzanne|Nichols|24\r\n",
      "Sylvia|Ortiz|31\r\n",
      "Tamara|Nguyen|24\r\n",
      "Tammy|Sanders|38\r\n",
      "Tanya|Gilbert|33\r\n",
      "Tara|Ryan|20\r\n",
      "Ted|Breaux|29\r\n",
      "Teresa|Rogers|29\r\n",
      "Terrance|Roush|28\r\n",
      "Terrence|Gunderson|30\r\n",
      "Terri|Vasquez|27\r\n",
      "Terry|Grissom|48\r\n",
      "Thelma|Murray|32\r\n",
      "Theodore|Culp|31\r\n",
      "Theresa|Watson|30\r\n",
      "Thomas|Grigsby|25\r\n",
      "Tiffany|Jordan|14\r\n",
      "Tim|Cary|39\r\n",
      "Timothy|Bunn|22\r\n",
      "Tina|Simmons|28\r\n",
      "Todd|Tan|29\r\n",
      "Tom|Milner|31\r\n",
      "Tommy|Collazo|38\r\n",
      "Toni|Holt|23\r\n",
      "Tony|Carranza|21\r\n",
      "Tonya|Chapman|32\r\n",
      "Tracey|Barrett|27\r\n",
      "Tracy|Herrmann|57\r\n",
      "Travis|Estep|24\r\n",
      "Troy|Quigley|30\r\n",
      "Tyler|Wren|20\r\n",
      "Tyrone|Asher|24\r\n",
      "Valerie|Black|26\r\n",
      "Vanessa|Sims|19\r\n",
      "Velma|Lucas|27\r\n",
      "Vera|Mccoy|18\r\n",
      "Vernon|Chapa|18\r\n",
      "Veronica|Stone|32\r\n",
      "Vicki|Fields|25\r\n",
      "Vickie|Brewer|30\r\n",
      "Victor|Barkley|24\r\n",
      "Victoria|Gibson|27\r\n",
      "Vincent|Ralston|25\r\n",
      "Viola|Hanson|31\r\n",
      "Violet|Rodriquez|30\r\n",
      "Virgil|Wofford|27\r\n",
      "Virginia|Green|32\r\n",
      "Vivian|Ruiz|23\r\n",
      "Wade|Delvalle|22\r\n",
      "Wallace|Slone|25\r\n",
      "Walter|Perryman|30\r\n",
      "Wanda|Patterson|29\r\n",
      "Warren|Sherrod|33\r\n",
      "Wayne|Truong|19\r\n",
      "Wendy|Harrison|29\r\n",
      "Wesley|Bull|40\r\n",
      "Willard|Lumpkin|22\r\n",
      "William|Satterfield|26\r\n",
      "Willie|Markham|49\r\n",
      "Wilma|Richards|20\r\n",
      "Yolanda|Weaver|26\r\n",
      "Yvonne|Watkins|21\r\n",
      "Zachary|Hite|30\r\n"
     ]
    }
   ],
   "source": [
    "! sqlite3 sakila211.db \"select first_name, last_name, count(first_name) from customer inner join rental on customer.customer_id = rental.customer_id group by first_name\" "
   ]
  },
  {
   "cell_type": "markdown",
   "metadata": {
    "deletable": true,
    "editable": true
   },
   "source": [
    "(15) How many films did the customer named Smith rent?  &nbsp; &nbsp; [`customer`, `rental`]"
   ]
  },
  {
   "cell_type": "code",
   "execution_count": 203,
   "metadata": {
    "collapsed": false,
    "deletable": false,
    "editable": true,
    "nbgrader": {
     "checksum": "d5ddc9c23280c6c3d4b8355f165967a1",
     "grade": true,
     "grade_id": "query_15",
     "locked": false,
     "points": 4,
     "schema_version": 1,
     "solution": true
    }
   },
   "outputs": [
    {
     "name": "stdout",
     "output_type": "stream",
     "text": [
      "32\r\n"
     ]
    }
   ],
   "source": [
    "! sqlite3 sakila211.db \"select count(*) from customer inner join rental on customer.customer_id = rental.customer_id where last_name = 'Smith'\""
   ]
  },
  {
   "cell_type": "markdown",
   "metadata": {
    "deletable": true,
    "editable": true
   },
   "source": [
    "(16) Which actors starred in “Splash Gump”?  &nbsp; &nbsp; [`film`, `film_actor`, `actor`]"
   ]
  },
  {
   "cell_type": "code",
   "execution_count": 204,
   "metadata": {
    "collapsed": false,
    "deletable": false,
    "editable": true,
    "nbgrader": {
     "checksum": "62934f2def9ff51a7b7eb88292c4c069",
     "grade": true,
     "grade_id": "query_17",
     "locked": false,
     "points": 4,
     "schema_version": 1,
     "solution": true
    }
   },
   "outputs": [
    {
     "name": "stdout",
     "output_type": "stream",
     "text": [
      "Penelope|Guiness\r\n",
      "Jennifer|Davis\r\n",
      "Uma|Wood\r\n",
      "Cameron|Streep\r\n",
      "Christian|Neeson\r\n",
      "Ray|Johansson\r\n",
      "Gene|Willis\r\n",
      "Morgan|Williams\r\n",
      "Humphrey|Willis\r\n",
      "Al|Garland\r\n"
     ]
    }
   ],
   "source": [
    "! sqlite3 sakila211.db \"select first_name, last_name from film inner join film_actor on film_actor.film_id = film.film_id inner join actor on actor.actor_id = film_actor.actor_id where title = 'Splash Gump'\""
   ]
  },
  {
   "cell_type": "markdown",
   "metadata": {
    "deletable": true,
    "editable": true
   },
   "source": [
    "(17) Which films has Penelope Guiness starred in?  &nbsp; &nbsp; [`film`, `film_actor`, `actor`]"
   ]
  },
  {
   "cell_type": "code",
   "execution_count": 205,
   "metadata": {
    "collapsed": false,
    "deletable": false,
    "editable": true,
    "nbgrader": {
     "checksum": "d811e1e64a3a28da4103f0adb698f866",
     "grade": true,
     "grade_id": "query_18",
     "locked": false,
     "points": 4,
     "schema_version": 1,
     "solution": true
    }
   },
   "outputs": [
    {
     "name": "stdout",
     "output_type": "stream",
     "text": [
      "Academy Dinosaur\r\n",
      "Anaconda Confessions\r\n",
      "Angels Life\r\n",
      "Bulworth Commandments\r\n",
      "Cheaper Clyde\r\n",
      "Color Philadelphia\r\n",
      "Elephant Trojan\r\n",
      "Gleaming Jawbreaker\r\n",
      "Human Graffiti\r\n",
      "King Evolution\r\n",
      "Lady Stage\r\n",
      "Language Cowboy\r\n",
      "Mulholland Beast\r\n",
      "Oklahoma Jumanji\r\n",
      "Rules Human\r\n",
      "Splash Gump\r\n",
      "Vertigo Northwest\r\n",
      "Westward Seabiscuit\r\n",
      "Wizard Coldblooded\r\n"
     ]
    }
   ],
   "source": [
    "! sqlite3 sakila211.db \"select title from film inner join film_actor on film_actor.film_id = film.film_id inner join actor on actor.actor_id = film_actor.actor_id where first_name = 'Penelope' and last_name = 'Guiness'\""
   ]
  },
  {
   "cell_type": "markdown",
   "metadata": {
    "deletable": true,
    "editable": true
   },
   "source": [
    "(18) What are the names of the films rented by the customer named Knight?  &nbsp; &nbsp; [`customer`, `rental`, `inventory`, `film`]"
   ]
  },
  {
   "cell_type": "code",
   "execution_count": 206,
   "metadata": {
    "collapsed": false,
    "deletable": false,
    "editable": true,
    "nbgrader": {
     "checksum": "66ea5f83cfdb46127212f07cc8dfa1aa",
     "grade": true,
     "grade_id": "query_19",
     "locked": false,
     "points": 4,
     "schema_version": 1,
     "solution": true
    }
   },
   "outputs": [
    {
     "name": "stdout",
     "output_type": "stream",
     "text": [
      "Jericho Mulan\r\n",
      "Frost Head\r\n",
      "Clerks Angels\r\n",
      "Wife Turn\r\n",
      "Expecations Natural\r\n",
      "Lawless Vision\r\n",
      "Soup Wisdom\r\n",
      "Heartbreakers Bright\r\n",
      "Bikini Borrowers\r\n",
      "Attacks Hate\r\n",
      "Cupboard Sinners\r\n",
      "Princess Giant\r\n",
      "Cyclone Family\r\n",
      "Platoon Instinct\r\n",
      "Knock Warlock\r\n",
      "Excitement Eve\r\n",
      "Right Cranes\r\n",
      "Fatal Haunted\r\n",
      "Falcon Volume\r\n",
      "Tomorrow Hustler\r\n",
      "Half Outfield\r\n",
      "Horror Reign\r\n",
      "Borrowers Bedazzled\r\n"
     ]
    }
   ],
   "source": [
    "! sqlite3 sakila211.db \"select title from film inner join inventory on inventory.film_id = film.film_id inner join rental on rental.inventory_id = inventory.inventory_id inner join customer on customer.customer_id = rental.customer_id where last_name = 'Knight'\""
   ]
  },
  {
   "cell_type": "markdown",
   "metadata": {
    "deletable": true,
    "editable": true
   },
   "source": [
    "## <span style=\"color:teal\">Part 3: &nbsp; Monthly Report</span>"
   ]
  },
  {
   "cell_type": "markdown",
   "metadata": {
    "deletable": true,
    "editable": true
   },
   "source": [
    "For this part of the project you will write a report generator that will print a summary of monthly activity for a customer.  The report should show a list of all the films rented during the month along with a total amount due.\n",
    "This example shows the activity for the customer named Leo Ebert for the month of June, 2005.\n",
    "\n",
    "<pre>\n",
    "--- Sakila DVD Rentals ---\n",
    "\n",
    "Monthly Report for Leo Ebert \n",
    "\n",
    "Lonely Elephant                 06/16/2005    $2.99\n",
    "                   ** late fee  06/24/2005    $2.99\n",
    "Enemy Odds                      06/18/2005    $4.99\n",
    "                   ** late fee  06/27/2005    $4.99\n",
    "Song Hedwig                     06/20/2005    $0.99\n",
    "                   ** late fee  06/26/2005    $0.99\n",
    "Wash Heavenly                   06/21/2005    $4.99\n",
    "Hurricane Affair                06/21/2005    $2.99\n",
    "\n",
    "Monthly Total:  $25.92\n",
    "</pre>\n",
    "\n",
    "To compute the total, the report generator needs to add up all the rental fees, and for any film returned late, add an additional rental fee as the late charge. In the example, Leo rented *Lonely Elephant* on June 16 but didn’t return it until June 24. It was a 3-day rental, so he was charged an additional \\$2.99 (it was 5 days late, so we could have charged him \\$4.98 in late fees, but we’ll keep it simple and just charge the basic fee as the late fee).\n",
    "\n",
    "We've broken the problem into separate parts so they can be implemented and tested separately.  Your job is to fill in the code cells so each part passes the auto-grader tests.\n",
    "\n",
    "**Note:** &nbsp; There is no documentation requirement for this project."
   ]
  },
  {
   "cell_type": "markdown",
   "metadata": {
    "deletable": true,
    "editable": true
   },
   "source": [
    "### <span style=\"color:teal\">Database Connection</span>"
   ]
  },
  {
   "cell_type": "markdown",
   "metadata": {
    "deletable": true,
    "editable": true
   },
   "source": [
    "To simplify the code for this program you can define the database connection as a global variable.  The following code cell imports the libraries you need and defines the database connection."
   ]
  },
  {
   "cell_type": "code",
   "execution_count": 207,
   "metadata": {
    "collapsed": false,
    "deletable": true,
    "editable": true
   },
   "outputs": [],
   "source": [
    "from sqlite3 import connect\n",
    "x = ! sqlite3 sakila211.db \"\"\n",
    "db = connect('sakila211.db')"
   ]
  },
  {
   "cell_type": "markdown",
   "metadata": {
    "deletable": true,
    "editable": true
   },
   "source": [
    "### <span style=\"color:teal\">Dates</span>"
   ]
  },
  {
   "cell_type": "markdown",
   "metadata": {
    "deletable": true,
    "editable": true
   },
   "source": [
    "Dates in a SQLite database are stored as strings.  The function below uses a Python library named `datetime` to parse a date string and return a string that can be printed as part of the report.  Read the online documentation for the `datetime` module if you want to learn more about date formats and functions that parse and format dates.\n",
    "\n",
    "**Note:** &nbsp; The format string is a global variable -- you can use this same format in your function that checks to see if a CD is overdue."
   ]
  },
  {
   "cell_type": "code",
   "execution_count": 208,
   "metadata": {
    "collapsed": true,
    "deletable": true,
    "editable": true
   },
   "outputs": [],
   "source": [
    "from datetime import datetime\n",
    "\n",
    "date_format = \"%Y-%m-%d %H:%M:%S.%f\"\n",
    "\n",
    "def mmddyyyy(date):\n",
    "    d = datetime.strptime(date, date_format)\n",
    "    return '{:02d}/{:02d}/{:02d}'.format(d.month, d.day, d.year)"
   ]
  },
  {
   "cell_type": "code",
   "execution_count": 209,
   "metadata": {
    "collapsed": true,
    "deletable": true,
    "editable": true
   },
   "outputs": [],
   "source": [
    "assert mmddyyyy('2005-02-26 20:59:35.000') == '02/26/2005'"
   ]
  },
  {
   "cell_type": "markdown",
   "metadata": {
    "deletable": true,
    "editable": true
   },
   "source": [
    "### <span style=\"color:teal\">Customer Name</span>"
   ]
  },
  {
   "cell_type": "markdown",
   "metadata": {
    "deletable": true,
    "editable": true
   },
   "source": [
    "Fill in the definition of the `customer_name` function.  It will be passed a string with a last name, and it should return a list of tuples of the form `(first, last)` with the first and last names of all customers with the same last name.  If there are no customers with that name the list should be empty."
   ]
  },
  {
   "cell_type": "code",
   "execution_count": 210,
   "metadata": {
    "collapsed": true,
    "deletable": false,
    "editable": true,
    "nbgrader": {
     "checksum": "e70c884e18f10012edb52e87d2719697",
     "grade": true,
     "grade_id": "customer_name",
     "locked": false,
     "points": 4,
     "schema_version": 1,
     "solution": true
    }
   },
   "outputs": [],
   "source": [
    "def customer_names(s):\n",
    "    query= 'SELECT first_name, last_name FROM customer WHERE last_name = ?'\n",
    "    result = db.execute(query, [s.title()])\n",
    "    return [tup for tup in result]"
   ]
  },
  {
   "cell_type": "markdown",
   "metadata": {
    "deletable": true,
    "editable": true
   },
   "source": [
    "##### <span style=\"color:red\">Autograder Tests:</span>"
   ]
  },
  {
   "cell_type": "markdown",
   "metadata": {
    "deletable": true,
    "editable": true
   },
   "source": [
    "**Do not edit, copy, or delete these cells.**"
   ]
  },
  {
   "cell_type": "code",
   "execution_count": 211,
   "metadata": {
    "collapsed": false,
    "deletable": false,
    "editable": false,
    "nbgrader": {
     "checksum": "a058825c6ac9ee1512975bf08b53f5e2",
     "grade": true,
     "grade_id": "cname_1",
     "locked": true,
     "points": 2,
     "schema_version": 1,
     "solution": false
    }
   },
   "outputs": [],
   "source": [
    "assert customer_names('ebert') == [('Leo', 'Ebert')]"
   ]
  },
  {
   "cell_type": "code",
   "execution_count": 212,
   "metadata": {
    "collapsed": true,
    "deletable": false,
    "editable": false,
    "nbgrader": {
     "checksum": "8368cbc5b9882ede9ad70397eec55502",
     "grade": true,
     "grade_id": "cname_2",
     "locked": true,
     "points": 2,
     "schema_version": 1,
     "solution": false
    }
   },
   "outputs": [],
   "source": [
    "assert customer_names('smith') == [('Mary', 'Smith')]"
   ]
  },
  {
   "cell_type": "code",
   "execution_count": 213,
   "metadata": {
    "collapsed": true,
    "deletable": false,
    "editable": false,
    "nbgrader": {
     "checksum": "898903e3d3e5b92bea1199d595596f78",
     "grade": true,
     "grade_id": "cname_3",
     "locked": true,
     "points": 2,
     "schema_version": 1,
     "solution": false
    }
   },
   "outputs": [],
   "source": [
    "assert customer_names('turing') == []"
   ]
  },
  {
   "cell_type": "markdown",
   "metadata": {
    "deletable": true,
    "editable": true
   },
   "source": [
    "### <span style=\"color:teal\">Film List</span>"
   ]
  },
  {
   "cell_type": "markdown",
   "metadata": {
    "deletable": true,
    "editable": true
   },
   "source": [
    "Fill in the body of the `film_list` function so it returns a list of all CDs rented by a customer during a specified month. \n",
    "The parameters that will be passed to the function are the customer's last name (a string) and the month and year (both integers).  Return a list of tuples that have the following values, in the order shown:\n",
    "* film title\n",
    "* rental rate (how much it costs to rent the CD)\n",
    "* rental date (the date the CD was rented)\n",
    "* return date (the date the CD was returned)\n",
    "* rental duration (the number of days the CD can be out before a late fee is charged) \n",
    "\n",
    "All of the information you need can be retrieved with a single query that joins the rental, inventory, film, and customer tables. Note that this is the same query used to answer Question 19 above, except with different column names.\n",
    "\n",
    "**Hint:** &nbsp; The dates in the database are strings.  Think about pattern matching when you write the WHERE clause that specifies the date range.\n"
   ]
  },
  {
   "cell_type": "code",
   "execution_count": 214,
   "metadata": {
    "collapsed": false,
    "deletable": false,
    "editable": true,
    "nbgrader": {
     "checksum": "f088858c2cd4711c5ab68e68cb012b98",
     "grade": true,
     "grade_id": "film_list",
     "locked": false,
     "points": 6,
     "schema_version": 1,
     "solution": true
    }
   },
   "outputs": [],
   "source": [
    "def film_list(name, month, year):\n",
    "    start_month=(str(year)+\"-\"+'{:02}'.format(month)+\"-01\"+\" 00:00:00.000\")\n",
    "    end_month=(str(year)+\"-\"+'{:02}'.format(month)+\"-32\"+\" 00:00:00.000\")\n",
    "    \n",
    "    query=\"SELECT first_name, last_name, title, rental_rate, rental_date, return_date, rental_duration FROM customer JOIN rental USING (customer_id) JOIN inventory USING (inventory_id) JOIN film USING (film_id) WHERE last_name = ? AND rental_date BETWEEN ? AND ?\"\n",
    "    result = db.execute(query, [name.title(),start_month,end_month])\n",
    "    \n",
    "    return [(tup[2:7]) for tup in result]"
   ]
  },
  {
   "cell_type": "markdown",
   "metadata": {
    "deletable": true,
    "editable": true
   },
   "source": [
    "##### <span style=\"color:red\">Autograder Tests:</span>"
   ]
  },
  {
   "cell_type": "markdown",
   "metadata": {
    "deletable": true,
    "editable": true
   },
   "source": [
    "**Do not edit, copy, or delete these cells.**"
   ]
  },
  {
   "cell_type": "code",
   "execution_count": 215,
   "metadata": {
    "collapsed": false,
    "deletable": false,
    "editable": false,
    "nbgrader": {
     "checksum": "35c9520aaf60e848eaffc1cde16c96b4",
     "grade": true,
     "grade_id": "film_1",
     "locked": true,
     "points": 2,
     "schema_version": 1,
     "solution": false
    }
   },
   "outputs": [],
   "source": [
    "leo = film_list('Ebert', 6, 2005)\n",
    "assert len(leo) == 5\n",
    "assert leo[0] == ('Lonely Elephant', 2.99, '2005-06-16 20:59:35.000', '2005-06-24 15:31:35.000', 3)"
   ]
  },
  {
   "cell_type": "code",
   "execution_count": 216,
   "metadata": {
    "collapsed": true,
    "deletable": false,
    "editable": false,
    "nbgrader": {
     "checksum": "bb03a0a830f1591b9770aa54a841b5aa",
     "grade": true,
     "grade_id": "film_2",
     "locked": true,
     "points": 2,
     "schema_version": 1,
     "solution": false
    }
   },
   "outputs": [],
   "source": [
    "mary = film_list('Smith', 8, 2005)\n",
    "assert len(mary) == 11\n",
    "assert mary[0] == ('Adaptation Holes', 2.99, '2005-08-01 08:51:04.000', '2005-08-10 12:12:04.000', 7)"
   ]
  },
  {
   "cell_type": "markdown",
   "metadata": {
    "deletable": true,
    "editable": true
   },
   "source": [
    "### <span style=\"color:teal\">Overdue CDs</span>"
   ]
  },
  {
   "cell_type": "markdown",
   "metadata": {
    "deletable": true,
    "editable": true
   },
   "source": [
    "To decide whether a CD was returned late you need to subtract the rental date from the return date and see if the difference is greater than the rental duration. The easiest way to do this is to use Python’s `datetime` library.\n",
    "\n",
    "Using a call to `strptime` (see the body of the `mmddyyyy` function defined above) create `datetime` objects for the rental date and the return date. Then subtract the rental date from the return date to get a `timedelta` object:\n",
    "```\n",
    "    diff = returned - rented\n",
    "```\n",
    "Now you can get attributes of the object named `diff` to tell you how far apart the dates were, for example `diff.days` will tell you the time difference in days.\n",
    "\n",
    "Fill in the body of the `overdue` function.  The parameters are a rental date, a return date, and the rental duration.  Return TRUE if the CD was not returned or if the number of days it was checked out is greater than the rental duration."
   ]
  },
  {
   "cell_type": "code",
   "execution_count": 217,
   "metadata": {
    "collapsed": true,
    "deletable": false,
    "editable": true,
    "nbgrader": {
     "checksum": "c323f797a07a6c9b3735ad8edf1d3421",
     "grade": true,
     "grade_id": "overdue",
     "locked": false,
     "points": 4,
     "schema_version": 1,
     "solution": true
    }
   },
   "outputs": [],
   "source": [
    "def overdue(rent_date, return_date, duration):\n",
    "    date_format = \"%Y-%m-%d %H:%M:%S.%f\"\n",
    "    d1 = datetime.strptime(rent_date, date_format)\n",
    "    d2 = datetime.strptime(return_date, date_format)\n",
    "    diff = d2-d1\n",
    "    if diff.days>duration:\n",
    "        return True\n",
    "    else:\n",
    "        return False"
   ]
  },
  {
   "cell_type": "code",
   "execution_count": 218,
   "metadata": {
    "collapsed": false,
    "deletable": false,
    "editable": false,
    "nbgrader": {
     "checksum": "80d794c42ab8cce996954fd9b03c3ab3",
     "grade": true,
     "grade_id": "overdue_1",
     "locked": true,
     "points": 2,
     "schema_version": 1,
     "solution": false
    }
   },
   "outputs": [],
   "source": [
    "assert overdue('2005-06-16 20:59:35.000', '2005-06-19 20:59:35.000', 2)"
   ]
  },
  {
   "cell_type": "code",
   "execution_count": 219,
   "metadata": {
    "collapsed": true,
    "deletable": false,
    "editable": false,
    "nbgrader": {
     "checksum": "765469f430365b95790c1fc6ca19f4c8",
     "grade": true,
     "grade_id": "overdue_2",
     "locked": true,
     "points": 2,
     "schema_version": 1,
     "solution": false
    }
   },
   "outputs": [],
   "source": [
    "assert not overdue('2005-06-16 20:59:35.000', '2005-06-17 20:59:35.000', 2)"
   ]
  },
  {
   "cell_type": "code",
   "execution_count": 220,
   "metadata": {
    "collapsed": true,
    "deletable": false,
    "editable": false,
    "nbgrader": {
     "checksum": "05f3f9c7bd7551799d290730dbebb1fe",
     "grade": true,
     "grade_id": "overdue_3",
     "locked": true,
     "points": 2,
     "schema_version": 1,
     "solution": false
    }
   },
   "outputs": [],
   "source": [
    "assert not overdue('2005-06-16 20:59:35.000', '2005-06-19 20:59:34.000', 2)"
   ]
  },
  {
   "cell_type": "markdown",
   "metadata": {
    "deletable": true,
    "editable": true
   },
   "source": [
    "### <span style=\"color:teal\">Report Generator</span>"
   ]
  },
  {
   "cell_type": "markdown",
   "metadata": {
    "deletable": true,
    "editable": true
   },
   "source": [
    "Fill in the body of the function named `sakila_report` so it prints a monthly report.  The arguments passed to the function will be a customer's last name (a string) and a month and year (both integers).\n",
    "\n",
    "If the customer is not in the database, or if there are two customers with the same last name, return None.  Otherwise print a list of films and late fees and the total amount due.\n",
    "\n",
    "You can format the report however you would like, as long as the following items appear somewhere in the output:\n",
    "* every fee should be printed with a dollar sign and an amount, for example `$2.99` or `$25.92`\n",
    "* the total amound due should be printed on a line that includes the word `\"Total\"` followed by a dollar amount on the same line"
   ]
  },
  {
   "cell_type": "code",
   "execution_count": 221,
   "metadata": {
    "collapsed": false,
    "deletable": false,
    "editable": true,
    "nbgrader": {
     "checksum": "1df4a1d4be88cc0c6f4280e906e005f8",
     "grade": true,
     "grade_id": "report",
     "locked": false,
     "points": 10,
     "schema_version": 1,
     "solution": true
    }
   },
   "outputs": [],
   "source": [
    "def sakila_report(customer, month, year):\n",
    "    total= 0\n",
    "    start_month=(str(year)+\"-\"+'{:02}'.format(month)+\"-01\"+\" 00:00:00.000\")\n",
    "    end_month=(str(year)+\"-\"+'{:02}'.format(month)+\"-32\"+\" 00:00:00.000\")\n",
    "    \n",
    "    query=\"SELECT first_name, last_name, title, rental_rate, rental_date, return_date, rental_duration FROM customer JOIN rental USING (customer_id) JOIN inventory USING (inventory_id) JOIN film USING (film_id) WHERE last_name = ? AND rental_date BETWEEN ? AND ?\"\n",
    "    result = db.execute(query, [customer.title(),start_month,end_month])\n",
    "    \n",
    "    customer_info =[tup for tup in result]\n",
    "    \n",
    "    if customer_info==[]:\n",
    "        return None\n",
    "    \n",
    "    first_name = customer_info[0][0]\n",
    "    \n",
    "    for tup in customer_info:\n",
    "        if tup[0] != first_name:\n",
    "            return None\n",
    "    print(\"--- Sakila DVD Rentals ---\")\n",
    "    print(\"Monthly Report for Customer\"+\"\\n\")\n",
    "    for tup in customer_info:\n",
    "        total += tup[3]\n",
    "        print(tup[2], ': $' + str(tup[3]))\n",
    "        if (overdue(tup[4], tup[5], tup[6])) == True:\n",
    "            total += tup[3]\n",
    "            print('*Late Fee*:', '$' + str(tup[3])) \n",
    "    print(\"\")\n",
    "    print('Monthly Total: $' + str(round(total,2)))"
   ]
  },
  {
   "cell_type": "markdown",
   "metadata": {
    "deletable": true,
    "editable": true
   },
   "source": [
    "##### <span style=\"color:red\">Tests</span>"
   ]
  },
  {
   "cell_type": "markdown",
   "metadata": {
    "deletable": true,
    "editable": true
   },
   "source": [
    "You can use code cells in this section (and add more if you wish) to test your functions."
   ]
  },
  {
   "cell_type": "code",
   "execution_count": 230,
   "metadata": {
    "collapsed": false,
    "deletable": true,
    "editable": true
   },
   "outputs": [
    {
     "name": "stdout",
     "output_type": "stream",
     "text": [
      "--- Sakila DVD Rentals ---\n",
      "Monthly Report for Customer\n",
      "\n",
      "Lonely Elephant : $2.99\n",
      "*Late Fee*: $2.99\n",
      "Enemy Odds : $4.99\n",
      "*Late Fee*: $4.99\n",
      "Song Hedwig : $0.99\n",
      "*Late Fee*: $0.99\n",
      "Wash Heavenly : $4.99\n",
      "Hurricane Affair : $2.99\n",
      "\n",
      "Monthly Total: $25.92\n"
     ]
    }
   ],
   "source": [
    "sakila_report('Ebert', 6, 2005)"
   ]
  },
  {
   "cell_type": "markdown",
   "metadata": {
    "deletable": true,
    "editable": true
   },
   "source": [
    "##### <span style=\"color:red\">Autograder Tests</span>"
   ]
  },
  {
   "cell_type": "markdown",
   "metadata": {
    "deletable": true,
    "editable": true
   },
   "source": [
    "The tests for the `sakila_report` function will call the function and while using the IPython `capture` command to save everything the function prints.  We'll then use a function that counts the number of times a dollar amount (from either a rental fee or a late fee) occurs and make sure the total amount is the expected value.\n",
    "\n",
    "**Do not edit, copy, or delete these cells.**"
   ]
  },
  {
   "cell_type": "code",
   "execution_count": 231,
   "metadata": {
    "collapsed": true,
    "deletable": false,
    "editable": false,
    "nbgrader": {
     "checksum": "2f49d1799c7ab14021f07a28be3c903a",
     "grade": false,
     "grade_id": "check_report",
     "locked": true,
     "schema_version": 1,
     "solution": false
    }
   },
   "outputs": [],
   "source": [
    "import re\n",
    "\n",
    "def check_report(text, expected_count, expected_total):\n",
    "    nums = []\n",
    "    for line in text.split('\\n'):\n",
    "        has_total = re.search(r'Total.*(\\$\\d+\\.\\d\\d)', line)\n",
    "        if has_total:\n",
    "            assert has_total.group(1) == expected_total\n",
    "        else:\n",
    "            for s in re.findall(r'\\$\\d+\\.\\d\\d', line):\n",
    "                nums.append(s)\n",
    "    assert(len(nums) == expected_count)\n",
    "    total = 0.0\n",
    "    for s in nums:\n",
    "        total += float(s[1:])\n",
    "    assert(round(total,2)) == round(float(expected_total[1:]), 2)\n",
    "    return True"
   ]
  },
  {
   "cell_type": "code",
   "execution_count": 232,
   "metadata": {
    "collapsed": false,
    "deletable": false,
    "editable": false,
    "nbgrader": {
     "checksum": "669aa6961ac2f3df7f43f3739c606684",
     "grade": false,
     "grade_id": "capture_leo",
     "locked": true,
     "schema_version": 1,
     "solution": false
    }
   },
   "outputs": [],
   "source": [
    "%%capture res\n",
    "sakila_report('Ebert', 6, 2005)"
   ]
  },
  {
   "cell_type": "code",
   "execution_count": 233,
   "metadata": {
    "collapsed": false,
    "deletable": false,
    "editable": false,
    "nbgrader": {
     "checksum": "52d5bbb12d2951cd7f316dfafb8f9357",
     "grade": true,
     "grade_id": "leo_test",
     "locked": true,
     "points": 4,
     "schema_version": 1,
     "solution": false
    }
   },
   "outputs": [],
   "source": [
    "assert check_report(res.stdout, 8, '$25.92')"
   ]
  },
  {
   "cell_type": "code",
   "execution_count": 234,
   "metadata": {
    "collapsed": true,
    "deletable": false,
    "editable": false,
    "nbgrader": {
     "checksum": "8ff3338ef9d21fa580671aa6f7141965",
     "grade": false,
     "grade_id": "capture_mary",
     "locked": true,
     "schema_version": 1,
     "solution": false
    }
   },
   "outputs": [],
   "source": [
    "%%capture res\n",
    "sakila_report('Smith', 8, 2005)"
   ]
  },
  {
   "cell_type": "code",
   "execution_count": 235,
   "metadata": {
    "collapsed": true,
    "deletable": false,
    "editable": false,
    "nbgrader": {
     "checksum": "ef16e7521cb06dedabc59aa25a9e390d",
     "grade": true,
     "grade_id": "mary_test",
     "locked": true,
     "points": 4,
     "schema_version": 1,
     "solution": false
    }
   },
   "outputs": [],
   "source": [
    "assert check_report(res.stdout, 15, '$32.85')"
   ]
  },
  {
   "cell_type": "code",
   "execution_count": 236,
   "metadata": {
    "collapsed": false,
    "deletable": false,
    "editable": false,
    "nbgrader": {
     "checksum": "f405bf0dc3d1f189495a57dfdc8b8a1e",
     "grade": false,
     "grade_id": "capture_alan",
     "locked": true,
     "schema_version": 1,
     "solution": false
    }
   },
   "outputs": [],
   "source": [
    "%%capture res\n",
    "sakila_report('Turing', 6, 2005)"
   ]
  },
  {
   "cell_type": "code",
   "execution_count": 237,
   "metadata": {
    "collapsed": false,
    "deletable": false,
    "editable": false,
    "nbgrader": {
     "checksum": "db75b21478ac4552611eeb700788d17c",
     "grade": true,
     "grade_id": "alan_test",
     "locked": true,
     "points": 2,
     "schema_version": 1,
     "solution": false
    }
   },
   "outputs": [],
   "source": [
    "assert len(res.stdout) == 0"
   ]
  },
  {
   "cell_type": "code",
   "execution_count": 238,
   "metadata": {
    "collapsed": false
   },
   "outputs": [
    {
     "name": "stdout",
     "output_type": "stream",
     "text": [
      "--- Sakila DVD Rentals ---\n",
      "Monthly Report for Customer\n",
      "\n",
      "Lonely Elephant : $2.99\n",
      "*Late Fee*: $2.99\n",
      "Enemy Odds : $4.99\n",
      "*Late Fee*: $4.99\n",
      "Song Hedwig : $0.99\n",
      "*Late Fee*: $0.99\n",
      "Wash Heavenly : $4.99\n",
      "Hurricane Affair : $2.99\n",
      "\n",
      "Monthly Total: $25.92\n"
     ]
    }
   ],
   "source": [
    "sakila_report('Ebert', 6, 2005)"
   ]
  },
  {
   "cell_type": "code",
   "execution_count": null,
   "metadata": {
    "collapsed": true
   },
   "outputs": [],
   "source": []
  }
 ],
 "metadata": {
  "anaconda-cloud": {},
  "kernelspec": {
   "display_name": "Python [default]",
   "language": "python",
   "name": "python3"
  },
  "language_info": {
   "codemirror_mode": {
    "name": "ipython",
    "version": 3
   },
   "file_extension": ".py",
   "mimetype": "text/x-python",
   "name": "python",
   "nbconvert_exporter": "python",
   "pygments_lexer": "ipython3",
   "version": "3.5.2"
  }
 },
 "nbformat": 4,
 "nbformat_minor": 1
}
