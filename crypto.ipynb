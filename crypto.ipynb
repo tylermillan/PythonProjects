{
 "cells": [
  {
   "cell_type": "markdown",
   "metadata": {
    "deletable": true,
    "editable": true
   },
   "source": [
    "# <span style=\"color:teal;\">CIS 211 Project 2:  Cryptography</span>"
   ]
  },
  {
   "cell_type": "markdown",
   "metadata": {
    "deletable": true,
    "editable": true
   },
   "source": [
    "##### Due 11:00 P.M. April 14, 2017"
   ]
  },
  {
   "cell_type": "markdown",
   "metadata": {
    "deletable": true,
    "editable": true
   },
   "source": [
    "##### Reading:  M&R 3.1 -- 3.3, 3.5; &nbsp; 8.1 -- 8.2, 8.4.1 -- 8.4.4"
   ]
  },
  {
   "cell_type": "markdown",
   "metadata": {
    "deletable": true,
    "editable": true
   },
   "source": [
    "This week we're going to use simple encryption and decryption algorithms as a way of exploring strings and containers (lists, dictionaries, and sets) in Python.\n",
    "\n",
    "Encryption is described in Chapter 3 of the textbook.  You should understand how the **substitution cipher** works -- you don't need to understand the details of any of the Python functions that implement the method, but you should know what it means to encode a piece of text with this kind of cipher.\n",
    "\n",
    "Writing a function that decrypts a piece of text (assuming it really was encrypted with a substitution cipher) is not too hard, compared to other forms of encryption, but still more than we want to do in a one-week project.  Instead of developing a complete algorithm that will decrypt a piece of text we'll write a few small \"helper functions\" that might be useful as part of a larger application.\n"
   ]
  },
  {
   "cell_type": "markdown",
   "metadata": {
    "deletable": true,
    "editable": true
   },
   "source": [
    "###  <span style=\"color:teal\">Imports</span>"
   ]
  },
  {
   "cell_type": "code",
   "execution_count": 70,
   "metadata": {
    "collapsed": true,
    "deletable": true,
    "editable": true
   },
   "outputs": [],
   "source": [
    "from string import punctuation, ascii_uppercase, ascii_lowercase"
   ]
  },
  {
   "cell_type": "markdown",
   "metadata": {
    "deletable": true,
    "editable": true
   },
   "source": [
    "###  <span style=\"color:teal\">Test Data</span>"
   ]
  },
  {
   "cell_type": "code",
   "execution_count": 71,
   "metadata": {
    "collapsed": false,
    "deletable": true,
    "editable": true
   },
   "outputs": [
    {
     "name": "stdout",
     "output_type": "stream",
     "text": [
      "\n",
      "UEK XZIV, MOU XZIV,\n",
      "RKP XZIV, QHGK XZIV.\n",
      "\n"
     ]
    }
   ],
   "source": [
    "seuss = '\\nUEK XZIV, MOU XZIV,\\nRKP XZIV, QHGK XZIV.\\n'\n",
    "print(seuss)"
   ]
  },
  {
   "cell_type": "markdown",
   "metadata": {
    "deletable": true,
    "editable": true
   },
   "source": [
    "###  <span style=\"color:teal\">Project 1: &nbsp; Ciphertext Words (20 points)</span>"
   ]
  },
  {
   "cell_type": "markdown",
   "metadata": {
    "deletable": true,
    "editable": true
   },
   "source": [
    "Fill in the body of the function named `cipher_words`.  It will be passed a string containing a \"cryptoquote\", and it should return the set of words in the quote.  All punctuation should be stripped from the ends of words (but not in the middle).\n",
    "\n",
    "Example:\n",
    "```\n",
    ">>> cipher_words(suess)\n",
    "{'MOU', 'QHGK', 'RKP', 'UEK', 'XZIV'}\n",
    "```\n",
    "\n",
    "**Style (2 points):** This function can be written without a `for` loop, using set comprehension."
   ]
  },
  {
   "cell_type": "markdown",
   "metadata": {
    "deletable": true,
    "editable": true
   },
   "source": [
    "##### <span style=\"color:red\">Code</span>"
   ]
  },
  {
   "cell_type": "code",
   "execution_count": 72,
   "metadata": {
    "collapsed": false,
    "deletable": false,
    "editable": true,
    "nbgrader": {
     "checksum": "ca84339289c49a3aebf974b8d28ea633",
     "grade": true,
     "grade_id": "cipher_words",
     "locked": false,
     "points": 10,
     "schema_version": 1,
     "solution": true
    }
   },
   "outputs": [],
   "source": [
    "def cipher_words(text):\n",
    "    \"\"\"\n",
    "    Extracts words from a given string and converts into a usuable set.\n",
    "\n",
    "   :param str text: A given set of words as a string.\n",
    "   :return: The set of words in a str returned as a set.\n",
    "   :rtype: set\n",
    "    \"\"\"\n",
    "    x = { w.strip(punctuation) for w in text.split() }\n",
    "    \n",
    "    return x"
   ]
  },
  {
   "cell_type": "markdown",
   "metadata": {
    "deletable": true,
    "editable": true
   },
   "source": [
    "##### <span style=\"color:red\">Autograder Tests</span>"
   ]
  },
  {
   "cell_type": "code",
   "execution_count": 73,
   "metadata": {
    "collapsed": false,
    "deletable": false,
    "editable": false,
    "nbgrader": {
     "checksum": "b60c6756927b3c427ff31494d4aaeabd",
     "grade": true,
     "grade_id": "cipher_words_test",
     "locked": true,
     "points": 5,
     "schema_version": 1,
     "solution": false
    }
   },
   "outputs": [],
   "source": [
    "# pass the example text to the function, make sure 5 words are returned\n",
    "words = cipher_words(seuss)\n",
    "assert len(words) == 5\n",
    "\n",
    "# look up each word in the result set\n",
    "for w in ['MOU', 'QHGK', 'RKP', 'UEK', 'XZIV']:\n",
    "    assert w in words"
   ]
  },
  {
   "cell_type": "markdown",
   "metadata": {
    "deletable": true,
    "editable": true
   },
   "source": [
    "##### <span style=\"color:red\">Documentation</span>"
   ]
  },
  {
   "cell_type": "markdown",
   "metadata": {
    "deletable": false,
    "editable": true,
    "nbgrader": {
     "checksum": "59d96420e8802b5885f0d2d5197eb6c0",
     "grade": true,
     "grade_id": "cipher_words_doc",
     "locked": false,
     "points": 5,
     "schema_version": 1,
     "solution": true
    }
   },
   "source": [
    "Used set comprehension as opposed to a for loop to iteratively strip each part of the created set."
   ]
  },
  {
   "cell_type": "markdown",
   "metadata": {
    "deletable": true,
    "editable": true
   },
   "source": [
    "###  <span style=\"color:teal\">Project 2: &nbsp; Count Ciphertext Letters (20 points)</span>"
   ]
  },
  {
   "cell_type": "markdown",
   "metadata": {
    "deletable": true,
    "editable": true
   },
   "source": [
    "Fill in the body of the `count_unsolved` function.  It will be passed a single word, and it should return the number of unique ciphertext (upper case) letters in the word.\n",
    "\n",
    "Examples:\n",
    "```\n",
    ">>> count_unsolved('XZIV')\n",
    "4\n",
    "\n",
    ">>> count_unsolved('QTETET')\n",
    "3\n",
    "```\n",
    "Note how there are 6 letters in the second example, but some are repeated.  There are only 3 different letters:  Q, E, and T."
   ]
  },
  {
   "cell_type": "markdown",
   "metadata": {
    "deletable": true,
    "editable": true
   },
   "source": [
    "##### <span style=\"color:red\">Code</span>"
   ]
  },
  {
   "cell_type": "code",
   "execution_count": 74,
   "metadata": {
    "collapsed": true,
    "deletable": false,
    "editable": true,
    "nbgrader": {
     "checksum": "ef976e4b3152d525a7f3951ddab400f2",
     "grade": true,
     "grade_id": "count_unsolved",
     "locked": false,
     "points": 10,
     "schema_version": 1,
     "solution": true
    }
   },
   "outputs": [],
   "source": [
    "def count_unsolved(word):\n",
    "    \"\"\"\n",
    "    Returns the unique ciphertext letters in a word.\n",
    "\n",
    "   :param str word: A given string that is a single word.\n",
    "   :return: the number of unique ciphertext (upper case) letters in the word.\n",
    "   :rtype: integer\n",
    "    \"\"\"\n",
    "    x = len(set(\"\".join(ch for ch in word if ch.isupper())))\n",
    "    \n",
    "    return x"
   ]
  },
  {
   "cell_type": "markdown",
   "metadata": {
    "deletable": true,
    "editable": true
   },
   "source": [
    "##### <span style=\"color:red\">Autograder Tests</span>"
   ]
  },
  {
   "cell_type": "code",
   "execution_count": 75,
   "metadata": {
    "collapsed": false,
    "deletable": false,
    "editable": false,
    "nbgrader": {
     "checksum": "361e99afccb216b7e3081b8734d0b8fa",
     "grade": true,
     "grade_id": "count_unsolved_test_1",
     "locked": true,
     "points": 1,
     "schema_version": 1,
     "solution": false
    }
   },
   "outputs": [],
   "source": [
    "# each letter in this string is unique\n",
    "assert count_unsolved('XZIV') == 4"
   ]
  },
  {
   "cell_type": "code",
   "execution_count": 76,
   "metadata": {
    "collapsed": true,
    "deletable": false,
    "editable": false,
    "nbgrader": {
     "checksum": "e8c00a4e8def006c5fd60fa400c06455",
     "grade": true,
     "grade_id": "count_unsolved_test_2",
     "locked": true,
     "points": 1,
     "schema_version": 1,
     "solution": false
    }
   },
   "outputs": [],
   "source": [
    "# there are only 3 unique letters in this string\n",
    "assert count_unsolved('QTETET') == 3"
   ]
  },
  {
   "cell_type": "code",
   "execution_count": 77,
   "metadata": {
    "collapsed": true,
    "deletable": false,
    "editable": false,
    "nbgrader": {
     "checksum": "ac7110c3510e7daaaadc9b7ce3a4d4e7",
     "grade": true,
     "grade_id": "count_unsolved_test_3",
     "locked": true,
     "points": 1,
     "schema_version": 1,
     "solution": false
    }
   },
   "outputs": [],
   "source": [
    "# repeat the previous test after \"solving\" one of the letters\n",
    "assert count_unsolved('QaEaEa') == 2"
   ]
  },
  {
   "cell_type": "code",
   "execution_count": 78,
   "metadata": {
    "collapsed": true,
    "deletable": false,
    "editable": false,
    "nbgrader": {
     "checksum": "b6732eb21ffeb84cc7f72bb36a908490",
     "grade": true,
     "grade_id": "count_unsolved_test_4",
     "locked": true,
     "points": 1,
     "schema_version": 1,
     "solution": false
    }
   },
   "outputs": [],
   "source": [
    "# a word can be completely solved (no remaining ciphertext letters)\n",
    "assert count_unsolved('banana') == 0"
   ]
  },
  {
   "cell_type": "markdown",
   "metadata": {
    "deletable": true,
    "editable": true
   },
   "source": [
    "##### <span style=\"color:red\">Documentation</span>"
   ]
  },
  {
   "cell_type": "markdown",
   "metadata": {
    "deletable": false,
    "editable": true,
    "nbgrader": {
     "checksum": "e5851db7ebe38e0a39a9a123b126176d",
     "grade": true,
     "grade_id": "count_unsolved_doc",
     "locked": false,
     "points": 6,
     "schema_version": 1,
     "solution": true
    }
   },
   "source": [
    "In creating a code for this function I used the .isupper function which checks the uppercase letters in a string and\n",
    "used the .join function to create a new string of only capital letters. I converted this string to a set to remove any duplicate letters and checked the length of the set."
   ]
  },
  {
   "cell_type": "markdown",
   "metadata": {
    "deletable": true,
    "editable": true
   },
   "source": [
    "###  <span style=\"color:teal\">Project 3: &nbsp; Fewest Unsolved Letters (15 points)</span>"
   ]
  },
  {
   "cell_type": "markdown",
   "metadata": {
    "deletable": true,
    "editable": true
   },
   "source": [
    "One strategy for choosing words to work on is to find the word that has the fewest letters remaining to be solved.  Fill in the body of the `fewest_unsolved` function so it iterates over a set of words and returns a tuple `(n,w)` where `w` is the word with the fewest remaining undecrypted letters and `n` is the number of undecrypted letters.\n",
    "\n",
    "For example, suppose the quote from earlier has been partially decrypted and the set of words is now\n",
    "```\n",
    "{'MOo', 'QHue', 'ReP', 'XiIV', 'oEe'}\n",
    "```\n",
    "Passing this set to `fewest_unsolved` should return `oEe` because it has one uppercase letter and the others all have two:\n",
    "```\n",
    "```\n",
    "\n",
    "**Note:** If there is a tie (more than one word has the same minimum number of undecrypted letters) just return one at random (_e.g._ the first one found)."
   ]
  },
  {
   "cell_type": "markdown",
   "metadata": {
    "deletable": true,
    "editable": true
   },
   "source": [
    "##### <span style=\"color:red\">Code</span>"
   ]
  },
  {
   "cell_type": "code",
   "execution_count": 79,
   "metadata": {
    "collapsed": false,
    "deletable": false,
    "editable": true,
    "nbgrader": {
     "checksum": "8f4a675e08b50052b704f12b1a95a31c",
     "grade": true,
     "grade_id": "fewest_unsolved",
     "locked": false,
     "points": 6,
     "schema_version": 1,
     "solution": true
    }
   },
   "outputs": [],
   "source": [
    "def fewest_unsolved(group):\n",
    "    \"\"\"\n",
    "    Iterates over a set of words and returns the word with the fewest remaining undecrypted letters.\n",
    "\n",
    "   :param set group: A given set containing multiple strings.\n",
    "   :return: the string with the fewest remaining undecrypted letters.\n",
    "   :rtype: string\n",
    "    \"\"\"\n",
    "    unsolved_list = []\n",
    "    for w in group:\n",
    "        unsolved_list.append([count_unsolved(w),w])\n",
    "    x = sorted(unsolved_list)\n",
    "    try:\n",
    "        return x[0][1]\n",
    "    except:\n",
    "        print (\"Set was not given\")\n",
    "    "
   ]
  },
  {
   "cell_type": "markdown",
   "metadata": {
    "deletable": true,
    "editable": true
   },
   "source": [
    "##### <span style=\"color:red\">Autograder Tests</span>"
   ]
  },
  {
   "cell_type": "code",
   "execution_count": 80,
   "metadata": {
    "collapsed": false,
    "deletable": false,
    "editable": false,
    "nbgrader": {
     "checksum": "a198cbb46a3b1877c3129a6e58ed4f23",
     "grade": true,
     "grade_id": "fewest_unsolved_test1",
     "locked": true,
     "points": 2,
     "schema_version": 1,
     "solution": false
    }
   },
   "outputs": [],
   "source": [
    "# this set has a word with one ciphertext letter and three others with two ciphertext letters\n",
    "test_set = {'oEe', 'XiIV', 'MOo', 'QHue', 'ReP'}\n",
    "\n",
    "# the first call should find the word with one ciphertext letter\n",
    "w = fewest_unsolved(test_set)\n",
    "assert w == 'oEe'"
   ]
  },
  {
   "cell_type": "code",
   "execution_count": 81,
   "metadata": {
    "collapsed": false,
    "deletable": false,
    "editable": false,
    "nbgrader": {
     "checksum": "8ad938c3f356ab07b7949142dcf582a7",
     "grade": true,
     "grade_id": "fewest_unsolved_test_2",
     "locked": true,
     "points": 2,
     "schema_version": 1,
     "solution": false
    }
   },
   "outputs": [],
   "source": [
    "# remove that word from the set, the next call should find a word with two ciphertext letters\n",
    "test_set.remove(w)\n",
    "w = fewest_unsolved(test_set)\n",
    "assert count_unsolved(w) == 2"
   ]
  },
  {
   "cell_type": "markdown",
   "metadata": {
    "deletable": true,
    "editable": true
   },
   "source": [
    "##### <span style=\"color:red\">Documentation</span>"
   ]
  },
  {
   "cell_type": "markdown",
   "metadata": {
    "deletable": false,
    "editable": true,
    "nbgrader": {
     "checksum": "3235477df1c67e673aa9b7907b9b31da",
     "grade": true,
     "grade_id": "fewest_unsolved_doc",
     "locked": false,
     "points": 5,
     "schema_version": 1,
     "solution": true
    }
   },
   "source": [
    "The process in creating this function involved:\n",
    "\n",
    "1.creating an empty list to store the tuples of data.\n",
    "\n",
    "2.Creating a for loop which called count_unsolved function and added its output and the entered string into a tuple.\n",
    "\n",
    "3.sorted the list with the fewest remaining undecrypted letters first.\n",
    "\n",
    "4.used the try and except method in the event that the entered string is an empty set which would cause the program to crash, so instead of crashing, returns the user an error statement."
   ]
  },
  {
   "cell_type": "markdown",
   "metadata": {
    "deletable": true,
    "editable": true
   },
   "source": [
    "###  <span style=\"color:teal\">Project 4: &nbsp; Letter Pairs (30 points)</span>"
   ]
  },
  {
   "cell_type": "markdown",
   "metadata": {
    "deletable": true,
    "editable": true
   },
   "source": [
    "An effective strategy for decrypting English text is to consider letters two at a time (see Section 8.4.3 of the textbook for an explanation of why this approach is helpful).\n",
    "\n",
    "For this part of the project, fill in the definition of the function named `make_letter_pairs`.  It will be passed a string, and it should return a matrix $m$, such that $m_{i,j}$ is the frequency with which letters $i$ and $j$ were next to each other in the string.\n",
    "\n",
    "One way to create a matrix in Python is to use a list of lists, but for this project we'll make a dictionary of dictionaries.  If we save the result of the function call in a variable named `m`, we can look up a frequency using indexing.  For example, we can look up the frequency of `'i'` followed by `'e'` by evaluating\n",
    "```\n",
    ">>> m['i']['e']\n",
    "```\n",
    "\n",
    "Here is an example:\n",
    "```\n",
    ">>> m = make_letter_pairs('how now, brown cow?')\n",
    ">>> m\n",
    "{'b': {'r': 0.1},\n",
    " 'c': {'o': 0.1},\n",
    " 'h': {'o': 0.1},\n",
    " 'n': {'o': 0.1},\n",
    " 'o': {'w': 0.4},\n",
    " 'r': {'o': 0.1},\n",
    " 'w': {'n': 0.1}}\n",
    "```\n",
    "\n",
    "The 10 places in this text where there are two letters next to each other are `ho`, `ow`, `no`, `ow`, `br`, `ro`, `ow`, `wn`, `co`, and `ow`.  The combination of `b` followed by `r` occurs only once, so its frequency is 1 / 10 = 0.1:\n",
    "```\n",
    ">>> m['b']['r']\n",
    "0.1\n",
    "```\n",
    "\n",
    "The pair `ow` occurs four times, so its frequency is 4 / 10 = 0.4:\n",
    "```\n",
    ">>> m['o']['w']\n",
    "0.4\n",
    "```\n",
    "\n",
    "**Note**  There is a similar function, named `neighborCount`, defined in the book. You can use this function to get some ideas for how to write your code, but there are some important differences you should be aware of:\n",
    "* the function in the book creates counts, but our function creates frequencies\n",
    "* the function in the book counts in both directions, _e.g._ when it sees the pair `ow` it adds 1 to the count of `ow` and one to the count for `wo`; we count one direction only"
   ]
  },
  {
   "cell_type": "markdown",
   "metadata": {
    "deletable": true,
    "editable": true
   },
   "source": [
    "##### <span style=\"color:red\">Code</span>"
   ]
  },
  {
   "cell_type": "code",
   "execution_count": 82,
   "metadata": {
    "collapsed": true,
    "deletable": false,
    "editable": true,
    "nbgrader": {
     "checksum": "61f40717f5e9c4954241e1f8a88f0183",
     "grade": true,
     "grade_id": "letter_pairs",
     "locked": false,
     "points": 15,
     "schema_version": 1,
     "solution": true
    }
   },
   "outputs": [],
   "source": [
    "def make_letter_pairs(text):\n",
    "    \"\"\"\n",
    "    When passed a string, and it should returns a matrix showing the \n",
    "    frequency of letters next to each other in the string.\n",
    "\n",
    "   :param string text: A given string of text.\n",
    "   :return: a matrix containing the frequency of letters appearing next to each other.\n",
    "   :rtype: dictionary\n",
    "    \"\"\"\n",
    "    ch_dict = {}\n",
    "    n=0\n",
    "    newtext = ''.join(ch for ch in text if ch not in set(punctuation))\n",
    "    newtext.lower()\n",
    "    \n",
    "    for i in range(len(newtext)-1):      #loop that creates matrix of counts\n",
    "        nblist = ch_dict.setdefault(newtext[i],{})\n",
    "        if newtext[i+1] in ascii_lowercase:\n",
    "            nblist[newtext[i+1]] = (nblist.setdefault(newtext[i+1],0)+1)\n",
    "            ch_dict.pop(\" \", None)\n",
    "            \n",
    "    for x in ch_dict:          #loop that iterates through dictionary and creates total count of pair frequencies\n",
    "        for z in ch_dict[x]:\n",
    "            n += (ch_dict[x][z])\n",
    "            \n",
    "    for x in ch_dict:     \n",
    "        for z in ch_dict[x]:\n",
    "            ch_dict[x][z]=(ch_dict[x][z]/n)\n",
    "            \n",
    "    return ch_dict"
   ]
  },
  {
   "cell_type": "markdown",
   "metadata": {
    "deletable": true,
    "editable": true
   },
   "source": [
    "##### <span style=\"color:red\">Autograder Tests</span>"
   ]
  },
  {
   "cell_type": "code",
   "execution_count": 83,
   "metadata": {
    "collapsed": false,
    "deletable": false,
    "editable": false,
    "nbgrader": {
     "checksum": "4196200898ea4db87d559c3d944d8df8",
     "grade": true,
     "grade_id": "letter_pairs_test_1",
     "locked": true,
     "points": 4,
     "schema_version": 1,
     "solution": false
    }
   },
   "outputs": [],
   "source": [
    "# the first test uses the 'brown cow' example\n",
    "m = make_letter_pairs('how now, brown cow?')\n",
    "\n",
    "# there are 7 different letters in the string\n",
    "assert len(m) == 7\n",
    "\n",
    "# check two of the frequencies\n",
    "assert round(m['o']['w'],1) == 0.4\n",
    "assert round(m['r']['o'],1) == 0.1"
   ]
  },
  {
   "cell_type": "code",
   "execution_count": 84,
   "metadata": {
    "collapsed": false,
    "deletable": false,
    "editable": false,
    "nbgrader": {
     "checksum": "d957c0a860adb6771117f55ac0cd211e",
     "grade": true,
     "grade_id": "letter_pairs_test_2",
     "locked": true,
     "points": 2,
     "schema_version": 1,
     "solution": false
    }
   },
   "outputs": [],
   "source": [
    "# the remaining tests are based on frequencies using a large body of text (War of the Worlds, by H. G. Wells)\n",
    "with open('wells.txt') as f:\n",
    "    pp = make_letter_pairs(f.read())\n",
    "\n",
    "# look up some common letter combinations (\"pp\" stands for \"pair probability\")\n",
    "assert round(pp['e']['e'], 3) == 0.006\n",
    "assert round(pp['s']['s'], 3) == 0.004"
   ]
  },
  {
   "cell_type": "code",
   "execution_count": 85,
   "metadata": {
    "collapsed": false,
    "deletable": false,
    "editable": false,
    "nbgrader": {
     "checksum": "b2f992746011e4fe5f49893b5f6837ca",
     "grade": true,
     "grade_id": "letter_pairs_test_3",
     "locked": true,
     "points": 2,
     "schema_version": 1,
     "solution": false
    }
   },
   "outputs": [],
   "source": [
    "# look up some rare combinations (in this book, at least)\n",
    "assert round(pp['r']['z']) < 0.000001\n",
    "assert round(pp['y']['n']) < 0.000001"
   ]
  },
  {
   "cell_type": "code",
   "execution_count": 86,
   "metadata": {
    "collapsed": false,
    "deletable": false,
    "editable": false,
    "nbgrader": {
     "checksum": "cda151fe4056f01fa446c95cdfb4a19a",
     "grade": true,
     "grade_id": "letter_pairs_test_4",
     "locked": true,
     "points": 2,
     "schema_version": 1,
     "solution": false
    }
   },
   "outputs": [],
   "source": [
    "# letter combinations 'jx' and 'kk' never occur in this book\n",
    "assert 'x' not in pp['j']\n",
    "assert 'k' not in pp['k']"
   ]
  },
  {
   "cell_type": "markdown",
   "metadata": {
    "deletable": true,
    "editable": true
   },
   "source": [
    "##### <span style=\"color:red\">Documentation</span>"
   ]
  },
  {
   "cell_type": "markdown",
   "metadata": {
    "collapsed": true,
    "deletable": false,
    "editable": true,
    "nbgrader": {
     "checksum": "1166b51e3e5c6e94483e98ff50b57ede",
     "grade": true,
     "grade_id": "letter_pairs_doc",
     "locked": false,
     "points": 5,
     "schema_version": 1,
     "solution": true
    }
   },
   "source": [
    "\n",
    "The process in creating this function involved:\n",
    "\n",
    "1.creating an empty dictionary and removing punctuation and uppercases from the string.\n",
    "\n",
    "2.Creating a for loop that creates matrix of counts and .pop(\"\") the \"\"value out of the dict.\n",
    "\n",
    "3.creating a loop that iterates through dictionary and creates total count of pair frequencies.\n",
    "\n",
    "4.creating a final loop that iterates though all dict value and divides each entry by total count of pair frequencies.\n"
   ]
  },
  {
   "cell_type": "markdown",
   "metadata": {
    "deletable": true,
    "editable": true
   },
   "source": [
    "###  <span style=\"color:teal\">Project 5: `apply` (15 points)</span>"
   ]
  },
  {
   "cell_type": "markdown",
   "metadata": {
    "deletable": true,
    "editable": true
   },
   "source": [
    "The final part of the project is to write a function named `apply` that will use a decryption key (a dictionary mapping ciphertext letters to plaintext) to update a partially decrypted string.\n",
    "\n",
    "For example, this key replaces X with `'f'`, Z with `'i'`, I with `'s'`, and V with `'h'`:\n",
    "```\n",
    ">>> k = {'X':'f', 'Z':'i', 'I':'s', 'V':'h'}\n",
    "```\n",
    "\n",
    "If we apply the key to the example ciphertext this is the result:\n",
    "```\n",
    ">>> apply(k, 'UEK XZIV, MOU XZIV, RKP XZIV, QHGK XZIV.')\n",
    "'UEK fish, MOU fish, RKP fish, QHGK fish.'\n",
    "```"
   ]
  },
  {
   "cell_type": "markdown",
   "metadata": {
    "deletable": true,
    "editable": true
   },
   "source": [
    "##### <span style=\"color:red\">Code</span>"
   ]
  },
  {
   "cell_type": "code",
   "execution_count": 87,
   "metadata": {
    "collapsed": false,
    "deletable": false,
    "editable": true,
    "nbgrader": {
     "checksum": "278ace3e6414081526b39ff7c000ff20",
     "grade": true,
     "grade_id": "apply",
     "locked": false,
     "points": 6,
     "schema_version": 1,
     "solution": true
    }
   },
   "outputs": [],
   "source": [
    "def apply(key, quote):\n",
    "    \"\"\"\n",
    "    Iterates through each character in a string and replaces character with its decrypted key value.\n",
    "\n",
    "   :param dict key: A given dict containing a decryption key.\n",
    "   :param string quote: a encoded string of text.\n",
    "   :return: a partially decrypted string.\n",
    "   :rtype: string\n",
    "    \"\"\"\n",
    "    for ch in quote:\n",
    "        if ch in key:\n",
    "            quote = quote.replace(ch, key[ch])\n",
    "            \n",
    "    return quote"
   ]
  },
  {
   "cell_type": "markdown",
   "metadata": {
    "deletable": true,
    "editable": true
   },
   "source": [
    "##### <span style=\"color:red\">Autograder Tests</span>"
   ]
  },
  {
   "cell_type": "code",
   "execution_count": 88,
   "metadata": {
    "collapsed": false,
    "deletable": false,
    "editable": false,
    "nbgrader": {
     "checksum": "24a384518c442136d47ea40f890da83a",
     "grade": true,
     "grade_id": "apply_test",
     "locked": true,
     "points": 4,
     "schema_version": 1,
     "solution": false
    }
   },
   "outputs": [],
   "source": [
    "# make a decryption key to use in the tests\n",
    "k = {'X':'f', 'Z':'i', 'I':'s', 'V':'h'}\n",
    "\n",
    "# apply the key \n",
    "assert apply(k,'XZIV') == 'fish'\n",
    "assert apply(k,'UDKLCXZIV') == 'UDKLCfish'\n",
    "assert apply(k,'XMIVZQP') == 'fMshiQP'\n",
    "assert apply(k,'JSBWC') == 'JSBWC'"
   ]
  },
  {
   "cell_type": "markdown",
   "metadata": {
    "deletable": true,
    "editable": true
   },
   "source": [
    "##### <span style=\"color:red\">Documentation</span>"
   ]
  },
  {
   "cell_type": "markdown",
   "metadata": {
    "collapsed": true,
    "deletable": false,
    "editable": true,
    "nbgrader": {
     "checksum": "31601803eb151bfefd4435a547f7161b",
     "grade": true,
     "grade_id": "apply_doc",
     "locked": false,
     "points": 5,
     "schema_version": 1,
     "solution": true
    }
   },
   "source": [
    "The process in creating this function involved:\n",
    "\n",
    "1.iterating over each character in the quote using a for loop.\n",
    "\n",
    "2.checking if the character was a key in the dictionary\n",
    "\n",
    "3.if it was, the character in the string would be replaced by its matching key value."
   ]
  }
 ],
 "metadata": {
  "anaconda-cloud": {},
  "kernelspec": {
   "display_name": "Python [default]",
   "language": "python",
   "name": "python3"
  },
  "language_info": {
   "codemirror_mode": {
    "name": "ipython",
    "version": 3
   },
   "file_extension": ".py",
   "mimetype": "text/x-python",
   "name": "python",
   "nbconvert_exporter": "python",
   "pygments_lexer": "ipython3",
   "version": "3.5.2"
  },
  "toc": {
   "colors": {
    "hover_highlight": "#DAA520",
    "running_highlight": "#FF0000",
    "selected_highlight": "#FFD700"
   },
   "moveMenuLeft": true,
   "nav_menu": {
    "height": "121px",
    "width": "252px"
   },
   "navigate_menu": true,
   "number_sections": true,
   "sideBar": true,
   "threshold": "3",
   "toc_cell": false,
   "toc_section_display": "block",
   "toc_window_display": false,
   "widenNotebook": false
  }
 },
 "nbformat": 4,
 "nbformat_minor": 0
}
