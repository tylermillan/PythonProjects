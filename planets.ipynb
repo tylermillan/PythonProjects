{
 "cells": [
  {
   "cell_type": "markdown",
   "metadata": {
    "deletable": true,
    "editable": true
   },
   "source": [
    "# <span style=\"color:teal;\">CIS 211 Project 3:  OOP</span>"
   ]
  },
  {
   "cell_type": "markdown",
   "metadata": {
    "deletable": true,
    "editable": true
   },
   "source": [
    "##### Due 11:00 P.M. April 21, 2017"
   ]
  },
  {
   "cell_type": "markdown",
   "metadata": {
    "deletable": true,
    "editable": true
   },
   "source": [
    "##### Reading:  M&R 10.1 -- 10.4"
   ]
  },
  {
   "cell_type": "markdown",
   "metadata": {
    "deletable": true,
    "editable": true
   },
   "source": [
    "Our goal this week is to gain some experience writing class definitions for some simple objects.  The classes are part of a solar system simulation.  This week we'll define the objects used in the simulation.  Next week we'll implement the simulation itself, and later in the term we'll add visualization. "
   ]
  },
  {
   "cell_type": "markdown",
   "metadata": {
    "deletable": true,
    "editable": true
   },
   "source": [
    "###  <span style=\"color:teal\">Part 1: Vectors (50 points)</span>"
   ]
  },
  {
   "cell_type": "markdown",
   "metadata": {
    "deletable": true,
    "editable": true
   },
   "source": [
    "Define a class named Vector.  Instances of this class will be Euclidan vectors (https://en.wikipedia.org/wiki/Euclidean_vector).  \n",
    "\n",
    "An instance of this class will have three attributes, representing $x$, $y$, and $z$ coordinates in space.  When a Vector object is created the constructor should be passed three numbers to use as the initial values of the coordinates.\n",
    "\n",
    "Your class should also have:\n",
    "* accessor functions named `x`, `y`, and `z`, which return the current value of the specified coordinate\n",
    "* a `__repr__` function that displays a Vector as a tuple of 3 numbers; use `\"%.3g\"` in the format statement so coordinates are shown with 3 significant digits\n",
    "* methods that implement `==`, `+`, `-`, and `*` operations (see below)\n",
    "* a method named `norm` that computes the length, or magnitude, of the vector, defined by the equation $$ \\lVert \\, v \\, \\rVert = \\sqrt{x^2 + y^2 + z^2} $$\n",
    "* a method named `clear` that sets all coordinates to 0\n",
    "\n",
    "To see if two vectors are equal, simply see if their $x$, $y$, and $z$ components are the same.  If we simply compare floats this will almost certainly fail (due to roundoff errors) when the coordinates are of the size used in the solar system simulation, so your code should use the `round` builtin function to round coordinates to 3 decimal places.\n",
    "\n",
    "To add or subtract two vectors, make a new vector that has the sum or difference of the components of two existing vectors.\n",
    "\n",
    "The method that implemements multiplication should implement scalar multiplication: the second operand should be an integer or a float, and the result is a new vector where all components are multiplied by the scalar.\n",
    "\n",
    "Example:\n",
    "<pre>\n",
    ">>> v1 = Vector(3, 5, 0)\n",
    ">>> v2 = Vector(1, 1, 4)\n",
    "\n",
    ">>> v1.x()\n",
    "3\n",
    "\n",
    ">>> v1.y()\n",
    "5\n",
    "\n",
    ">>> v1.norm()\n",
    "5.830951894845301\n",
    "\n",
    ">>> v1 + v2\n",
    "(4,6,4)\n",
    "\n",
    ">>> v1 - v2\n",
    "(2,4,-4)\n",
    "\n",
    ">>> v2 * 3\n",
    "(3,3,12)\n",
    "\n",
    ">>> v1 + v2 == Vector(4,6,4)\n",
    "True\n",
    "\n",
    ">>> v1.clear()\n",
    ">>> v1\n",
    "(0,0,0)\n",
    "</pre>"
   ]
  },
  {
   "cell_type": "markdown",
   "metadata": {
    "deletable": true,
    "editable": true
   },
   "source": [
    "##### <span style=\"color:red\">Code:</span>"
   ]
  },
  {
   "cell_type": "code",
   "execution_count": 19,
   "metadata": {
    "collapsed": false,
    "deletable": false,
    "editable": true,
    "nbgrader": {
     "checksum": "76a39c7290e45339a4f5faf1ad81194b",
     "grade": true,
     "grade_id": "vector",
     "locked": false,
     "points": 20,
     "schema_version": 1,
     "solution": true
    }
   },
   "outputs": [],
   "source": [
    "from math import sqrt\n",
    "\n",
    "class Vector:\n",
    "    \"\"\"\n",
    "    A Vector object represents a 3 dimensional geometric object that has length and direction in space.\n",
    "    It is represented as the coordninates (x,y,z) which correspond to its location.\n",
    "    \"\"\"\n",
    "    \n",
    "    def __init__(self,x,y,z):\n",
    "        self._x = x\n",
    "        self._y = y\n",
    "        self._z = z\n",
    "        \n",
    "    def __repr__(self):\n",
    "        return \"({:.3g},{:.3g},{:.3g})\".format(self._x,self._y,self._z)\n",
    "    \n",
    "    def x(self):\n",
    "        return self._x\n",
    "    \n",
    "    def y(self):\n",
    "        return self._y\n",
    "    \n",
    "    def z(self):\n",
    "        return self._z\n",
    "    \n",
    "    def norm(self):\n",
    "        \"\"\"\n",
    "        Computes the magnitude of a vector.\n",
    "\n",
    "       :param Vector self: A given Vector of coordinates.\n",
    "       :return: the magnitude of a given vector.\n",
    "       :rtype: float\n",
    "        \"\"\"\n",
    "        return (sqrt((self._x**2)+(self._y**2)+(self._z**2)))\n",
    "    \n",
    "    def __add__(self, other):\n",
    "        return Vector(self._x + other._x, self._y + other._y, self._z + other._z)\n",
    "    \n",
    "    def __sub__(self, other):\n",
    "        return Vector(self._x - other._x, self._y - other._y, self._z - other._z)\n",
    "    \n",
    "    def __mul__(self,other):\n",
    "        return Vector(self._x * other, self._y * other, self._z * other)\n",
    "\n",
    "    def __eq__(self,other):\n",
    "        return Vector((round(self._x-other._x,3) == 0), (round(self._y-other._y,3) == 0) ,round(self._z-other._z,3) == 0)\n",
    "    \n",
    "    def __ne__(self,other):\n",
    "        return Vector((round(self._x-other._x,3) != 0), (round(self._y-other._y,3) != 0) ,round(self._z-other._z,3) != 0)\n",
    "    \n",
    "    def clear(self):\n",
    "        \"\"\"\n",
    "        Clears the value of a Vector to all 0's.\n",
    "\n",
    "       :param Vector self: A given Vector of coordinates.\n",
    "       :return: a Vector of values with coordinates (0,0,0).\n",
    "       :rtype: Vector\n",
    "        \n",
    "        \"\"\"\n",
    "        self._x = 0\n",
    "        self._y = 0\n",
    "        self._z = 0"
   ]
  },
  {
   "cell_type": "markdown",
   "metadata": {
    "deletable": true,
    "editable": true
   },
   "source": [
    "# <span style=\"color:red\">Autograder Tests:</span>"
   ]
  },
  {
   "cell_type": "code",
   "execution_count": 3,
   "metadata": {
    "collapsed": true,
    "deletable": false,
    "editable": false,
    "nbgrader": {
     "checksum": "02e855b8fd9bdd2c007bd2a8c04c66e2",
     "grade": true,
     "grade_id": "vec_setup",
     "locked": true,
     "points": 2,
     "schema_version": 1,
     "solution": false
    }
   },
   "outputs": [],
   "source": [
    "v1 = Vector(1, 1, 1)\n",
    "v2 = Vector(2, 2, 2)\n",
    "v3 = Vector(3, 3, 3)"
   ]
  },
  {
   "cell_type": "code",
   "execution_count": 4,
   "metadata": {
    "collapsed": false,
    "deletable": false,
    "editable": false,
    "nbgrader": {
     "checksum": "43f1dc5d7d3fdceb83095123f249b968",
     "grade": true,
     "grade_id": "vec_repr",
     "locked": true,
     "points": 2,
     "schema_version": 1,
     "solution": false
    }
   },
   "outputs": [],
   "source": [
    "assert str(v1) == '(1,1,1)'\n",
    "assert str(v2) == '(2,2,2)'"
   ]
  },
  {
   "cell_type": "code",
   "execution_count": 5,
   "metadata": {
    "collapsed": false,
    "deletable": false,
    "editable": false,
    "nbgrader": {
     "checksum": "21d1f4b154198cf1696bebf9c10610ef",
     "grade": true,
     "grade_id": "vec_eq",
     "locked": true,
     "points": 2,
     "schema_version": 1,
     "solution": false
    }
   },
   "outputs": [],
   "source": [
    "assert Vector(1, 2, 3) == Vector(1, 2, 3)\n",
    "assert Vector(1, 2, 3) != Vector(1.001, 2.001, 3.001)"
   ]
  },
  {
   "cell_type": "code",
   "execution_count": 6,
   "metadata": {
    "collapsed": false,
    "deletable": false,
    "editable": false,
    "nbgrader": {
     "checksum": "789b0ce178f10928345bc9b69fcf8470",
     "grade": true,
     "grade_id": "sum_test",
     "locked": true,
     "points": 2,
     "schema_version": 1,
     "solution": false
    }
   },
   "outputs": [],
   "source": [
    "assert v1 + v2 == v3"
   ]
  },
  {
   "cell_type": "code",
   "execution_count": 7,
   "metadata": {
    "collapsed": false,
    "deletable": false,
    "editable": false,
    "nbgrader": {
     "checksum": "aacd398551406e4f85d9c9d658b00f19",
     "grade": true,
     "grade_id": "diff_test",
     "locked": true,
     "points": 3,
     "schema_version": 1,
     "solution": false
    }
   },
   "outputs": [],
   "source": [
    "assert v3 - v2 == v1"
   ]
  },
  {
   "cell_type": "code",
   "execution_count": 8,
   "metadata": {
    "collapsed": false,
    "deletable": false,
    "editable": false,
    "nbgrader": {
     "checksum": "58b336adf8669e38c8858001a02dd6d7",
     "grade": true,
     "grade_id": "scale_test",
     "locked": true,
     "points": 3,
     "schema_version": 1,
     "solution": false
    }
   },
   "outputs": [],
   "source": [
    "assert v3 == v1 * 3"
   ]
  },
  {
   "cell_type": "code",
   "execution_count": 9,
   "metadata": {
    "collapsed": false,
    "deletable": false,
    "editable": false,
    "nbgrader": {
     "checksum": "7dcf4143d681b05f3c5d3eda5205a60e",
     "grade": true,
     "grade_id": "mag_test",
     "locked": true,
     "points": 3,
     "schema_version": 1,
     "solution": false
    }
   },
   "outputs": [],
   "source": [
    "assert round(v2.norm(), 10) == round(sqrt(12), 10)"
   ]
  },
  {
   "cell_type": "code",
   "execution_count": 10,
   "metadata": {
    "collapsed": false,
    "deletable": false,
    "editable": false,
    "nbgrader": {
     "checksum": "338538bebe395b7b53d8335dc0fa2a60",
     "grade": true,
     "grade_id": "clear_test",
     "locked": true,
     "points": 3,
     "schema_version": 1,
     "solution": false
    }
   },
   "outputs": [],
   "source": [
    "v1.clear()\n",
    "assert v1 == Vector(0,0,0)"
   ]
  },
  {
   "cell_type": "markdown",
   "metadata": {
    "deletable": true,
    "editable": true
   },
   "source": [
    "##### <span style=\"color:red\">Documentation:</span>"
   ]
  },
  {
   "cell_type": "markdown",
   "metadata": {
    "deletable": false,
    "editable": true,
    "nbgrader": {
     "checksum": "156884bacdc57ae087cabb77786ec6d2",
     "grade": true,
     "grade_id": "doc_1",
     "locked": false,
     "points": 10,
     "schema_version": 1,
     "solution": true
    }
   },
   "source": [
    "The process in creating this class involved:\n",
    "\n",
    "1.defining x,y,z and creating the class through the __init__ function.\n",
    "\n",
    "2.using the __repr__ function to create how each instance of the Vector class should be represented using the\n",
    "{:.3g} formatting to show the first 3 significant figures of each instance.\n",
    "\n",
    "3.creating the norm and clear functions.\n",
    "\n",
    "4.creating all of the operation functions using operating overload."
   ]
  },
  {
   "cell_type": "markdown",
   "metadata": {
    "deletable": true,
    "editable": true
   },
   "source": [
    "###  <span style=\"color:teal\">Part 2: Celestial Bodies (50 points)</span>"
   ]
  },
  {
   "cell_type": "markdown",
   "metadata": {
    "deletable": true,
    "editable": true
   },
   "source": [
    "Define a class named `Body` that can be used to represent objects in an $n$-body simulation, _e.g._ the sun and planets in the solar system.\n",
    "\n",
    "Each instance of this class should have the following attributes:\n",
    "* mass, represented by a single floating point number\n",
    "* position, velocity, and force, each of which is a 3D vector\n",
    "\n",
    "Define the constructor so that all attributes are optional.  The default mass is 0, and position and velocity are (0,0,0).  The force vector should always be initialized to (0,0,0).\n",
    "\n",
    "The representation string for a Body should include the mass, position, and velocity:\n",
    "\n",
    "<pre>\n",
    ">>> Body()\n",
    "0kg (0,0,0) (0,0,0)\n",
    "\n",
    ">>> ep = Vector(-2.700743E+10, 1.446007E+11, 9686451)\n",
    ">>> Body(mass = 5.9736E+24, position = ep)\n",
    "5.97e+24kg (-2.7e+10,1.45e+11,9.69e+06) (0,0,0)\n",
    "</pre>\n",
    "\n",
    "Your class should also include the following:\n",
    "* accessor functions called `mass`, `position`, `velocity`, and `force` that return the corresponding attribute\n",
    "* a method called `direction` which takes another Body object as a parameter and returns a vector that \"points at\" the other Body (see example below)\n",
    "* a method named `clear_force` that sets the force vector to (0,0,0) by calling that vector's `clear` method\n",
    "* an `add_force` method that takes another Body as a parameter and updates the force vector using the equation shown below\n",
    "* a method called `move` that will use the current value of the force vector to update the object's position using the algorithm outlined below.\n",
    "\n",
    "This example illustrates the `direction` method.  Notice how the direction from `b1` to `b2` is the same size but points the other way from the direction from `b2` to `b1`.\n",
    "<pre>\n",
    ">>> b1 = Body(position = Vector(0,1,0))\n",
    ">>> b2 = Body(position = Vector(1,0,0))\n",
    "\n",
    ">>> b1.direction(b2)\n",
    "(1,-1,0)\n",
    "\n",
    ">>> b2.direction(b1)\n",
    "(-1,1,0)\n",
    "</pre>\n",
    "\n",
    "To implement `add_force`, first compute the force pulling a body A toward another body B. Let $\\vec{d}$ be the direction from A to B. Then a vector $\\vec{f}$ that defines the force is\n",
    "\n",
    "$$\n",
    "\\vec{f} = \\frac{\\vec{d} \\times m_\\mathrm{B}}{{\\lVert \\, \\vec{d} \\, \\rVert}^3}\n",
    "$$\n",
    "\n",
    "where $m_\\mathrm{B}$ is the mass of body B.  Add $\\vec{f}$ to the force vector in the object that represents A.\n",
    "\n",
    "The `move` method will take a parameter named `dt` which is a time step size.\n",
    "To move a body A use the accumulated forces created by previous calls to `add_force`.\n",
    "First compute a vector that represents the acceleration of A:\n",
    "\n",
    "$$\n",
    "\\vec{a} = G \\times \\vec{f}_\\mathrm{A} \n",
    "$$\n",
    "\n",
    "where $G$ is the universal gravitational constant and $\\vec{f}_\\mathrm{A}$ is A's force vector.\n",
    "\n",
    "Then update A's velocity vector:\n",
    "$\n",
    "\\vec{v}_\\mathrm{A} = \\vec{v}_\\mathrm{A} + \\vec{a} \\times \\mathtt{dt}\n",
    "$\n",
    "\n",
    "Finally, update A's position vector:\n",
    "$\n",
    "\\vec{p}_\\mathrm{A} =  \\vec{p}_\\mathrm{A} + \\vec{v}_\\mathrm{A} \\times \\mathtt{dt}\n",
    "$\n",
    "\n"
   ]
  },
  {
   "cell_type": "markdown",
   "metadata": {
    "deletable": true,
    "editable": true
   },
   "source": [
    "##### <span style=\"color:red\">Code:</span>"
   ]
  },
  {
   "cell_type": "markdown",
   "metadata": {
    "deletable": true,
    "editable": true
   },
   "source": [
    "Put your class definition in the following code cell.  Note the gravitational constant $G$ has been defined for you."
   ]
  },
  {
   "cell_type": "code",
   "execution_count": 20,
   "metadata": {
    "collapsed": false,
    "deletable": false,
    "editable": true,
    "nbgrader": {
     "checksum": "fca09c854ad31f90dd57a7ceb71cbdd0",
     "grade": true,
     "grade_id": "body",
     "locked": false,
     "points": 20,
     "schema_version": 1,
     "solution": true
    }
   },
   "outputs": [],
   "source": [
    "G = 6.67E-11\n",
    "\n",
    "class Body:\n",
    "    \"\"\"\n",
    "    A Body object represents the state of a celestial body.  A body has mass \n",
    "    (a scalar), position (a vector), and velocity (a vector).  A third vector, \n",
    "    named force, is used when calculating forces acting on a body.\n",
    "    \"\"\"\n",
    "    def __init__(self, mass=0,position=Vector(0,0,0), velocity=Vector(0,0,0), force=Vector(0,0,0)):\n",
    "        self._mass = mass\n",
    "        self._position = position\n",
    "        self._velocity = velocity\n",
    "        self._force = force\n",
    "        \n",
    "    def __repr__(self):\n",
    "        return \"{:.3g}kg {} {}\".format(self._mass,self._position,self._velocity)\n",
    "    \n",
    "    def mass(self):\n",
    "        return self._mass\n",
    "    \n",
    "    def position(self):\n",
    "        return self._position\n",
    "    \n",
    "    def velocity(self): \n",
    "        return self._velocity\n",
    "    \n",
    "    def force(self):\n",
    "        return self._force\n",
    "    \n",
    "    def direction(self, other):\n",
    "        \"\"\"\n",
    "        a method which takes another Body object \n",
    "        as a parameter and returns a vector that \"points at\" the other Body.\n",
    "\n",
    "       :param Body self: A Body object.\n",
    "       :param Body other: Another Body object.\n",
    "       :return: a body object with an updated position vector that \"points at\" the other Body.\n",
    "       :rtype: Body\n",
    "        \"\"\"\n",
    "        return self._position-other._position\n",
    "    \n",
    "    def clear_force(self):\n",
    "        \"\"\"\n",
    "        a method that sets the force vector to (0,0,0) by calling that vector's clear method\n",
    "\n",
    "       :param Body self: A Body object.\n",
    "       :return:A body object with the the force updated with the  force vector\n",
    "       of a Body object to  being reset to (0,0,0).\n",
    "       :rtype: Body\n",
    "        \n",
    "        \"\"\"\n",
    "        return self._force.clear()\n",
    "            \n",
    "    def add_force(self,other):\n",
    "        \"\"\"\n",
    "        a method that computes a force of an object pulling on the force of another object.\n",
    "\n",
    "       :param Body self: A Body object.\n",
    "       :param Body other: Another Body object.\n",
    "       :return: A body object with the the force updated with the force its is being pulled on by another object.\n",
    "       :rtype: Body\n",
    "        \n",
    "        \"\"\"\n",
    "        self._force = self._force - ((self.direction(other)) * ((other._mass) / (self.direction(other).norm()**3)))\n",
    "        return self._force\n",
    "    \n",
    "    def move(self,dt):\n",
    "        \"\"\"\n",
    "        a method that uses the current value of the force vector to update the object's position\n",
    "        with the objects acceleration\n",
    "\n",
    "       :param Body self: A Body object.\n",
    "       :param number dt: a time step size \n",
    "       :return: Body object with an updated position vector .\n",
    "       :rtype: Body\n",
    "        \n",
    "        \"\"\"\n",
    "        A= self._force * G\n",
    "        self._velocity = self._velocity+A*dt\n",
    "        self._position = self._position + self._velocity*dt"
   ]
  },
  {
   "cell_type": "markdown",
   "metadata": {
    "deletable": true,
    "editable": true
   },
   "source": [
    "##### <span style=\"color:red\">Tests:</span>"
   ]
  },
  {
   "cell_type": "markdown",
   "metadata": {
    "deletable": true,
    "editable": true
   },
   "source": [
    "**Optional** &nbsp; If you want to do your own tests use the code cell below to create and test objects.  You can add additional cells here if you want."
   ]
  },
  {
   "cell_type": "code",
   "execution_count": 21,
   "metadata": {
    "collapsed": false,
    "deletable": true,
    "editable": true
   },
   "outputs": [
    {
     "data": {
      "text/plain": [
       "(0,0,0)"
      ]
     },
     "execution_count": 21,
     "metadata": {},
     "output_type": "execute_result"
    }
   ],
   "source": [
    "melon = Body(mass=3.0, position=Vector(0,6371000,0))\n",
    "earth = Body(mass=5.9736E+24)\n",
    "\n",
    "melon.move(1)\n",
    "melon.velocity()"
   ]
  },
  {
   "cell_type": "markdown",
   "metadata": {
    "deletable": true,
    "editable": true
   },
   "source": [
    "##### <span style=\"color:red\">Autograder Tests:</span>"
   ]
  },
  {
   "cell_type": "code",
   "execution_count": 22,
   "metadata": {
    "collapsed": false,
    "deletable": false,
    "editable": false,
    "nbgrader": {
     "checksum": "6c2a1390231f6d6decec7830dad48d1d",
     "grade": true,
     "grade_id": "body_setup",
     "locked": true,
     "points": 3,
     "schema_version": 1,
     "solution": false
    }
   },
   "outputs": [],
   "source": [
    "melon = Body(mass=3.0, position=Vector(0,6371000,0))\n",
    "earth = Body(mass=5.9736E+24)"
   ]
  },
  {
   "cell_type": "code",
   "execution_count": 23,
   "metadata": {
    "collapsed": false,
    "deletable": false,
    "editable": false,
    "nbgrader": {
     "checksum": "5719c05c63f1d01ddcdd994f686fcbb4",
     "grade": true,
     "grade_id": "body_repr",
     "locked": true,
     "points": 3,
     "schema_version": 1,
     "solution": false
    }
   },
   "outputs": [],
   "source": [
    "assert str(melon) == \"3kg (0,6.37e+06,0) (0,0,0)\"\n",
    "assert str(earth) == \"5.97e+24kg (0,0,0) (0,0,0)\""
   ]
  },
  {
   "cell_type": "code",
   "execution_count": 24,
   "metadata": {
    "collapsed": false,
    "deletable": false,
    "editable": false,
    "nbgrader": {
     "checksum": "7ab22db81259e22be58e5423ddb75077",
     "grade": true,
     "grade_id": "dir_test",
     "locked": true,
     "points": 3,
     "schema_version": 1,
     "solution": false
    }
   },
   "outputs": [],
   "source": [
    "assert earth.direction(melon) == Vector(0,6371000,0)\n",
    "assert melon.direction(earth) == Vector(0,-6371000,0)"
   ]
  },
  {
   "cell_type": "code",
   "execution_count": 25,
   "metadata": {
    "collapsed": false,
    "deletable": false,
    "editable": false,
    "nbgrader": {
     "checksum": "6f1d43c8a605c7ac83ce0519f33fcf6f",
     "grade": true,
     "grade_id": "add_force_test",
     "locked": true,
     "points": 4,
     "schema_version": 1,
     "solution": false
    }
   },
   "outputs": [],
   "source": [
    "melon.add_force(earth)\n",
    "assert -1.48e+11 < melon.force().y() < -1.47e+11"
   ]
  },
  {
   "cell_type": "code",
   "execution_count": 26,
   "metadata": {
    "collapsed": false,
    "deletable": false,
    "editable": false,
    "nbgrader": {
     "checksum": "2185bdb3c0daa3860b1d2523c5a0a57b",
     "grade": true,
     "grade_id": "move_test",
     "locked": true,
     "points": 4,
     "schema_version": 1,
     "solution": false
    }
   },
   "outputs": [],
   "source": [
    "melon.move(1)\n",
    "assert 6370990 < melon.position().y() < 6371000"
   ]
  },
  {
   "cell_type": "code",
   "execution_count": 27,
   "metadata": {
    "collapsed": false,
    "deletable": false,
    "editable": false,
    "nbgrader": {
     "checksum": "3a77808f92c58b4b23484036c5ea84e8",
     "grade": true,
     "grade_id": "clear_force_test",
     "locked": true,
     "points": 3,
     "schema_version": 1,
     "solution": false
    }
   },
   "outputs": [],
   "source": [
    "melon.clear_force()\n",
    "assert melon.force() == Vector(0,0,0)"
   ]
  },
  {
   "cell_type": "markdown",
   "metadata": {
    "deletable": true,
    "editable": true
   },
   "source": [
    "##### <span style=\"color:red\">Documentation:</span>"
   ]
  },
  {
   "cell_type": "markdown",
   "metadata": {
    "collapsed": true,
    "deletable": false,
    "editable": true,
    "nbgrader": {
     "checksum": "60009593bb2ea1b8f502e4c248cfff4e",
     "grade": true,
     "grade_id": "doc_2",
     "locked": false,
     "points": 10,
     "schema_version": 1,
     "solution": true
    }
   },
   "source": [
    "The process in creating this class involved:\n",
    "\n",
    "1.creating default values for all defined variables of class Body and defining those in the __init__ function.\n",
    "\n",
    "2.defining all the created variables of the class. \n",
    "\n",
    "3.creating the .direction function which involved subtracting vectors from one another.\n",
    "\n",
    "4.creating the .clear_force which just called upon the previous .clear function created in the Vector class.\n",
    "\n",
    "5.creating the add_force function which made calls to the .direction function as well as the .norm function from the Vector class.\n",
    "\n",
    "5.Lastly creating the move function which made calls the value created in the .add_force function."
   ]
  },
  {
   "cell_type": "code",
   "execution_count": null,
   "metadata": {
    "collapsed": true
   },
   "outputs": [],
   "source": []
  }
 ],
 "metadata": {
  "anaconda-cloud": {},
  "kernelspec": {
   "display_name": "Python [default]",
   "language": "python",
   "name": "python3"
  },
  "language_info": {
   "codemirror_mode": {
    "name": "ipython",
    "version": 3
   },
   "file_extension": ".py",
   "mimetype": "text/x-python",
   "name": "python",
   "nbconvert_exporter": "python",
   "pygments_lexer": "ipython3",
   "version": "3.5.2"
  }
 },
 "nbformat": 4,
 "nbformat_minor": 0
}
